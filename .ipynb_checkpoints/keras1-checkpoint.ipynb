{
 "cells": [
  {
   "cell_type": "code",
   "execution_count": 1,
   "metadata": {},
   "outputs": [
    {
     "name": "stdout",
     "output_type": "stream",
     "text": [
      "Collecting pip\n",
      "\u001b[?25l  Downloading https://files.pythonhosted.org/packages/00/b6/9cfa56b4081ad13874b0c6f96af8ce16cfbc1cb06bedf8e9164ce5551ec1/pip-19.3.1-py2.py3-none-any.whl (1.4MB)\n",
      "\u001b[K    100% |████████████████████████████████| 1.4MB 23.0MB/s ta 0:00:01\n",
      "\u001b[?25hInstalling collected packages: pip\n",
      "  Found existing installation: pip 10.0.1\n",
      "    Uninstalling pip-10.0.1:\n",
      "      Successfully uninstalled pip-10.0.1\n",
      "Successfully installed pip-19.3.1\n",
      "Collecting setuptools\n",
      "\u001b[?25l  Downloading https://files.pythonhosted.org/packages/6a/9a/50fadfd53ec909e4399b67c74cc7f4e883488035cfcdb90b685758fa8b34/setuptools-41.4.0-py2.py3-none-any.whl (580kB)\n",
      "\u001b[K     |████████████████████████████████| 583kB 3.2MB/s eta 0:00:01\n",
      "\u001b[?25hInstalling collected packages: setuptools\n",
      "  Found existing installation: setuptools 39.1.0\n",
      "    Uninstalling setuptools-39.1.0:\n",
      "      Successfully uninstalled setuptools-39.1.0\n",
      "Successfully installed setuptools-41.4.0\n"
     ]
    }
   ],
   "source": [
    "!pip install --upgrade pip\n",
    "!pip install --upgrade setuptools"
   ]
  },
  {
   "cell_type": "code",
   "execution_count": 2,
   "metadata": {
    "scrolled": false
   },
   "outputs": [
    {
     "name": "stdout",
     "output_type": "stream",
     "text": [
      "Collecting swifter\n",
      "  Downloading https://files.pythonhosted.org/packages/12/36/ebb9bf506d4f1b6cbef292640a356d74f89969b4e8db11ffbeb30f0ea2af/swifter-0.295.tar.gz\n",
      "Requirement already satisfied: pandas>=0.23.0 in /home/ec2-user/anaconda3/envs/python3/lib/python3.6/site-packages (from swifter) (0.24.2)\n",
      "Requirement already satisfied: psutil in /home/ec2-user/anaconda3/envs/python3/lib/python3.6/site-packages (from swifter) (5.4.5)\n",
      "Collecting dask[complete]>=0.19.0\n",
      "\u001b[?25l  Downloading https://files.pythonhosted.org/packages/f8/70/b7e55088c6a6c9d5e786c85738d92e99c4bf085fc4009d5ffe483cd6b44f/dask-2.6.0-py3-none-any.whl (760kB)\n",
      "\u001b[K     |████████████████████████████████| 768kB 4.8MB/s eta 0:00:01\n",
      "\u001b[?25hCollecting tqdm>=4.33.0\n",
      "\u001b[?25l  Downloading https://files.pythonhosted.org/packages/e1/c1/bc1dba38b48f4ae3c4428aea669c5e27bd5a7642a74c8348451e0bd8ff86/tqdm-4.36.1-py2.py3-none-any.whl (52kB)\n",
      "\u001b[K     |████████████████████████████████| 61kB 1.7MB/s  eta 0:00:01\n",
      "\u001b[?25hRequirement already satisfied: ipywidgets>=7.0.0 in /home/ec2-user/anaconda3/envs/python3/lib/python3.6/site-packages (from swifter) (7.4.0)\n",
      "Collecting parso>0.4.0\n",
      "\u001b[?25l  Downloading https://files.pythonhosted.org/packages/a3/bd/bf4e5bd01d79906e5b945a7af033154da49fd2b0d5b5c705a21330323305/parso-0.5.1-py2.py3-none-any.whl (95kB)\n",
      "\u001b[K     |████████████████████████████████| 102kB 20.5MB/s ta 0:00:01\n",
      "\u001b[?25hRequirement already satisfied: numba in /home/ec2-user/anaconda3/envs/python3/lib/python3.6/site-packages (from swifter) (0.38.0)\n",
      "Requirement already satisfied: pytz>=2011k in /home/ec2-user/anaconda3/envs/python3/lib/python3.6/site-packages (from pandas>=0.23.0->swifter) (2018.4)\n",
      "Requirement already satisfied: python-dateutil>=2.5.0 in /home/ec2-user/anaconda3/envs/python3/lib/python3.6/site-packages (from pandas>=0.23.0->swifter) (2.7.3)\n",
      "Requirement already satisfied: numpy>=1.12.0 in /home/ec2-user/anaconda3/envs/python3/lib/python3.6/site-packages (from pandas>=0.23.0->swifter) (1.14.3)\n",
      "Requirement already satisfied: cloudpickle>=0.2.1; extra == \"complete\" in /home/ec2-user/anaconda3/envs/python3/lib/python3.6/site-packages (from dask[complete]>=0.19.0->swifter) (0.5.3)\n",
      "Collecting distributed>=2.0; extra == \"complete\"\n",
      "\u001b[?25l  Downloading https://files.pythonhosted.org/packages/8b/11/8ce552c3bf61cdb798cfba19dcd10d07ecbdae26a8ba57fce85f19eb9205/distributed-2.6.0-py3-none-any.whl (560kB)\n",
      "\u001b[K     |████████████████████████████████| 563kB 46.2MB/s eta 0:00:01\n",
      "\u001b[?25hRequirement already satisfied: toolz>=0.7.3; extra == \"complete\" in /home/ec2-user/anaconda3/envs/python3/lib/python3.6/site-packages (from dask[complete]>=0.19.0->swifter) (0.9.0)\n",
      "Requirement already satisfied: bokeh>=1.0.0; extra == \"complete\" in /home/ec2-user/anaconda3/envs/python3/lib/python3.6/site-packages (from dask[complete]>=0.19.0->swifter) (1.0.4)\n",
      "Collecting fsspec>=0.5.1; extra == \"complete\"\n",
      "\u001b[?25l  Downloading https://files.pythonhosted.org/packages/54/18/59f1850336568168144a746afa7199a0311f1a89bdb7b0d8e8b50d2c3d93/fsspec-0.5.2.tar.gz (64kB)\n",
      "\u001b[K     |████████████████████████████████| 71kB 16.0MB/s eta 0:00:01\n",
      "\u001b[?25hCollecting partd>=0.3.10; extra == \"complete\"\n",
      "  Downloading https://files.pythonhosted.org/packages/8b/17/09c352519da1db31634979c3aa9126078e9ece0f561c5f641e0649b78905/partd-1.0.0-py2.py3-none-any.whl\n",
      "Requirement already satisfied: widgetsnbextension~=3.4.0 in /home/ec2-user/anaconda3/envs/python3/lib/python3.6/site-packages (from ipywidgets>=7.0.0->swifter) (3.4.2)\n",
      "Requirement already satisfied: ipykernel>=4.5.1 in /home/ec2-user/anaconda3/envs/python3/lib/python3.6/site-packages (from ipywidgets>=7.0.0->swifter) (4.8.2)\n",
      "Requirement already satisfied: traitlets>=4.3.1 in /home/ec2-user/anaconda3/envs/python3/lib/python3.6/site-packages (from ipywidgets>=7.0.0->swifter) (4.3.2)\n",
      "Requirement already satisfied: ipython>=4.0.0; python_version >= \"3.3\" in /home/ec2-user/anaconda3/envs/python3/lib/python3.6/site-packages (from ipywidgets>=7.0.0->swifter) (6.4.0)\n",
      "Requirement already satisfied: nbformat>=4.2.0 in /home/ec2-user/anaconda3/envs/python3/lib/python3.6/site-packages (from ipywidgets>=7.0.0->swifter) (4.4.0)\n",
      "Requirement already satisfied: llvmlite>=0.23.0dev0 in /home/ec2-user/anaconda3/envs/python3/lib/python3.6/site-packages (from numba->swifter) (0.23.1)\n",
      "Requirement already satisfied: six>=1.5 in /home/ec2-user/anaconda3/envs/python3/lib/python3.6/site-packages (from python-dateutil>=2.5.0->pandas>=0.23.0->swifter) (1.11.0)\n",
      "Requirement already satisfied: tblib in /home/ec2-user/anaconda3/envs/python3/lib/python3.6/site-packages (from distributed>=2.0; extra == \"complete\"->dask[complete]>=0.19.0->swifter) (1.3.2)\n",
      "Requirement already satisfied: zict>=0.1.3 in /home/ec2-user/anaconda3/envs/python3/lib/python3.6/site-packages (from distributed>=2.0; extra == \"complete\"->dask[complete]>=0.19.0->swifter) (0.1.3)\n",
      "Requirement already satisfied: pyyaml in /home/ec2-user/anaconda3/envs/python3/lib/python3.6/site-packages (from distributed>=2.0; extra == \"complete\"->dask[complete]>=0.19.0->swifter) (3.12)\n",
      "Requirement already satisfied: tornado>=5 in /home/ec2-user/anaconda3/envs/python3/lib/python3.6/site-packages (from distributed>=2.0; extra == \"complete\"->dask[complete]>=0.19.0->swifter) (5.0.2)\n",
      "Requirement already satisfied: sortedcontainers!=2.0.0,!=2.0.1 in /home/ec2-user/anaconda3/envs/python3/lib/python3.6/site-packages (from distributed>=2.0; extra == \"complete\"->dask[complete]>=0.19.0->swifter) (1.5.10)\n",
      "Requirement already satisfied: click>=6.6 in /home/ec2-user/anaconda3/envs/python3/lib/python3.6/site-packages (from distributed>=2.0; extra == \"complete\"->dask[complete]>=0.19.0->swifter) (6.7)\n",
      "Requirement already satisfied: msgpack in /home/ec2-user/anaconda3/envs/python3/lib/python3.6/site-packages (from distributed>=2.0; extra == \"complete\"->dask[complete]>=0.19.0->swifter) (0.6.0)\n",
      "Requirement already satisfied: packaging>=16.8 in /home/ec2-user/anaconda3/envs/python3/lib/python3.6/site-packages (from bokeh>=1.0.0; extra == \"complete\"->dask[complete]>=0.19.0->swifter) (17.1)\n",
      "Requirement already satisfied: pillow>=4.0 in /home/ec2-user/anaconda3/envs/python3/lib/python3.6/site-packages (from bokeh>=1.0.0; extra == \"complete\"->dask[complete]>=0.19.0->swifter) (5.2.0)\n",
      "Requirement already satisfied: Jinja2>=2.7 in /home/ec2-user/anaconda3/envs/python3/lib/python3.6/site-packages (from bokeh>=1.0.0; extra == \"complete\"->dask[complete]>=0.19.0->swifter) (2.10)\n",
      "Requirement already satisfied: locket in /home/ec2-user/anaconda3/envs/python3/lib/python3.6/site-packages (from partd>=0.3.10; extra == \"complete\"->dask[complete]>=0.19.0->swifter) (0.2.0)\n",
      "Requirement already satisfied: notebook>=4.4.1 in /home/ec2-user/anaconda3/envs/python3/lib/python3.6/site-packages (from widgetsnbextension~=3.4.0->ipywidgets>=7.0.0->swifter) (5.5.0)\n",
      "Requirement already satisfied: jupyter_client in /home/ec2-user/anaconda3/envs/python3/lib/python3.6/site-packages (from ipykernel>=4.5.1->ipywidgets>=7.0.0->swifter) (5.2.3)\n",
      "Requirement already satisfied: ipython_genutils in /home/ec2-user/anaconda3/envs/python3/lib/python3.6/site-packages (from traitlets>=4.3.1->ipywidgets>=7.0.0->swifter) (0.2.0)\n",
      "Requirement already satisfied: decorator in /home/ec2-user/anaconda3/envs/python3/lib/python3.6/site-packages (from traitlets>=4.3.1->ipywidgets>=7.0.0->swifter) (4.3.0)\n",
      "Requirement already satisfied: pygments in /home/ec2-user/anaconda3/envs/python3/lib/python3.6/site-packages (from ipython>=4.0.0; python_version >= \"3.3\"->ipywidgets>=7.0.0->swifter) (2.2.0)\n",
      "Requirement already satisfied: backcall in /home/ec2-user/anaconda3/envs/python3/lib/python3.6/site-packages (from ipython>=4.0.0; python_version >= \"3.3\"->ipywidgets>=7.0.0->swifter) (0.1.0)\n",
      "Requirement already satisfied: prompt-toolkit<2.0.0,>=1.0.15 in /home/ec2-user/anaconda3/envs/python3/lib/python3.6/site-packages (from ipython>=4.0.0; python_version >= \"3.3\"->ipywidgets>=7.0.0->swifter) (1.0.15)\n",
      "Requirement already satisfied: pexpect; sys_platform != \"win32\" in /home/ec2-user/anaconda3/envs/python3/lib/python3.6/site-packages (from ipython>=4.0.0; python_version >= \"3.3\"->ipywidgets>=7.0.0->swifter) (4.5.0)\n",
      "Requirement already satisfied: pickleshare in /home/ec2-user/anaconda3/envs/python3/lib/python3.6/site-packages (from ipython>=4.0.0; python_version >= \"3.3\"->ipywidgets>=7.0.0->swifter) (0.7.4)\n",
      "Requirement already satisfied: jedi>=0.10 in /home/ec2-user/anaconda3/envs/python3/lib/python3.6/site-packages (from ipython>=4.0.0; python_version >= \"3.3\"->ipywidgets>=7.0.0->swifter) (0.12.0)\n",
      "Requirement already satisfied: setuptools>=18.5 in /home/ec2-user/anaconda3/envs/python3/lib/python3.6/site-packages (from ipython>=4.0.0; python_version >= \"3.3\"->ipywidgets>=7.0.0->swifter) (41.4.0)\n",
      "Requirement already satisfied: simplegeneric>0.8 in /home/ec2-user/anaconda3/envs/python3/lib/python3.6/site-packages (from ipython>=4.0.0; python_version >= \"3.3\"->ipywidgets>=7.0.0->swifter) (0.8.1)\n",
      "Requirement already satisfied: jsonschema!=2.5.0,>=2.4 in /home/ec2-user/anaconda3/envs/python3/lib/python3.6/site-packages (from nbformat>=4.2.0->ipywidgets>=7.0.0->swifter) (2.6.0)\n",
      "Requirement already satisfied: jupyter_core in /home/ec2-user/anaconda3/envs/python3/lib/python3.6/site-packages (from nbformat>=4.2.0->ipywidgets>=7.0.0->swifter) (4.4.0)\n",
      "Requirement already satisfied: heapdict in /home/ec2-user/anaconda3/envs/python3/lib/python3.6/site-packages (from zict>=0.1.3->distributed>=2.0; extra == \"complete\"->dask[complete]>=0.19.0->swifter) (1.0.0)\n",
      "Requirement already satisfied: pyparsing>=2.0.2 in /home/ec2-user/anaconda3/envs/python3/lib/python3.6/site-packages (from packaging>=16.8->bokeh>=1.0.0; extra == \"complete\"->dask[complete]>=0.19.0->swifter) (2.2.0)\n",
      "Requirement already satisfied: MarkupSafe>=0.23 in /home/ec2-user/anaconda3/envs/python3/lib/python3.6/site-packages (from Jinja2>=2.7->bokeh>=1.0.0; extra == \"complete\"->dask[complete]>=0.19.0->swifter) (1.0)\n",
      "Requirement already satisfied: pyzmq>=17 in /home/ec2-user/anaconda3/envs/python3/lib/python3.6/site-packages (from notebook>=4.4.1->widgetsnbextension~=3.4.0->ipywidgets>=7.0.0->swifter) (17.0.0)\n",
      "Requirement already satisfied: nbconvert in /home/ec2-user/anaconda3/envs/python3/lib/python3.6/site-packages (from notebook>=4.4.1->widgetsnbextension~=3.4.0->ipywidgets>=7.0.0->swifter) (5.4.1)\n"
     ]
    },
    {
     "name": "stdout",
     "output_type": "stream",
     "text": [
      "Requirement already satisfied: Send2Trash in /home/ec2-user/anaconda3/envs/python3/lib/python3.6/site-packages (from notebook>=4.4.1->widgetsnbextension~=3.4.0->ipywidgets>=7.0.0->swifter) (1.5.0)\n",
      "Requirement already satisfied: terminado>=0.8.1 in /home/ec2-user/anaconda3/envs/python3/lib/python3.6/site-packages (from notebook>=4.4.1->widgetsnbextension~=3.4.0->ipywidgets>=7.0.0->swifter) (0.8.1)\n",
      "Requirement already satisfied: wcwidth in /home/ec2-user/anaconda3/envs/python3/lib/python3.6/site-packages (from prompt-toolkit<2.0.0,>=1.0.15->ipython>=4.0.0; python_version >= \"3.3\"->ipywidgets>=7.0.0->swifter) (0.1.7)\n",
      "Requirement already satisfied: ptyprocess>=0.5 in /home/ec2-user/anaconda3/envs/python3/lib/python3.6/site-packages (from pexpect; sys_platform != \"win32\"->ipython>=4.0.0; python_version >= \"3.3\"->ipywidgets>=7.0.0->swifter) (0.5.2)\n",
      "Requirement already satisfied: mistune>=0.8.1 in /home/ec2-user/anaconda3/envs/python3/lib/python3.6/site-packages (from nbconvert->notebook>=4.4.1->widgetsnbextension~=3.4.0->ipywidgets>=7.0.0->swifter) (0.8.3)\n",
      "Requirement already satisfied: entrypoints>=0.2.2 in /home/ec2-user/anaconda3/envs/python3/lib/python3.6/site-packages (from nbconvert->notebook>=4.4.1->widgetsnbextension~=3.4.0->ipywidgets>=7.0.0->swifter) (0.2.3)\n",
      "Requirement already satisfied: bleach in /home/ec2-user/anaconda3/envs/python3/lib/python3.6/site-packages (from nbconvert->notebook>=4.4.1->widgetsnbextension~=3.4.0->ipywidgets>=7.0.0->swifter) (2.1.3)\n",
      "Requirement already satisfied: pandocfilters>=1.4.1 in /home/ec2-user/anaconda3/envs/python3/lib/python3.6/site-packages (from nbconvert->notebook>=4.4.1->widgetsnbextension~=3.4.0->ipywidgets>=7.0.0->swifter) (1.4.2)\n",
      "Requirement already satisfied: testpath in /home/ec2-user/anaconda3/envs/python3/lib/python3.6/site-packages (from nbconvert->notebook>=4.4.1->widgetsnbextension~=3.4.0->ipywidgets>=7.0.0->swifter) (0.3.1)\n",
      "Requirement already satisfied: defusedxml in /home/ec2-user/anaconda3/envs/python3/lib/python3.6/site-packages (from nbconvert->notebook>=4.4.1->widgetsnbextension~=3.4.0->ipywidgets>=7.0.0->swifter) (0.6.0)\n",
      "Requirement already satisfied: html5lib!=1.0b1,!=1.0b2,!=1.0b3,!=1.0b4,!=1.0b5,!=1.0b6,!=1.0b7,!=1.0b8,>=0.99999999pre in /home/ec2-user/anaconda3/envs/python3/lib/python3.6/site-packages (from bleach->nbconvert->notebook>=4.4.1->widgetsnbextension~=3.4.0->ipywidgets>=7.0.0->swifter) (1.0.1)\n",
      "Requirement already satisfied: webencodings in /home/ec2-user/anaconda3/envs/python3/lib/python3.6/site-packages (from html5lib!=1.0b1,!=1.0b2,!=1.0b3,!=1.0b4,!=1.0b5,!=1.0b6,!=1.0b7,!=1.0b8,>=0.99999999pre->bleach->nbconvert->notebook>=4.4.1->widgetsnbextension~=3.4.0->ipywidgets>=7.0.0->swifter) (0.5.1)\n",
      "Building wheels for collected packages: swifter, fsspec\n",
      "  Building wheel for swifter (setup.py) ... \u001b[?25ldone\n",
      "\u001b[?25h  Created wheel for swifter: filename=swifter-0.295-cp36-none-any.whl size=6648 sha256=059746d8ac9fca5cccbc073c766ea546bb3e9786cf681285a2fe9b96d8acb313\n",
      "  Stored in directory: /home/ec2-user/.cache/pip/wheels/7a/45/c9/3f3efdf849089406d6601314016dd99f8b15480944e3bf8dad\n",
      "  Building wheel for fsspec (setup.py) ... \u001b[?25ldone\n",
      "\u001b[?25h  Created wheel for fsspec: filename=fsspec-0.5.2-cp36-none-any.whl size=56435 sha256=727b4eb6ab19fadf2d2b4b61a4dc536e1d072a8d241457a1f9432fb5026e7e69\n",
      "  Stored in directory: /home/ec2-user/.cache/pip/wheels/6f/da/92/d854f08bad999b49e3ff84d5ddb3646f755fb24fe4d95c3356\n",
      "Successfully built swifter fsspec\n",
      "Installing collected packages: distributed, fsspec, partd, dask, tqdm, parso, swifter\n",
      "  Found existing installation: distributed 1.21.8\n",
      "    Uninstalling distributed-1.21.8:\n",
      "      Successfully uninstalled distributed-1.21.8\n",
      "  Found existing installation: partd 0.3.8\n",
      "    Uninstalling partd-0.3.8:\n",
      "      Successfully uninstalled partd-0.3.8\n",
      "  Found existing installation: dask 0.17.5\n",
      "    Uninstalling dask-0.17.5:\n",
      "      Successfully uninstalled dask-0.17.5\n",
      "  Found existing installation: parso 0.2.0\n",
      "    Uninstalling parso-0.2.0:\n",
      "      Successfully uninstalled parso-0.2.0\n",
      "Successfully installed dask-2.6.0 distributed-2.6.0 fsspec-0.5.2 parso-0.5.1 partd-1.0.0 swifter-0.295 tqdm-4.36.1\n",
      "[nltk_data] Downloading package wordnet to /home/ec2-user/nltk_data...\n",
      "[nltk_data]   Unzipping corpora/wordnet.zip.\n",
      "[nltk_data] Downloading package punkt to /home/ec2-user/nltk_data...\n",
      "[nltk_data]   Unzipping tokenizers/punkt.zip.\n"
     ]
    }
   ],
   "source": [
    "!pip install swifter\n",
    "import numpy as np\n",
    "import swifter\n",
    "import pandas as pd\n",
    "import matplotlib.pyplot as plt\n",
    "from sklearn.model_selection import train_test_split, GridSearchCV, cross_val_score\n",
    "from sklearn.linear_model import LogisticRegression\n",
    "from sklearn.dummy import DummyClassifier\n",
    "from sklearn.metrics import confusion_matrix, accuracy_score, f1_score, recall_score, precision_score\n",
    "from sklearn.preprocessing import MinMaxScaler\n",
    "from sklearn.feature_extraction.text import CountVectorizer, TfidfVectorizer\n",
    "from sklearn.externals import joblib\n",
    "from sklearn.pipeline import Pipeline\n",
    "from sklearn.ensemble import AdaBoostClassifier, GradientBoostingClassifier\n",
    "from sklearn.svm import SVC\n",
    "import pickle \n",
    "import seaborn as sns\n",
    "import os\n",
    "import boto3\n",
    "import re\n",
    "pd.set_option(\"max_columns\", 100)\n",
    "import warnings  \n",
    "warnings.filterwarnings('ignore')\n",
    "%load_ext autoreload\n",
    "%autoreload 2\n",
    "pd.set_option('display.float_format', lambda x: '%.3f' % x)\n",
    "import data_prep as d\n",
    "import functions as f\n",
    "from sagemaker import get_execution_role"
   ]
  },
  {
   "cell_type": "code",
   "execution_count": 4,
   "metadata": {},
   "outputs": [
    {
     "name": "stdout",
     "output_type": "stream",
     "text": [
      "Collecting keras\n",
      "\u001b[?25l  Downloading https://files.pythonhosted.org/packages/ad/fd/6bfe87920d7f4fd475acd28500a42482b6b84479832bdc0fe9e589a60ceb/Keras-2.3.1-py2.py3-none-any.whl (377kB)\n",
      "\u001b[K     |████████████████████████████████| 378kB 3.2MB/s eta 0:00:01\n",
      "\u001b[?25hRequirement already satisfied: six>=1.9.0 in /home/ec2-user/anaconda3/envs/python3/lib/python3.6/site-packages (from keras) (1.11.0)\n",
      "Collecting keras-preprocessing>=1.0.5\n",
      "\u001b[?25l  Downloading https://files.pythonhosted.org/packages/28/6a/8c1f62c37212d9fc441a7e26736df51ce6f0e38455816445471f10da4f0a/Keras_Preprocessing-1.1.0-py2.py3-none-any.whl (41kB)\n",
      "\u001b[K     |████████████████████████████████| 51kB 12.2MB/s eta 0:00:01\n",
      "\u001b[?25hRequirement already satisfied: scipy>=0.14 in /home/ec2-user/anaconda3/envs/python3/lib/python3.6/site-packages (from keras) (1.1.0)\n",
      "Requirement already satisfied: pyyaml in /home/ec2-user/anaconda3/envs/python3/lib/python3.6/site-packages (from keras) (3.12)\n",
      "Collecting keras-applications>=1.0.6\n",
      "\u001b[?25l  Downloading https://files.pythonhosted.org/packages/71/e3/19762fdfc62877ae9102edf6342d71b28fbfd9dea3d2f96a882ce099b03f/Keras_Applications-1.0.8-py3-none-any.whl (50kB)\n",
      "\u001b[K     |████████████████████████████████| 51kB 12.8MB/s eta 0:00:01\n",
      "\u001b[?25hRequirement already satisfied: h5py in /home/ec2-user/anaconda3/envs/python3/lib/python3.6/site-packages (from keras) (2.8.0)\n",
      "Requirement already satisfied: numpy>=1.9.1 in /home/ec2-user/anaconda3/envs/python3/lib/python3.6/site-packages (from keras) (1.14.3)\n",
      "Installing collected packages: keras-preprocessing, keras-applications, keras\n",
      "Successfully installed keras-2.3.1 keras-applications-1.0.8 keras-preprocessing-1.1.0\n",
      "Collecting wrapt\n",
      "  Downloading https://files.pythonhosted.org/packages/23/84/323c2415280bc4fc880ac5050dddfb3c8062c2552b34c2e512eb4aa68f79/wrapt-1.11.2.tar.gz\n",
      "Building wheels for collected packages: wrapt\n",
      "  Building wheel for wrapt (setup.py) ... \u001b[?25ldone\n",
      "\u001b[?25h  Created wheel for wrapt: filename=wrapt-1.11.2-cp36-cp36m-linux_x86_64.whl size=65850 sha256=35b0b224b73232e40a4481e3d86df9804efef3de59a12215d94e9a53ebbe1fe1\n",
      "  Stored in directory: /home/ec2-user/.cache/pip/wheels/d7/de/2e/efa132238792efb6459a96e85916ef8597fcb3d2ae51590dfd\n",
      "Successfully built wrapt\n",
      "Installing collected packages: wrapt\n",
      "Successfully installed wrapt-1.11.2\n",
      "Collecting tensorflow\n",
      "\u001b[?25l  Downloading https://files.pythonhosted.org/packages/46/0f/7bd55361168bb32796b360ad15a25de6966c9c1beb58a8e30c01c8279862/tensorflow-2.0.0-cp36-cp36m-manylinux2010_x86_64.whl (86.3MB)\n",
      "\u001b[K     |████████████████████████████████| 86.3MB 64kB/s s eta 0:00:01\n",
      "\u001b[?25hCollecting keras-preprocessing>=1.0.5\n",
      "  Using cached https://files.pythonhosted.org/packages/28/6a/8c1f62c37212d9fc441a7e26736df51ce6f0e38455816445471f10da4f0a/Keras_Preprocessing-1.1.0-py2.py3-none-any.whl\n",
      "Collecting google-pasta>=0.1.6\n",
      "\u001b[?25l  Downloading https://files.pythonhosted.org/packages/d0/33/376510eb8d6246f3c30545f416b2263eee461e40940c2a4413c711bdf62d/google_pasta-0.1.7-py3-none-any.whl (52kB)\n",
      "\u001b[K     |████████████████████████████████| 61kB 2.3MB/s  eta 0:00:01\n",
      "\u001b[?25hCollecting six>=1.10.0\n",
      "  Downloading https://files.pythonhosted.org/packages/73/fb/00a976f728d0d1fecfe898238ce23f502a721c0ac0ecfedb80e0d88c64e9/six-1.12.0-py2.py3-none-any.whl\n",
      "Collecting grpcio>=1.8.6\n",
      "\u001b[?25l  Downloading https://files.pythonhosted.org/packages/e8/cb/ebf7b54c5d4ad521d88ee7826dfa0fc3ac84502361ad7e5cb739ea5057a4/grpcio-1.24.1-cp36-cp36m-manylinux1_x86_64.whl (2.3MB)\n",
      "\u001b[K     |████████████████████████████████| 2.3MB 38.7MB/s eta 0:00:01\n",
      "\u001b[?25hCollecting opt-einsum>=2.3.2\n",
      "\u001b[?25l  Downloading https://files.pythonhosted.org/packages/b8/83/755bd5324777875e9dff19c2e59daec837d0378c09196634524a3d7269ac/opt_einsum-3.1.0.tar.gz (69kB)\n",
      "\u001b[K     |████████████████████████████████| 71kB 15.9MB/s eta 0:00:01\n",
      "\u001b[?25hCollecting astor>=0.6.0\n",
      "  Downloading https://files.pythonhosted.org/packages/d1/4f/950dfae467b384fc96bc6469de25d832534f6b4441033c39f914efd13418/astor-0.8.0-py2.py3-none-any.whl\n",
      "Processing /home/ec2-user/.cache/pip/wheels/d7/de/2e/efa132238792efb6459a96e85916ef8597fcb3d2ae51590dfd/wrapt-1.11.2-cp36-cp36m-linux_x86_64.whl\n",
      "Collecting wheel>=0.26\n",
      "  Downloading https://files.pythonhosted.org/packages/00/83/b4a77d044e78ad1a45610eb88f745be2fd2c6d658f9798a15e384b7d57c9/wheel-0.33.6-py2.py3-none-any.whl\n",
      "Collecting gast==0.2.2\n",
      "  Downloading https://files.pythonhosted.org/packages/4e/35/11749bf99b2d4e3cceb4d55ca22590b0d7c2c62b9de38ac4a4a7f4687421/gast-0.2.2.tar.gz\n",
      "Collecting tensorboard<2.1.0,>=2.0.0\n",
      "\u001b[?25l  Downloading https://files.pythonhosted.org/packages/9b/a6/e8ffa4e2ddb216449d34cfcb825ebb38206bee5c4553d69e7bc8bc2c5d64/tensorboard-2.0.0-py3-none-any.whl (3.8MB)\n",
      "\u001b[K     |████████████████████████████████| 3.8MB 40.1MB/s eta 0:00:01\n",
      "\u001b[?25hCollecting protobuf>=3.6.1\n",
      "\u001b[?25l  Downloading https://files.pythonhosted.org/packages/a8/52/d8d2dbff74b8bf517c42db8d44c3f9ef6555e6f5d6caddfa3f207b9143df/protobuf-3.10.0-cp36-cp36m-manylinux1_x86_64.whl (1.3MB)\n",
      "\u001b[K     |████████████████████████████████| 1.3MB 40.6MB/s eta 0:00:01\n",
      "\u001b[?25hCollecting tensorflow-estimator<2.1.0,>=2.0.0\n",
      "\u001b[?25l  Downloading https://files.pythonhosted.org/packages/fc/08/8b927337b7019c374719145d1dceba21a8bb909b93b1ad6f8fb7d22c1ca1/tensorflow_estimator-2.0.1-py2.py3-none-any.whl (449kB)\n",
      "\u001b[K     |████████████████████████████████| 450kB 50.8MB/s eta 0:00:01\n",
      "\u001b[?25hCollecting numpy<2.0,>=1.16.0\n",
      "\u001b[?25l  Downloading https://files.pythonhosted.org/packages/0e/46/ae6773894f7eacf53308086287897ec568eac9768918d913d5b9d366c5db/numpy-1.17.3-cp36-cp36m-manylinux1_x86_64.whl (20.0MB)\n",
      "\u001b[K     |████████████████████████████████| 20.0MB 39.4MB/s eta 0:00:01\n",
      "\u001b[?25hCollecting absl-py>=0.7.0\n",
      "\u001b[?25l  Downloading https://files.pythonhosted.org/packages/3b/72/e6e483e2db953c11efa44ee21c5fdb6505c4dffa447b4263ca8af6676b62/absl-py-0.8.1.tar.gz (103kB)\n",
      "\u001b[K     |████████████████████████████████| 112kB 56.5MB/s eta 0:00:01\n",
      "\u001b[?25hCollecting termcolor>=1.1.0\n",
      "  Downloading https://files.pythonhosted.org/packages/8a/48/a76be51647d0eb9f10e2a4511bf3ffb8cc1e6b14e9e4fab46173aa79f981/termcolor-1.1.0.tar.gz\n",
      "Collecting keras-applications>=1.0.8\n",
      "  Using cached https://files.pythonhosted.org/packages/71/e3/19762fdfc62877ae9102edf6342d71b28fbfd9dea3d2f96a882ce099b03f/Keras_Applications-1.0.8-py3-none-any.whl\n",
      "Collecting setuptools>=41.0.0\n",
      "  Using cached https://files.pythonhosted.org/packages/6a/9a/50fadfd53ec909e4399b67c74cc7f4e883488035cfcdb90b685758fa8b34/setuptools-41.4.0-py2.py3-none-any.whl\n",
      "Collecting markdown>=2.6.8\n",
      "\u001b[?25l  Downloading https://files.pythonhosted.org/packages/c0/4e/fd492e91abdc2d2fcb70ef453064d980688762079397f779758e055f6575/Markdown-3.1.1-py2.py3-none-any.whl (87kB)\n",
      "\u001b[K     |████████████████████████████████| 92kB 18.7MB/s eta 0:00:01\n",
      "\u001b[?25hCollecting werkzeug>=0.11.15\n",
      "\u001b[?25l  Downloading https://files.pythonhosted.org/packages/ce/42/3aeda98f96e85fd26180534d36570e4d18108d62ae36f87694b476b83d6f/Werkzeug-0.16.0-py2.py3-none-any.whl (327kB)\n",
      "\u001b[K     |████████████████████████████████| 327kB 59.7MB/s eta 0:00:01\n",
      "\u001b[?25hCollecting h5py\n",
      "\u001b[?25l  Downloading https://files.pythonhosted.org/packages/60/06/cafdd44889200e5438b897388f3075b52a8ef01f28a17366d91de0fa2d05/h5py-2.10.0-cp36-cp36m-manylinux1_x86_64.whl (2.9MB)\n",
      "\u001b[K     |████████████████████████████████| 2.9MB 43.3MB/s eta 0:00:01\n",
      "\u001b[?25hBuilding wheels for collected packages: opt-einsum, gast, absl-py, termcolor\n",
      "  Building wheel for opt-einsum (setup.py) ... \u001b[?25ldone\n",
      "\u001b[?25h  Created wheel for opt-einsum: filename=opt_einsum-3.1.0-cp36-none-any.whl size=60860 sha256=b5e50f53ddbc0a17c32335e17943b29fc5e925c644a6f779517f84b6e82ff90e\n",
      "  Stored in directory: /home/ec2-user/.cache/pip/wheels/2c/b1/94/43d03e130b929aae7ba3f8d15cbd7bc0d1cb5bb38a5c721833\n",
      "  Building wheel for gast (setup.py) ... \u001b[?25ldone\n",
      "\u001b[?25h  Created wheel for gast: filename=gast-0.2.2-cp36-none-any.whl size=6588 sha256=c76c8f012e1dab39c9821c28c7e8eb668ecf666c5d09303d8299b31a7aab7df5\n",
      "  Stored in directory: /home/ec2-user/.cache/pip/wheels/5c/2e/7e/a1d4d4fcebe6c381f378ce7743a3ced3699feb89bcfbdadadd\n",
      "  Building wheel for absl-py (setup.py) ... \u001b[?25ldone\n",
      "\u001b[?25h  Created wheel for absl-py: filename=absl_py-0.8.1-cp36-none-any.whl size=117035 sha256=bc8ed0c252857a88837e0166db9e4a1ea7d5e31256aa37d5544bfd70bde2bdc8\n",
      "  Stored in directory: /home/ec2-user/.cache/pip/wheels/a7/15/a0/0a0561549ad11cdc1bc8fa1191a353efd30facf6bfb507aefc\n"
     ]
    },
    {
     "name": "stdout",
     "output_type": "stream",
     "text": [
      "  Building wheel for termcolor (setup.py) ... \u001b[?25ldone\n",
      "\u001b[?25h  Created wheel for termcolor: filename=termcolor-1.1.0-cp36-none-any.whl size=4003 sha256=aa157fbd65966b2cfc448d2db3fbbc50910abd9a5eea866c8f5f4e84fe1ce291\n",
      "  Stored in directory: /home/ec2-user/.cache/pip/wheels/7c/06/54/bc84598ba1daf8f970247f550b175aaaee85f68b4b0c5ab2c6\n",
      "Successfully built opt-einsum gast absl-py termcolor\n",
      "Installing collected packages: numpy, six, keras-preprocessing, google-pasta, grpcio, opt-einsum, astor, wrapt, wheel, gast, setuptools, markdown, absl-py, protobuf, werkzeug, tensorboard, tensorflow-estimator, termcolor, h5py, keras-applications, tensorflow\n",
      "Successfully installed absl-py-0.8.1 astor-0.8.0 gast-0.2.2 google-pasta-0.1.7 grpcio-1.24.1 h5py-2.10.0 keras-applications-1.0.8 keras-preprocessing-1.1.0 markdown-3.1.1 numpy-1.17.3 opt-einsum-3.1.0 protobuf-3.10.0 setuptools-41.4.0 six-1.12.0 tensorboard-2.0.0 tensorflow-2.0.0 tensorflow-estimator-2.0.1 termcolor-1.1.0 werkzeug-0.16.0 wheel-0.33.6 wrapt-1.11.2\n"
     ]
    },
    {
     "name": "stderr",
     "output_type": "stream",
     "text": [
      "Using TensorFlow backend.\n"
     ]
    }
   ],
   "source": [
    "!pip install keras\n",
    "!pip install wrapt --upgrade --ignore-installed\n",
    "!pip install --upgrade tensorflow --ignore-installed\n",
    "from sklearn import preprocessing\n",
    "from keras.utils.np_utils import to_categorical\n",
    "from keras.preprocessing.text import Tokenizer\n",
    "from keras import models, layers, optimizers\n",
    "from keras.layers import Dense, Dropout, Activation\n",
    "from keras.callbacks import EarlyStopping"
   ]
  },
  {
   "cell_type": "code",
   "execution_count": 18,
   "metadata": {},
   "outputs": [],
   "source": [
    "import numpy as np"
   ]
  },
  {
   "cell_type": "code",
   "execution_count": 15,
   "metadata": {},
   "outputs": [
    {
     "name": "stdout",
     "output_type": "stream",
     "text": [
      "\u001b[33mWARNING: Skipping numpy as it is not installed.\u001b[0m\r\n"
     ]
    }
   ],
   "source": [
    "!pip uninstall numpy --y"
   ]
  },
  {
   "cell_type": "code",
   "execution_count": 16,
   "metadata": {},
   "outputs": [
    {
     "name": "stdout",
     "output_type": "stream",
     "text": [
      "Collecting numpy\n",
      "  Using cached https://files.pythonhosted.org/packages/0e/46/ae6773894f7eacf53308086287897ec568eac9768918d913d5b9d366c5db/numpy-1.17.3-cp36-cp36m-manylinux1_x86_64.whl\n",
      "Installing collected packages: numpy\n",
      "Successfully installed numpy-1.17.3\n"
     ]
    }
   ],
   "source": [
    "!pip install --upgrade numpy"
   ]
  },
  {
   "cell_type": "code",
   "execution_count": 6,
   "metadata": {
    "scrolled": true
   },
   "outputs": [],
   "source": [
    "data = pd.read_csv('data_cleaned.csv')"
   ]
  },
  {
   "cell_type": "code",
   "execution_count": null,
   "metadata": {},
   "outputs": [],
   "source": []
  },
  {
   "cell_type": "code",
   "execution_count": 7,
   "metadata": {},
   "outputs": [],
   "source": [
    "data = data.loc[~(data.comment_text.isna())]"
   ]
  },
  {
   "cell_type": "code",
   "execution_count": 8,
   "metadata": {},
   "outputs": [],
   "source": [
    "from keras import backend as K\n",
    "\n",
    "def recall_m(y_true, y_pred):\n",
    "        true_positives = K.sum(K.round(K.clip(y_true * y_pred, 0, 1)))\n",
    "        possible_positives = K.sum(K.round(K.clip(y_true, 0, 1)))\n",
    "        recall = true_positives / (possible_positives + K.epsilon())\n",
    "        return recall\n",
    "\n",
    "def precision_m(y_true, y_pred):\n",
    "        true_positives = K.sum(K.round(K.clip(y_true * y_pred, 0, 1)))\n",
    "        predicted_positives = K.sum(K.round(K.clip(y_pred, 0, 1)))\n",
    "        precision = true_positives / (predicted_positives + K.epsilon())\n",
    "        return precision\n",
    "\n",
    "def f1_m(y_true, y_pred):\n",
    "    precision = precision_m(y_true, y_pred)\n",
    "    recall = recall_m(y_true, y_pred)\n",
    "    return 2*((precision*recall)/(precision+recall+K.epsilon()))"
   ]
  },
  {
   "cell_type": "code",
   "execution_count": 19,
   "metadata": {
    "scrolled": true
   },
   "outputs": [
    {
     "data": {
      "application/vnd.jupyter.widget-view+json": {
       "model_id": "61102ccd911e4d8e9cd6356771a7ce43",
       "version_major": 2,
       "version_minor": 0
      },
      "text/plain": [
       "HBox(children=(IntProgress(value=0, description='Pandas Apply', max=405109, style=ProgressStyle(description_wi…"
      ]
     },
     "metadata": {},
     "output_type": "display_data"
    },
    {
     "name": "stdout",
     "output_type": "stream",
     "text": [
      "\n"
     ]
    },
    {
     "ename": "NameError",
     "evalue": "name 'dispatcher' is not defined",
     "output_type": "error",
     "traceback": [
      "\u001b[0;31m---------------------------------------------------------------------------\u001b[0m",
      "\u001b[0;31mNameError\u001b[0m                                 Traceback (most recent call last)",
      "\u001b[0;32m<ipython-input-19-79ce7d2bca51>\u001b[0m in \u001b[0;36m<module>\u001b[0;34m()\u001b[0m\n\u001b[0;32m----> 1\u001b[0;31m \u001b[0mdata\u001b[0m\u001b[0;34m[\u001b[0m\u001b[0;34m'target_category'\u001b[0m\u001b[0;34m]\u001b[0m \u001b[0;34m=\u001b[0m \u001b[0mdata\u001b[0m\u001b[0;34m.\u001b[0m\u001b[0mtarget\u001b[0m\u001b[0;34m.\u001b[0m\u001b[0mswifter\u001b[0m\u001b[0;34m.\u001b[0m\u001b[0mapply\u001b[0m\u001b[0;34m(\u001b[0m\u001b[0;32mlambda\u001b[0m \u001b[0mx\u001b[0m\u001b[0;34m:\u001b[0m \u001b[0;36m2\u001b[0m \u001b[0;32mif\u001b[0m \u001b[0mx\u001b[0m\u001b[0;34m>=\u001b[0m\u001b[0;36m.5\u001b[0m \u001b[0;32melse\u001b[0m \u001b[0;34m(\u001b[0m\u001b[0;36m0\u001b[0m \u001b[0;32mif\u001b[0m \u001b[0mx\u001b[0m\u001b[0;34m<=\u001b[0m\u001b[0;36m.2\u001b[0m \u001b[0;32melse\u001b[0m \u001b[0;36m1\u001b[0m\u001b[0;34m)\u001b[0m\u001b[0;34m)\u001b[0m\u001b[0;34m\u001b[0m\u001b[0m\n\u001b[0m",
      "\u001b[0;32m~/anaconda3/envs/python3/lib/python3.6/site-packages/pandas/core/frame.py\u001b[0m in \u001b[0;36m__setitem__\u001b[0;34m(self, key, value)\u001b[0m\n\u001b[1;32m   3368\u001b[0m         \u001b[0;32melse\u001b[0m\u001b[0;34m:\u001b[0m\u001b[0;34m\u001b[0m\u001b[0m\n\u001b[1;32m   3369\u001b[0m             \u001b[0;31m# set column\u001b[0m\u001b[0;34m\u001b[0m\u001b[0;34m\u001b[0m\u001b[0m\n\u001b[0;32m-> 3370\u001b[0;31m             \u001b[0mself\u001b[0m\u001b[0;34m.\u001b[0m\u001b[0m_set_item\u001b[0m\u001b[0;34m(\u001b[0m\u001b[0mkey\u001b[0m\u001b[0;34m,\u001b[0m \u001b[0mvalue\u001b[0m\u001b[0;34m)\u001b[0m\u001b[0;34m\u001b[0m\u001b[0m\n\u001b[0m\u001b[1;32m   3371\u001b[0m \u001b[0;34m\u001b[0m\u001b[0m\n\u001b[1;32m   3372\u001b[0m     \u001b[0;32mdef\u001b[0m \u001b[0m_setitem_slice\u001b[0m\u001b[0;34m(\u001b[0m\u001b[0mself\u001b[0m\u001b[0;34m,\u001b[0m \u001b[0mkey\u001b[0m\u001b[0;34m,\u001b[0m \u001b[0mvalue\u001b[0m\u001b[0;34m)\u001b[0m\u001b[0;34m:\u001b[0m\u001b[0;34m\u001b[0m\u001b[0m\n",
      "\u001b[0;32m~/anaconda3/envs/python3/lib/python3.6/site-packages/pandas/core/frame.py\u001b[0m in \u001b[0;36m_set_item\u001b[0;34m(self, key, value)\u001b[0m\n\u001b[1;32m   3443\u001b[0m \u001b[0;34m\u001b[0m\u001b[0m\n\u001b[1;32m   3444\u001b[0m         \u001b[0mself\u001b[0m\u001b[0;34m.\u001b[0m\u001b[0m_ensure_valid_index\u001b[0m\u001b[0;34m(\u001b[0m\u001b[0mvalue\u001b[0m\u001b[0;34m)\u001b[0m\u001b[0;34m\u001b[0m\u001b[0m\n\u001b[0;32m-> 3445\u001b[0;31m         \u001b[0mvalue\u001b[0m \u001b[0;34m=\u001b[0m \u001b[0mself\u001b[0m\u001b[0;34m.\u001b[0m\u001b[0m_sanitize_column\u001b[0m\u001b[0;34m(\u001b[0m\u001b[0mkey\u001b[0m\u001b[0;34m,\u001b[0m \u001b[0mvalue\u001b[0m\u001b[0;34m)\u001b[0m\u001b[0;34m\u001b[0m\u001b[0m\n\u001b[0m\u001b[1;32m   3446\u001b[0m         \u001b[0mNDFrame\u001b[0m\u001b[0;34m.\u001b[0m\u001b[0m_set_item\u001b[0m\u001b[0;34m(\u001b[0m\u001b[0mself\u001b[0m\u001b[0;34m,\u001b[0m \u001b[0mkey\u001b[0m\u001b[0;34m,\u001b[0m \u001b[0mvalue\u001b[0m\u001b[0;34m)\u001b[0m\u001b[0;34m\u001b[0m\u001b[0m\n\u001b[1;32m   3447\u001b[0m \u001b[0;34m\u001b[0m\u001b[0m\n",
      "\u001b[0;32m~/anaconda3/envs/python3/lib/python3.6/site-packages/pandas/core/frame.py\u001b[0m in \u001b[0;36m_sanitize_column\u001b[0;34m(self, key, value, broadcast)\u001b[0m\n\u001b[1;32m   3666\u001b[0m                     \u001b[0mvalue\u001b[0m \u001b[0;34m=\u001b[0m \u001b[0mnp\u001b[0m\u001b[0;34m.\u001b[0m\u001b[0mtile\u001b[0m\u001b[0;34m(\u001b[0m\u001b[0mvalue\u001b[0m\u001b[0;34m,\u001b[0m \u001b[0;34m(\u001b[0m\u001b[0mlen\u001b[0m\u001b[0;34m(\u001b[0m\u001b[0mexisting_piece\u001b[0m\u001b[0;34m.\u001b[0m\u001b[0mcolumns\u001b[0m\u001b[0;34m)\u001b[0m\u001b[0;34m,\u001b[0m \u001b[0;36m1\u001b[0m\u001b[0;34m)\u001b[0m\u001b[0;34m)\u001b[0m\u001b[0;34m\u001b[0m\u001b[0m\n\u001b[1;32m   3667\u001b[0m \u001b[0;34m\u001b[0m\u001b[0m\n\u001b[0;32m-> 3668\u001b[0;31m         \u001b[0;32mreturn\u001b[0m \u001b[0mnp\u001b[0m\u001b[0;34m.\u001b[0m\u001b[0matleast_2d\u001b[0m\u001b[0;34m(\u001b[0m\u001b[0mnp\u001b[0m\u001b[0;34m.\u001b[0m\u001b[0masarray\u001b[0m\u001b[0;34m(\u001b[0m\u001b[0mvalue\u001b[0m\u001b[0;34m)\u001b[0m\u001b[0;34m)\u001b[0m\u001b[0;34m\u001b[0m\u001b[0m\n\u001b[0m\u001b[1;32m   3669\u001b[0m \u001b[0;34m\u001b[0m\u001b[0m\n\u001b[1;32m   3670\u001b[0m     \u001b[0;34m@\u001b[0m\u001b[0mproperty\u001b[0m\u001b[0;34m\u001b[0m\u001b[0m\n",
      "\u001b[0;32m~/anaconda3/envs/python3/lib/python3.6/site-packages/numpy/core/shape_base.py\u001b[0m in \u001b[0;36matleast_2d\u001b[0;34m(*args, **kwargs)\u001b[0m\n",
      "\u001b[0;31mNameError\u001b[0m: name 'dispatcher' is not defined"
     ]
    }
   ],
   "source": [
    "data['target_category'] = data.target.swifter.apply(lambda x: 2 if x>=.5 else (0 if x<=.2 else 1))"
   ]
  },
  {
   "cell_type": "code",
   "execution_count": 9,
   "metadata": {},
   "outputs": [],
   "source": [
    "data = data.reset_index(drop=True)"
   ]
  },
  {
   "cell_type": "code",
   "execution_count": 10,
   "metadata": {},
   "outputs": [],
   "source": [
    "X = data.drop(columns = ['target_category'])\n",
    "y = data['target_category']"
   ]
  },
  {
   "cell_type": "code",
   "execution_count": 11,
   "metadata": {},
   "outputs": [],
   "source": [
    "X_train, X_test, y_train, y_test = train_test_split(X,\n",
    "                                                    y,\n",
    "                                                    test_size=.33,\n",
    "                                                    random_state=42,\n",
    "                                                    stratify=y)"
   ]
  },
  {
   "cell_type": "code",
   "execution_count": 12,
   "metadata": {
    "scrolled": true
   },
   "outputs": [
    {
     "name": "stdout",
     "output_type": "stream",
     "text": [
      "sequences type: <class 'list'>\n",
      "one_hot_results type: <class 'numpy.ndarray'>\n",
      "Found 151301 unique tokens.\n",
      "Original complaint text:\n",
      "this is a fantastic idea assignment kids will have to think about each country and landscape many schools just use rote memorization rather than something that will stick with the kiddos ww by calling this out are you making some claim against this assignment i assume you all have a vast understanding of multiple intelligence theory and this is an arts focused school where presumably art is integrated into the curriculum as much as possible creativity in the classroom is hard to come by stay out of its way please\n",
      "\n",
      "\n",
      "\n",
      "Decoded review from Tokenizer:\n",
      "this is a fantastic idea kids will have to think about each country and many schools just use rather than something that will stick with the ww by calling this out are you making some claim against this i assume you all have a vast understanding of multiple intelligence theory and this is an arts focused school where presumably art is into the as much as possible in the classroom is hard to come by stay out of its way please\n"
     ]
    }
   ],
   "source": [
    "comments = data[\"comment_text\"]\n",
    "\n",
    "tokenizer = Tokenizer(num_words=6000)\n",
    "\n",
    "tokenizer.fit_on_texts(comments)\n",
    "\n",
    "sequences = tokenizer.texts_to_sequences(comments)\n",
    "\n",
    "print('sequences type:', type(sequences))\n",
    "\n",
    "one_hot_results= tokenizer.texts_to_matrix(comments, mode='binary')\n",
    "\n",
    "print('one_hot_results type:', type(one_hot_results))\n",
    "\n",
    "word_index = tokenizer.word_index\n",
    "\n",
    "print('Found %s unique tokens.' % len(word_index))\n",
    "\n",
    "reverse_index = dict([(value, key) for (key, value) in word_index.items()])\n",
    "\n",
    "comment_idx_to_preview = 19\n",
    "print('Original complaint text:')\n",
    "print(comments[comment_idx_to_preview])\n",
    "print('\\n\\n')\n",
    "\n",
    "decoded_review = ' '.join([reverse_index.get(i) for i in sequences[comment_idx_to_preview]])\n",
    "\n",
    "print('Decoded review from Tokenizer:')\n",
    "print(decoded_review)"
   ]
  },
  {
   "cell_type": "code",
   "execution_count": 13,
   "metadata": {},
   "outputs": [
    {
     "name": "stdout",
     "output_type": "stream",
     "text": [
      "Original class labels:\n",
      "[0, 1, 2]\n",
      "\n",
      "\n",
      "New target labels:\n",
      "[2 1 2 ... 0 0 0]\n",
      "\n",
      "\n",
      "One hot labels; 2 binary columns, one for each of the categories.\n",
      "[[0. 0. 1.]\n",
      " [0. 1. 0.]\n",
      " [0. 0. 1.]\n",
      " ...\n",
      " [1. 0. 0.]\n",
      " [1. 0. 0.]\n",
      " [1. 0. 0.]]\n",
      "\n",
      "\n",
      "One hot labels shape:\n",
      "(405109, 3)\n"
     ]
    },
    {
     "data": {
      "text/plain": [
       "121532.7"
      ]
     },
     "execution_count": 13,
     "metadata": {},
     "output_type": "execute_result"
    }
   ],
   "source": [
    "target = data[\"target_category\"]\n",
    "\n",
    "le = preprocessing.LabelEncoder() #Initialize. le used as abbreviation fo label encoder\n",
    "le.fit(target)\n",
    "print(\"Original class labels:\")\n",
    "print(list(le.classes_))\n",
    "print('\\n')\n",
    "target_cat = le.transform(target)  \n",
    "#list(le.inverse_transform([0, 1, 3, 3, 0, 6, 4])) #If you wish to retrieve the original descriptive labels post production\n",
    "\n",
    "print('New target labels:')\n",
    "print(target_cat)\n",
    "print('\\n')\n",
    "\n",
    "\n",
    "print('One hot labels; 2 binary columns, one for each of the categories.') #Each row will be all zeros except for the category for that observation.\n",
    "target_onehot = to_categorical(target_cat)\n",
    "print(target_onehot)\n",
    "print('\\n')\n",
    "\n",
    "print('One hot labels shape:')\n",
    "print(np.shape(target_onehot))"
   ]
  },
  {
   "cell_type": "code",
   "execution_count": 21,
   "metadata": {},
   "outputs": [],
   "source": [
    "test_index = list(X_test.index)"
   ]
  },
  {
   "cell_type": "code",
   "execution_count": 19,
   "metadata": {},
   "outputs": [
    {
     "data": {
      "text/plain": [
       "pandas.core.indexes.numeric.Int64Index"
      ]
     },
     "execution_count": 19,
     "metadata": {},
     "output_type": "execute_result"
    }
   ],
   "source": [
    "type(y_train.index)"
   ]
  },
  {
   "cell_type": "code",
   "execution_count": 18,
   "metadata": {},
   "outputs": [
    {
     "data": {
      "text/plain": [
       "list"
      ]
     },
     "execution_count": 18,
     "metadata": {},
     "output_type": "execute_result"
    }
   ],
   "source": [
    "type(random.sample(range(0, int(len(data))), int(round(len(data)/3))))"
   ]
  },
  {
   "cell_type": "code",
   "execution_count": 22,
   "metadata": {},
   "outputs": [
    {
     "name": "stdout",
     "output_type": "stream",
     "text": [
      "Test label shape: (133686, 3)\n",
      "Train label shape: (271423, 3)\n",
      "Test shape: (133686, 6000)\n",
      "Train shape: (271423, 6000)\n",
      "Train on 217138 samples, validate on 54285 samples\n",
      "Epoch 1/120\n",
      "217138/217138 [==============================] - 33s 153us/step - loss: 0.6896 - accuracy: 0.7846 - f1_m: 0.7630 - precision_m: 0.7796 - recall_m: 0.7584 - val_loss: 0.6852 - val_accuracy: 0.7684 - val_f1_m: 0.7687 - val_precision_m: 0.7687 - val_recall_m: 0.7687\n",
      "Epoch 2/120\n",
      "217138/217138 [==============================] - 33s 152us/step - loss: 0.6430 - accuracy: 0.7873 - f1_m: 0.7873 - precision_m: 0.7874 - recall_m: 0.7872 - val_loss: 0.6584 - val_accuracy: 0.7684 - val_f1_m: 0.7689 - val_precision_m: 0.7693 - val_recall_m: 0.7685\n",
      "Epoch 3/120\n",
      "217138/217138 [==============================] - 33s 152us/step - loss: 0.6224 - accuracy: 0.7873 - f1_m: 0.7877 - precision_m: 0.7912 - recall_m: 0.7843 - val_loss: 0.6359 - val_accuracy: 0.7687 - val_f1_m: 0.7705 - val_precision_m: 0.7773 - val_recall_m: 0.7639\n",
      "Epoch 4/120\n",
      "217138/217138 [==============================] - 33s 152us/step - loss: 0.6057 - accuracy: 0.7882 - f1_m: 0.7882 - precision_m: 0.8006 - recall_m: 0.7763 - val_loss: 0.6178 - val_accuracy: 0.7710 - val_f1_m: 0.7720 - val_precision_m: 0.7878 - val_recall_m: 0.7569\n",
      "Epoch 5/120\n",
      "217138/217138 [==============================] - 33s 153us/step - loss: 0.5923 - accuracy: 0.7904 - f1_m: 0.7891 - precision_m: 0.8096 - recall_m: 0.7697 - val_loss: 0.6018 - val_accuracy: 0.7747 - val_f1_m: 0.7741 - val_precision_m: 0.7987 - val_recall_m: 0.7512\n",
      "Epoch 6/120\n",
      "217138/217138 [==============================] - 33s 152us/step - loss: 0.5794 - accuracy: 0.7929 - f1_m: 0.7910 - precision_m: 0.8172 - recall_m: 0.7666 - val_loss: 0.5878 - val_accuracy: 0.7786 - val_f1_m: 0.7767 - val_precision_m: 0.8072 - val_recall_m: 0.7487\n",
      "Epoch 7/120\n",
      "217138/217138 [==============================] - 33s 152us/step - loss: 0.5690 - accuracy: 0.7960 - f1_m: 0.7935 - precision_m: 0.8234 - recall_m: 0.7658 - val_loss: 0.5754 - val_accuracy: 0.7847 - val_f1_m: 0.7802 - val_precision_m: 0.8198 - val_recall_m: 0.7446\n",
      "Epoch 8/120\n",
      "217138/217138 [==============================] - 33s 152us/step - loss: 0.5594 - accuracy: 0.7990 - f1_m: 0.7964 - precision_m: 0.8286 - recall_m: 0.7667 - val_loss: 0.5641 - val_accuracy: 0.7877 - val_f1_m: 0.7841 - val_precision_m: 0.8219 - val_recall_m: 0.7500\n",
      "Epoch 9/120\n",
      "217138/217138 [==============================] - 33s 152us/step - loss: 0.5501 - accuracy: 0.8025 - f1_m: 0.7992 - precision_m: 0.8328 - recall_m: 0.7683 - val_loss: 0.5544 - val_accuracy: 0.7912 - val_f1_m: 0.7882 - val_precision_m: 0.8248 - val_recall_m: 0.7550\n",
      "Epoch 10/120\n",
      "217138/217138 [==============================] - 33s 152us/step - loss: 0.5423 - accuracy: 0.8050 - f1_m: 0.8020 - precision_m: 0.8370 - recall_m: 0.7699 - val_loss: 0.5466 - val_accuracy: 0.7937 - val_f1_m: 0.7915 - val_precision_m: 0.8276 - val_recall_m: 0.7587\n",
      "Epoch 11/120\n",
      "217138/217138 [==============================] - 33s 151us/step - loss: 0.5347 - accuracy: 0.8077 - f1_m: 0.8053 - precision_m: 0.8411 - recall_m: 0.7726 - val_loss: 0.5390 - val_accuracy: 0.7968 - val_f1_m: 0.7946 - val_precision_m: 0.8315 - val_recall_m: 0.7611\n",
      "Epoch 12/120\n",
      "217138/217138 [==============================] - 33s 152us/step - loss: 0.5279 - accuracy: 0.8099 - f1_m: 0.8073 - precision_m: 0.8435 - recall_m: 0.7741 - val_loss: 0.5319 - val_accuracy: 0.8002 - val_f1_m: 0.7974 - val_precision_m: 0.8390 - val_recall_m: 0.7601\n",
      "Epoch 13/120\n",
      "217138/217138 [==============================] - 33s 152us/step - loss: 0.5224 - accuracy: 0.8120 - f1_m: 0.8098 - precision_m: 0.8469 - recall_m: 0.7760 - val_loss: 0.5270 - val_accuracy: 0.8013 - val_f1_m: 0.7990 - val_precision_m: 0.8372 - val_recall_m: 0.7645\n",
      "Epoch 14/120\n",
      "217138/217138 [==============================] - 33s 152us/step - loss: 0.5179 - accuracy: 0.8140 - f1_m: 0.8114 - precision_m: 0.8483 - recall_m: 0.7777 - val_loss: 0.5218 - val_accuracy: 0.8041 - val_f1_m: 0.8014 - val_precision_m: 0.8439 - val_recall_m: 0.7633\n",
      "Epoch 15/120\n",
      "217138/217138 [==============================] - 33s 152us/step - loss: 0.5135 - accuracy: 0.8151 - f1_m: 0.8133 - precision_m: 0.8506 - recall_m: 0.7792 - val_loss: 0.5188 - val_accuracy: 0.8045 - val_f1_m: 0.8025 - val_precision_m: 0.8397 - val_recall_m: 0.7688\n",
      "Epoch 16/120\n",
      "217138/217138 [==============================] - 33s 153us/step - loss: 0.5092 - accuracy: 0.8165 - f1_m: 0.8145 - precision_m: 0.8521 - recall_m: 0.7801 - val_loss: 0.5148 - val_accuracy: 0.8062 - val_f1_m: 0.8049 - val_precision_m: 0.8420 - val_recall_m: 0.7711\n",
      "Epoch 17/120\n",
      "217138/217138 [==============================] - 33s 152us/step - loss: 0.5057 - accuracy: 0.8185 - f1_m: 0.8165 - precision_m: 0.8533 - recall_m: 0.7828 - val_loss: 0.5116 - val_accuracy: 0.8070 - val_f1_m: 0.8059 - val_precision_m: 0.8448 - val_recall_m: 0.7708\n",
      "Epoch 18/120\n",
      "217138/217138 [==============================] - 33s 153us/step - loss: 0.5024 - accuracy: 0.8185 - f1_m: 0.8171 - precision_m: 0.8547 - recall_m: 0.7828 - val_loss: 0.5083 - val_accuracy: 0.8091 - val_f1_m: 0.8078 - val_precision_m: 0.8460 - val_recall_m: 0.7732\n",
      "Epoch 19/120\n",
      "217138/217138 [==============================] - 33s 153us/step - loss: 0.5001 - accuracy: 0.8196 - f1_m: 0.8176 - precision_m: 0.8553 - recall_m: 0.7833 - val_loss: 0.5080 - val_accuracy: 0.8083 - val_f1_m: 0.8076 - val_precision_m: 0.8431 - val_recall_m: 0.7752\n",
      "Epoch 20/120\n",
      "217138/217138 [==============================] - 33s 152us/step - loss: 0.4965 - accuracy: 0.8202 - f1_m: 0.8186 - precision_m: 0.8568 - recall_m: 0.7839 - val_loss: 0.5043 - val_accuracy: 0.8101 - val_f1_m: 0.8091 - val_precision_m: 0.8479 - val_recall_m: 0.7740\n",
      "Epoch 21/120\n",
      "217138/217138 [==============================] - 33s 153us/step - loss: 0.4937 - accuracy: 0.8215 - f1_m: 0.8205 - precision_m: 0.8583 - recall_m: 0.7860 - val_loss: 0.5033 - val_accuracy: 0.8106 - val_f1_m: 0.8097 - val_precision_m: 0.8467 - val_recall_m: 0.7760\n",
      "Epoch 22/120\n",
      "217138/217138 [==============================] - 33s 152us/step - loss: 0.4922 - accuracy: 0.8225 - f1_m: 0.8211 - precision_m: 0.8583 - recall_m: 0.7870 - val_loss: 0.5022 - val_accuracy: 0.8108 - val_f1_m: 0.8101 - val_precision_m: 0.8459 - val_recall_m: 0.7774\n",
      "Epoch 23/120\n",
      "217138/217138 [==============================] - 33s 152us/step - loss: 0.4888 - accuracy: 0.8229 - f1_m: 0.8216 - precision_m: 0.8592 - recall_m: 0.7872 - val_loss: 0.4985 - val_accuracy: 0.8124 - val_f1_m: 0.8123 - val_precision_m: 0.8515 - val_recall_m: 0.7768\n",
      "Epoch 24/120\n",
      "217138/217138 [==============================] - 33s 152us/step - loss: 0.4858 - accuracy: 0.8241 - f1_m: 0.8226 - precision_m: 0.8604 - recall_m: 0.7881 - val_loss: 0.4965 - val_accuracy: 0.8141 - val_f1_m: 0.8126 - val_precision_m: 0.8559 - val_recall_m: 0.7738\n",
      "Epoch 25/120\n",
      "217138/217138 [==============================] - 33s 153us/step - loss: 0.4856 - accuracy: 0.8241 - f1_m: 0.8229 - precision_m: 0.8606 - recall_m: 0.7885 - val_loss: 0.4958 - val_accuracy: 0.8142 - val_f1_m: 0.8128 - val_precision_m: 0.8535 - val_recall_m: 0.7761\n",
      "Epoch 26/120\n",
      "217138/217138 [==============================] - 33s 152us/step - loss: 0.4823 - accuracy: 0.8249 - f1_m: 0.8236 - precision_m: 0.8615 - recall_m: 0.7890 - val_loss: 0.4951 - val_accuracy: 0.8139 - val_f1_m: 0.8126 - val_precision_m: 0.8540 - val_recall_m: 0.7754\n",
      "Epoch 27/120\n",
      "217138/217138 [==============================] - 33s 152us/step - loss: 0.4806 - accuracy: 0.8250 - f1_m: 0.8239 - precision_m: 0.8618 - recall_m: 0.7892 - val_loss: 0.4934 - val_accuracy: 0.8149 - val_f1_m: 0.8128 - val_precision_m: 0.8561 - val_recall_m: 0.7739\n",
      "Epoch 28/120\n",
      "217138/217138 [==============================] - 33s 152us/step - loss: 0.4794 - accuracy: 0.8254 - f1_m: 0.8244 - precision_m: 0.8627 - recall_m: 0.7895 - val_loss: 0.4928 - val_accuracy: 0.8149 - val_f1_m: 0.8137 - val_precision_m: 0.8549 - val_recall_m: 0.7766\n",
      "Epoch 29/120\n",
      "217138/217138 [==============================] - 33s 152us/step - loss: 0.4773 - accuracy: 0.8261 - f1_m: 0.8249 - precision_m: 0.8633 - recall_m: 0.7899 - val_loss: 0.4931 - val_accuracy: 0.8145 - val_f1_m: 0.8133 - val_precision_m: 0.8534 - val_recall_m: 0.7770\n"
     ]
    }
   ],
   "source": [
    "test_index = list(X_test.index)\n",
    "\n",
    "test = one_hot_results[test_index]\n",
    "train = np.delete(one_hot_results, test_index, 0)\n",
    "\n",
    "\n",
    "label_test = target_onehot[test_index]\n",
    "label_train = np.delete(target_onehot, test_index, 0)\n",
    "\n",
    "print(\"Test label shape:\", np.shape(label_test))\n",
    "print(\"Train label shape:\", np.shape(label_train))\n",
    "print(\"Test shape:\", np.shape(test))\n",
    "print(\"Train shape:\", np.shape(train))\n",
    "\n",
    "model = models.Sequential()\n",
    "model.add(Dropout(.2))\n",
    "model.add(layers.Dense(1000, activation='relu', input_shape=(6000,)))\n",
    "model.add(Dropout(.2))\n",
    "model.add(layers.Dense(100, activation='relu'))\n",
    "model.add(Dropout(.2))\n",
    "model.add(layers.Dense(3, activation='softmax'))\n",
    "\n",
    "\n",
    "model.compile(optimizer='SGD',\n",
    "              loss='categorical_crossentropy',\n",
    "              metrics=['accuracy', f1_m, precision_m, recall_m])\n",
    "es_callback = (EarlyStopping(monitor='val_loss', patience=1))\n",
    "results = model.fit(train,\n",
    "                    label_train,\n",
    "                    epochs=120,\n",
    "                    batch_size=250,\n",
    "                    validation_split=0.2,\n",
    "                    callbacks = [es_callback])"
   ]
  },
  {
   "cell_type": "code",
   "execution_count": 23,
   "metadata": {},
   "outputs": [
    {
     "name": "stdout",
     "output_type": "stream",
     "text": [
      "271423/271423 [==============================] - 26s 97us/step\n"
     ]
    },
    {
     "data": {
      "text/plain": [
       "[0.4415015184277993,\n",
       " 0.8320813179016113,\n",
       " 0.8314869999885559,\n",
       " 0.8706110715866089,\n",
       " 0.7972244024276733]"
      ]
     },
     "execution_count": 23,
     "metadata": {},
     "output_type": "execute_result"
    }
   ],
   "source": [
    "results_train = model.evaluate(train, label_train)\n",
    "\n",
    "results_train"
   ]
  },
  {
   "cell_type": "code",
   "execution_count": 24,
   "metadata": {},
   "outputs": [],
   "source": [
    "y_hat_test = model.predict(test)"
   ]
  },
  {
   "cell_type": "code",
   "execution_count": 39,
   "metadata": {},
   "outputs": [],
   "source": [
    "y_pred_classes = model.predict_classes(test)"
   ]
  },
  {
   "cell_type": "code",
   "execution_count": 25,
   "metadata": {},
   "outputs": [
    {
     "name": "stdout",
     "output_type": "stream",
     "text": [
      "133686/133686 [==============================] - 13s 98us/step\n"
     ]
    },
    {
     "data": {
      "text/plain": [
       "[0.4719892931004471,\n",
       " 0.8249554634094238,\n",
       " 0.8236184120178223,\n",
       " 0.8620774149894714,\n",
       " 0.7895653247833252]"
      ]
     },
     "execution_count": 25,
     "metadata": {},
     "output_type": "execute_result"
    }
   ],
   "source": [
    "results_test = model.evaluate(test, label_test)\n",
    "results_test"
   ]
  },
  {
   "cell_type": "code",
   "execution_count": 37,
   "metadata": {},
   "outputs": [],
   "source": [
    "import itertools"
   ]
  },
  {
   "cell_type": "code",
   "execution_count": 38,
   "metadata": {},
   "outputs": [],
   "source": [
    "%matplotlib inline"
   ]
  },
  {
   "cell_type": "code",
   "execution_count": 44,
   "metadata": {},
   "outputs": [
    {
     "data": {
      "text/plain": [
       "array([[0., 1., 1., ..., 0., 0., 0.],\n",
       "       [0., 1., 1., ..., 0., 0., 0.],\n",
       "       [0., 1., 1., ..., 0., 0., 0.],\n",
       "       ...,\n",
       "       [0., 0., 0., ..., 0., 0., 0.],\n",
       "       [0., 0., 0., ..., 0., 0., 0.],\n",
       "       [0., 1., 0., ..., 0., 0., 0.]])"
      ]
     },
     "execution_count": 44,
     "metadata": {},
     "output_type": "execute_result"
    }
   ],
   "source": [
    "test"
   ]
  },
  {
   "cell_type": "code",
   "execution_count": 43,
   "metadata": {},
   "outputs": [
    {
     "data": {
      "text/plain": [
       "array([[1., 0., 0.],\n",
       "       [1., 0., 0.],\n",
       "       [1., 0., 0.],\n",
       "       ...,\n",
       "       [1., 0., 0.],\n",
       "       [0., 1., 0.],\n",
       "       [1., 0., 0.]], dtype=float32)"
      ]
     },
     "execution_count": 43,
     "metadata": {},
     "output_type": "execute_result"
    }
   ],
   "source": [
    "label_test"
   ]
  },
  {
   "cell_type": "code",
   "execution_count": 49,
   "metadata": {},
   "outputs": [],
   "source": [
    "multi_label_test = np.array(y_test)"
   ]
  },
  {
   "cell_type": "code",
   "execution_count": 50,
   "metadata": {},
   "outputs": [],
   "source": [
    "cm = confusion_matrix(multi_label_test, y_pred_classes)"
   ]
  },
  {
   "cell_type": "code",
   "execution_count": 53,
   "metadata": {},
   "outputs": [],
   "source": [
    "cm_labels = ['Unoffensive', 'Questionable', 'Offensive']"
   ]
  },
  {
   "cell_type": "code",
   "execution_count": 71,
   "metadata": {},
   "outputs": [],
   "source": [
    "def plot_confusion_matrix(cm, classes, normalize=False, title=\"Confusion Matrix\", cmap=plt.cm.Blues):\n",
    "    plt.imshow(cm, interpolation='nearest', cmap=cmap)\n",
    "    plt.title(title)\n",
    "    plt.colorbar()\n",
    "    tick_marks = np.arange(len(classes))\n",
    "    plt.xticks(tick_marks, classes, rotation=.45)\n",
    "    plt.yticks(tick_marks, classes)\n",
    "\n",
    "    if normalize:\n",
    "        cm = cm.astype('float') / cm.sum(axis=1)[:, np.newaxis]\n",
    "        print(\"Normalized confusion matrix\")\n",
    "    else:\n",
    "        print('Confusion matrix, without normalization')\n",
    "\n",
    "    print(cm)\n",
    "    \n",
    "    thresh = cm.max()/2\n",
    "    for i, j in itertools.product(range(cm.shape[0]), range(cm.shape[1])):\n",
    "        plt.text(j,i, cm[i,j], horizontalalignment=\"center\",\n",
    "                 color=\"white\" if cm[i,j]>thresh else \"black\")\n",
    "    \n",
    "    plt.tight_layout()\n",
    "    plt.ylabel('True label')\n",
    "    plt.xlabel('Predicted label')"
   ]
  },
  {
   "cell_type": "code",
   "execution_count": 72,
   "metadata": {},
   "outputs": [
    {
     "name": "stdout",
     "output_type": "stream",
     "text": [
      "Confusion matrix, without normalization\n",
      "[[102957    106   1678]\n",
      " [ 11448     80   2225]\n",
      " [  7838    106   7248]]\n"
     ]
    },
    {
     "data": {
      "image/png": "[encoded data removed]",
      "text/plain": [
       "<Figure size 432x288 with 2 Axes>"
      ]
     },
     "metadata": {},
     "output_type": "display_data"
    }
   ],
   "source": [
    "plot_confusion_matrix(cm, cm_labels,)"
   ]
  },
  {
   "cell_type": "code",
   "execution_count": 73,
   "metadata": {},
   "outputs": [
    {
     "data": {
      "text/plain": [
       "168450"
      ]
     },
     "execution_count": 73,
     "metadata": {},
     "output_type": "execute_result"
    }
   ],
   "source": [
    "(50*1678)+(5*1148)+(30*2225)+(20*7838)+(10*106)-(80*10)-(7248*20)"
   ]
  },
  {
   "cell_type": "code",
   "execution_count": 79,
   "metadata": {},
   "outputs": [],
   "source": [
    "X_test_group = X_test.loc[X_test.no_group==0]"
   ]
  },
  {
   "cell_type": "code",
   "execution_count": 81,
   "metadata": {},
   "outputs": [
    {
     "data": {
      "application/vnd.jupyter.widget-view+json": {
       "model_id": "5effadf78cc040ef98010113a949081f",
       "version_major": 2,
       "version_minor": 0
      },
      "text/plain": [
       "HBox(children=(IntProgress(value=0, description='Pandas Apply', max=63529, style=ProgressStyle(description_wid…"
      ]
     },
     "metadata": {},
     "output_type": "display_data"
    },
    {
     "name": "stdout",
     "output_type": "stream",
     "text": [
      "\n"
     ]
    }
   ],
   "source": [
    "X_test_group['target_category'] = X_test_group.target.swifter.apply(lambda x: 2 if x>=.5 else (0 if x<=.2 else 1))"
   ]
  },
  {
   "cell_type": "code",
   "execution_count": 82,
   "metadata": {},
   "outputs": [],
   "source": [
    "y_test_group = X_test_group['target_category']"
   ]
  },
  {
   "cell_type": "code",
   "execution_count": 84,
   "metadata": {},
   "outputs": [],
   "source": [
    "multi_label_test_group = np.array(y_test_group)"
   ]
  },
  {
   "cell_type": "code",
   "execution_count": 85,
   "metadata": {},
   "outputs": [],
   "source": [
    "test_group_index = list(y_test_group.index)\n",
    "\n",
    "test_group = one_hot_results[test_group_index]"
   ]
  },
  {
   "cell_type": "code",
   "execution_count": 87,
   "metadata": {},
   "outputs": [],
   "source": [
    "y_hat_group = model.predict_classes(test_group)"
   ]
  },
  {
   "cell_type": "code",
   "execution_count": 88,
   "metadata": {},
   "outputs": [],
   "source": [
    "cm_group = confusion_matrix(multi_label_test_group, y_hat_group)"
   ]
  },
  {
   "cell_type": "code",
   "execution_count": 89,
   "metadata": {
    "scrolled": true
   },
   "outputs": [
    {
     "name": "stdout",
     "output_type": "stream",
     "text": [
      "Confusion matrix, without normalization\n",
      "[[42732   104  1235]\n",
      " [ 7671    80  1647]\n",
      " [ 5222   104  4734]]\n"
     ]
    },
    {
     "data": {
      "image/png": "[encoded data removed]",
      "text/plain": [
       "<Figure size 432x288 with 2 Axes>"
      ]
     },
     "metadata": {},
     "output_type": "display_data"
    }
   ],
   "source": [
    "plot_confusion_matrix(cm_group, cm_labels)"
   ]
  },
  {
   "cell_type": "code",
   "execution_count": 92,
   "metadata": {},
   "outputs": [
    {
     "data": {
      "text/plain": [
       "211735"
      ]
     },
     "execution_count": 92,
     "metadata": {},
     "output_type": "execute_result"
    }
   ],
   "source": [
    "(7671*5)+(5222*30)-800+1040+(50*1235)+(30*1647)-(20*4734)"
   ]
  },
  {
   "cell_type": "code",
   "execution_count": 90,
   "metadata": {},
   "outputs": [],
   "source": [
    "label_test_group = target_onehot[test_group_index]"
   ]
  },
  {
   "cell_type": "code",
   "execution_count": 91,
   "metadata": {},
   "outputs": [
    {
     "name": "stdout",
     "output_type": "stream",
     "text": [
      "63529/63529 [==============================] - 6s 98us/step\n"
     ]
    },
    {
     "data": {
      "text/plain": [
       "[0.4719892931004471,\n",
       " 0.8249554634094238,\n",
       " 0.8236184120178223,\n",
       " 0.8620774149894714,\n",
       " 0.7895653247833252]"
      ]
     },
     "execution_count": 91,
     "metadata": {},
     "output_type": "execute_result"
    }
   ],
   "source": [
    "results_test_grou = model.evaluate(test_group, label_test_group)\n",
    "results_test"
   ]
  },
  {
   "cell_type": "code",
   "execution_count": null,
   "metadata": {},
   "outputs": [],
   "source": [
    "comments = data[\"comment_text\"]\n",
    "\n",
    "tokenizer = Tokenizer(num_words=5000)\n",
    "\n",
    "tokenizer.fit_on_texts(comments)\n",
    "\n",
    "sequences = tokenizer.texts_to_sequences(comments)\n",
    "\n",
    "print('sequences type:', type(sequences))\n",
    "\n",
    "one_hot_results= tokenizer.texts_to_matrix(comments, mode='binary')\n",
    "\n",
    "print('one_hot_results type:', type(one_hot_results))\n",
    "\n",
    "word_index = tokenizer.word_index\n",
    "\n",
    "print('Found %s unique tokens.' % len(word_index))\n",
    "\n",
    "reverse_index = dict([(value, key) for (key, value) in word_index.items()])\n",
    "\n",
    "comment_idx_to_preview = 19\n",
    "print('Original complaint text:')\n",
    "print(comments[comment_idx_to_preview])\n",
    "print('\\n\\n')\n",
    "\n",
    "decoded_review = ' '.join([reverse_index.get(i) for i in sequences[comment_idx_to_preview]])\n",
    "\n",
    "print('Decoded review from Tokenizer:')\n",
    "print(decoded_review)\n",
    "\n",
    "target = data[\"target_category\"]\n",
    "\n",
    "le = preprocessing.LabelEncoder() #Initialize. le used as abbreviation fo label encoder\n",
    "le.fit(target)\n",
    "print(\"Original class labels:\")\n",
    "print(list(le.classes_))\n",
    "print('\\n')\n",
    "target_cat = le.transform(target)  \n",
    "#list(le.inverse_transform([0, 1, 3, 3, 0, 6, 4])) #If you wish to retrieve the original descriptive labels post production\n",
    "\n",
    "print('New target labels:')\n",
    "print(target_cat)\n",
    "print('\\n')\n",
    "\n",
    "\n",
    "print('One hot labels; 2 binary columns, one for each of the categories.') #Each row will be all zeros except for the category for that observation.\n",
    "target_onehot = to_categorical(target_cat)\n",
    "print(target_onehot)\n",
    "print('\\n')\n",
    "\n",
    "print('One hot labels shape:')\n",
    "print(np.shape(target_onehot))\n",
    "\n",
    "len(one_hot_results)*.3\n",
    "\n",
    "random.seed(42)\n",
    "test_index = random.sample(range(0, int(len(data))), int(round(len(data)/3)))\n",
    "\n",
    "test = one_hot_results[test_index]\n",
    "train = np.delete(one_hot_results, test_index, 0)\n",
    "\n",
    "\n",
    "label_test = target_onehot[test_index]\n",
    "label_train = np.delete(target_onehot, test_index, 0)\n",
    "\n",
    "print(\"Test label shape:\", np.shape(label_test))\n",
    "print(\"Train label shape:\", np.shape(label_train))\n",
    "print(\"Test shape:\", np.shape(test))\n",
    "print(\"Train shape:\", np.shape(train))\n",
    "\n",
    "model = models.Sequential()\n",
    "model.add(Dropout(.2))\n",
    "model.add(layers.Dense(1000, activation='relu', input_shape=(5000,)))\n",
    "model.add(Dropout(.2))\n",
    "model.add(layers.Dense(100, activation='relu'))\n",
    "model.add(Dropout(.2))\n",
    "model.add(layers.Dense(3, activation='softmax'))\n",
    "\n",
    "\n",
    "model.compile(optimizer='SGD',\n",
    "              loss='categorical_crossentropy',\n",
    "              metrics=['accuracy', f1_m, precision_m, recall_m])\n",
    "es_callback = (EarlyStopping(monitor='val_loss', patience=2))\n",
    "results = model.fit(train,\n",
    "                    label_train,\n",
    "                    epochs=120,\n",
    "                    batch_size=250,\n",
    "                    validation_split=0.2,\n",
    "                    callbacks = [es_callback])"
   ]
  },
  {
   "cell_type": "code",
   "execution_count": null,
   "metadata": {},
   "outputs": [],
   "source": [
    "results, model, train, label_train, test, label_test = things(data)"
   ]
  },
  {
   "cell_type": "code",
   "execution_count": null,
   "metadata": {},
   "outputs": [],
   "source": []
  },
  {
   "cell_type": "code",
   "execution_count": null,
   "metadata": {},
   "outputs": [],
   "source": [
    "def visualize_training_results(results):\n",
    "    history = results.history\n",
    "    plt.figure()\n",
    "    plt.plot(history['val_loss'])\n",
    "    plt.plot(history['loss'])\n",
    "    plt.legend(['val_loss', 'loss'])\n",
    "    plt.title('Loss')\n",
    "    plt.xlabel('Epochs')\n",
    "    plt.ylabel('Loss')\n",
    "    plt.show()\n",
    "    \n",
    "    plt.figure()\n",
    "    plt.plot(history['val_f1_m'])\n",
    "    plt.plot(history['f1_m'])\n",
    "    plt.legend(['val_f1_m', 'f1_m'])\n",
    "    plt.title('F1 Scores')\n",
    "    plt.xlabel('Epochs')\n",
    "    plt.ylabel('F1 Scores')\n",
    "    plt.show()"
   ]
  },
  {
   "cell_type": "code",
   "execution_count": null,
   "metadata": {},
   "outputs": [],
   "source": [
    "results.history.keys()"
   ]
  },
  {
   "cell_type": "code",
   "execution_count": null,
   "metadata": {},
   "outputs": [],
   "source": [
    "visualize_training_results(results)"
   ]
  },
  {
   "cell_type": "code",
   "execution_count": null,
   "metadata": {},
   "outputs": [],
   "source": [
    "def things2(data):\n",
    "    comments = data[\"comment_text\"]\n",
    "\n",
    "    tokenizer = Tokenizer(num_words=5000)\n",
    "\n",
    "    tokenizer.fit_on_texts(comments)\n",
    "\n",
    "    sequences = tokenizer.texts_to_sequences(comments)\n",
    "\n",
    "    print('sequences type:', type(sequences))\n",
    "\n",
    "    one_hot_results= tokenizer.texts_to_matrix(comments, mode='binary')\n",
    "\n",
    "    print('one_hot_results type:', type(one_hot_results))\n",
    "\n",
    "    word_index = tokenizer.word_index\n",
    "\n",
    "    print('Found %s unique tokens.' % len(word_index))\n",
    "\n",
    "    reverse_index = dict([(value, key) for (key, value) in word_index.items()])\n",
    "\n",
    "    comment_idx_to_preview = 19\n",
    "    print('Original complaint text:')\n",
    "    print(comments[comment_idx_to_preview])\n",
    "    print('\\n\\n')\n",
    "\n",
    "    decoded_review = ' '.join([reverse_index.get(i) for i in sequences[comment_idx_to_preview]])\n",
    "\n",
    "    print('Decoded review from Tokenizer:')\n",
    "    print(decoded_review)\n",
    "\n",
    "    target = data[\"target_category\"]\n",
    "\n",
    "    le = preprocessing.LabelEncoder() #Initialize. le used as abbreviation fo label encoder\n",
    "    le.fit(target)\n",
    "    print(\"Original class labels:\")\n",
    "    print(list(le.classes_))\n",
    "    print('\\n')\n",
    "    target_cat = le.transform(target)  \n",
    "    #list(le.inverse_transform([0, 1, 3, 3, 0, 6, 4])) #If you wish to retrieve the original descriptive labels post production\n",
    "\n",
    "    print('New target labels:')\n",
    "    print(target_cat)\n",
    "    print('\\n')\n",
    "\n",
    "\n",
    "    print('One hot labels; 2 binary columns, one for each of the categories.') #Each row will be all zeros except for the category for that observation.\n",
    "    target_onehot = to_categorical(target_cat)\n",
    "    print(target_onehot)\n",
    "    print('\\n')\n",
    "\n",
    "    print('One hot labels shape:')\n",
    "    print(np.shape(target_onehot))\n",
    "\n",
    "    len(one_hot_results)*.3\n",
    "\n",
    "    random.seed(42)\n",
    "    test_index = random.sample(range(0, int(len(data))), int(round(len(data)/3)))\n",
    "\n",
    "    test = one_hot_results[test_index]\n",
    "    train = np.delete(one_hot_results, test_index, 0)\n",
    "\n",
    "\n",
    "    label_test = target_onehot[test_index]\n",
    "    label_train = np.delete(target_onehot, test_index, 0)\n",
    "\n",
    "    print(\"Test label shape:\", np.shape(label_test))\n",
    "    print(\"Train label shape:\", np.shape(label_train))\n",
    "    print(\"Test shape:\", np.shape(test))\n",
    "    print(\"Train shape:\", np.shape(train))\n",
    "\n",
    "    model = models.Sequential()\n",
    "    model.add(Dropout(.2))\n",
    "    model.add(layers.Dense(1000, activation='relu', input_shape=(5000,)))\n",
    "    model.add(Dropout(.2))\n",
    "    model.add(layers.Dense(200, activation='relu'))\n",
    "    model.add(Dropout(.2))\n",
    "    model.add(layers.Dense(60, activation='relu'))\n",
    "    model.add(Dropout(.2))\n",
    "    model.add(layers.Dense(3, activation='softmax'))\n",
    "\n",
    "\n",
    "    model.compile(optimizer='SGD',\n",
    "                  loss='categorical_crossentropy',\n",
    "                  metrics=['accuracy', f1_m, precision_m, recall_m])\n",
    "    es_callback = (EarlyStopping(monitor='val_loss', patience=2))\n",
    "    results = model.fit(train,\n",
    "                        label_train,\n",
    "                        epochs=120,\n",
    "                        batch_size=250,\n",
    "                        validation_split=0.2,\n",
    "                        callbacks = [es_callback])\n",
    "    return results, model, train, label_train, test, label_test"
   ]
  },
  {
   "cell_type": "code",
   "execution_count": null,
   "metadata": {},
   "outputs": [],
   "source": [
    "results2, model2, train2, label_train2, test2, label_test2 = things2(data)"
   ]
  },
  {
   "cell_type": "code",
   "execution_count": null,
   "metadata": {},
   "outputs": [],
   "source": [
    "from sklearn.externals import joblib"
   ]
  },
  {
   "cell_type": "code",
   "execution_count": null,
   "metadata": {},
   "outputs": [],
   "source": [
    "results, model, train, label_train, test, label_test"
   ]
  },
  {
   "cell_type": "code",
   "execution_count": null,
   "metadata": {},
   "outputs": [],
   "source": [
    "joblib.dump(results, 'results.pkl')"
   ]
  },
  {
   "cell_type": "code",
   "execution_count": null,
   "metadata": {},
   "outputs": [],
   "source": [
    "joblib.dump(model, 'model.pkl')"
   ]
  },
  {
   "cell_type": "code",
   "execution_count": null,
   "metadata": {},
   "outputs": [],
   "source": [
    "import gzip"
   ]
  },
  {
   "cell_type": "code",
   "execution_count": null,
   "metadata": {},
   "outputs": [],
   "source": [
    "np.save('train', train)"
   ]
  },
  {
   "cell_type": "code",
   "execution_count": null,
   "metadata": {},
   "outputs": [],
   "source": [
    "np.save('test', test)"
   ]
  },
  {
   "cell_type": "code",
   "execution_count": null,
   "metadata": {},
   "outputs": [],
   "source": [
    "train"
   ]
  },
  {
   "cell_type": "code",
   "execution_count": null,
   "metadata": {},
   "outputs": [],
   "source": []
  }
 ],
 "metadata": {
  "kernelspec": {
   "display_name": "Python 3",
   "language": "python",
   "name": "python3"
  },
  "language_info": {
   "codemirror_mode": {
    "name": "ipython",
    "version": 3
   },
   "file_extension": ".py",
   "mimetype": "text/x-python",
   "name": "python",
   "nbconvert_exporter": "python",
   "pygments_lexer": "ipython3",
   "version": "3.7.3"
  }
 },
 "nbformat": 4,
 "nbformat_minor": 2
}
