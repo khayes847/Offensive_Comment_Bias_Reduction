{
 "cells": [
  {
   "cell_type": "markdown",
   "metadata": {},
   "source": [
    "## Using deep learning to predict online comment offensiveness while reducing identity bias \n",
    "#### Kyle Hayes"
   ]
  },
  {
   "cell_type": "markdown",
   "metadata": {},
   "source": [
    "**Summary**: Existing offensive speech detection models often learn to categrorize discussion of marginalized identity groups with attacks against these groups themselves. As a result, these models retain significant biases against minority racial, ethnic, gender, and sexual identities. The purpose of this project is to create a model that minimizes false 'offensive' classifications by predicting not only whether a comment is offensive, but whether it relates to a specific identity group as well.\n",
    "\n",
    "I obtained my data from Kaggle's \"Jigsaw Unintended Bias in Toxicity Classification\" training dataset (https://www.kaggle.com/c/jigsaw-unintended-bias-in-toxicity-classification/data). This data contains roughly 405 thousand Quora comments labeled as to whether annotators found them toxic, and whether annotators believed they refered to specific identy groups. From these I created two NLP word vectorization models: one using logistic regression to predict the toxicity label, and one using a deep learning algorithm to predict both the toxicity and identity labels simultaneously.\n",
    "\n",
    "Using a cost function designed to minimize false 'offensive' classifications, I determined that by using deep learning, and by training the model to recognize the existence of 'identity' content, I was able to improve significantly upon my initial model that predicted toxicity removed from identity context."
   ]
  },
  {
   "cell_type": "code",
   "execution_count": 3,
   "metadata": {},
   "outputs": [
    {
     "name": "stderr",
     "output_type": "stream",
     "text": [
      "[nltk_data] Downloading package wordnet to\n",
      "[nltk_data]     C:\\Users\\Rocio\\AppData\\Roaming\\nltk_data...\n",
      "[nltk_data]   Package wordnet is already up-to-date!\n",
      "[nltk_data] Downloading package punkt to\n",
      "[nltk_data]     C:\\Users\\Rocio\\AppData\\Roaming\\nltk_data...\n",
      "[nltk_data]   Package punkt is already up-to-date!\n"
     ]
    },
    {
     "name": "stdout",
     "output_type": "stream",
     "text": [
      "The autoreload extension is already loaded. To reload it, use:\n",
      "  %reload_ext autoreload\n"
     ]
    }
   ],
   "source": [
    "# Import all necessary libraries.\n",
    "import numpy as np\n",
    "import swifter\n",
    "import pandas as pd\n",
    "import matplotlib.pyplot as plt\n",
    "from sklearn.model_selection import train_test_split, GridSearchCV, cross_val_score\n",
    "from sklearn.linear_model import LogisticRegression\n",
    "from sklearn.dummy import DummyClassifier\n",
    "from sklearn.metrics import confusion_matrix, accuracy_score, f1_score, recall_score, precision_score\n",
    "from sklearn.preprocessing import MinMaxScaler\n",
    "from sklearn.feature_extraction.text import CountVectorizer, TfidfVectorizer\n",
    "from sklearn.pipeline import Pipeline\n",
    "from sklearn.ensemble import AdaBoostClassifier, GradientBoostingClassifier\n",
    "from sklearn import preprocessing\n",
    "from sklearn.svm import SVC\n",
    "import nltk\n",
    "nltk.download('wordnet')\n",
    "nltk.download('punkt')\n",
    "from nltk import word_tokenize\n",
    "from nltk.stem import WordNetLemmatizer\n",
    "from nltk.tokenize import RegexpTokenizer, sent_tokenize\n",
    "from nltk.corpus import stopwords\n",
    "import pickle\n",
    "import joblib\n",
    "import seaborn as sns\n",
    "import os\n",
    "import boto3\n",
    "import re\n",
    "import s3fs\n",
    "pd.set_option(\"max_columns\", 100)\n",
    "import warnings  \n",
    "warnings.filterwarnings('ignore')\n",
    "%load_ext autoreload\n",
    "%autoreload 2\n",
    "pd.set_option('display.float_format', lambda x: '%.3f' % x)\n",
    "import data_prep as d\n",
    "import functions as f\n",
    "import itertools\n",
    "%matplotlib inline\n",
    "from keras.utils.np_utils import to_categorical\n",
    "from keras.preprocessing.text import Tokenizer\n",
    "from keras import models, layers, optimizers\n",
    "from keras.layers import Dense, Dropout, Activation\n",
    "from keras.callbacks import EarlyStopping\n",
    "from keras import backend as K"
   ]
  },
  {
   "cell_type": "markdown",
   "metadata": {},
   "source": [
    "**Data Cleaning**\n",
    "\n",
    "First, we download the features and the target datasets using d.clean(). This function isolates the target variables, removes unnecessary columns, and pre-processes the 'comment' string data for analysis."
   ]
  },
  {
   "cell_type": "code",
   "execution_count": 4,
   "metadata": {},
   "outputs": [
    {
     "name": "stdout",
     "output_type": "stream",
     "text": [
      "Memory usage of dataframe is 619.65MB\n",
      "Memory usage after optimization is: 189.34MB\n",
      "Decreased by 69.4%\n"
     ]
    },
    {
     "data": {
      "application/vnd.jupyter.widget-view+json": {
       "model_id": "92425b6b9db14e5bb884be7cb7e74a1a",
       "version_major": 2,
       "version_minor": 0
      },
      "text/plain": [
       "HBox(children=(IntProgress(value=0, description='Pandas Apply', max=405130, style=ProgressStyle(description_wi…"
      ]
     },
     "metadata": {},
     "output_type": "display_data"
    },
    {
     "name": "stdout",
     "output_type": "stream",
     "text": [
      "\n"
     ]
    },
    {
     "data": {
      "application/vnd.jupyter.widget-view+json": {
       "model_id": "1b9afd9a0ea74b678c35f504f040c486",
       "version_major": 2,
       "version_minor": 0
      },
      "text/plain": [
       "HBox(children=(IntProgress(value=0, description='Pandas Apply', max=405130, style=ProgressStyle(description_wi…"
      ]
     },
     "metadata": {},
     "output_type": "display_data"
    },
    {
     "name": "stdout",
     "output_type": "stream",
     "text": [
      "\n"
     ]
    },
    {
     "data": {
      "application/vnd.jupyter.widget-view+json": {
       "model_id": "7391e64282a9459cbf087d5e098ee29c",
       "version_major": 2,
       "version_minor": 0
      },
      "text/plain": [
       "HBox(children=(IntProgress(value=0, description='Pandas Apply', max=405130, style=ProgressStyle(description_wi…"
      ]
     },
     "metadata": {},
     "output_type": "display_data"
    },
    {
     "name": "stdout",
     "output_type": "stream",
     "text": [
      "\n"
     ]
    },
    {
     "data": {
      "application/vnd.jupyter.widget-view+json": {
       "model_id": "129f64b9ac6042a798f0d71b7647124b",
       "version_major": 2,
       "version_minor": 0
      },
      "text/plain": [
       "HBox(children=(IntProgress(value=0, description='Pandas Apply', max=405130, style=ProgressStyle(description_wi…"
      ]
     },
     "metadata": {},
     "output_type": "display_data"
    },
    {
     "name": "stdout",
     "output_type": "stream",
     "text": [
      "\n"
     ]
    },
    {
     "data": {
      "application/vnd.jupyter.widget-view+json": {
       "model_id": "3b0d73f8bf5c4cd48a51afde6d0b711d",
       "version_major": 2,
       "version_minor": 0
      },
      "text/plain": [
       "HBox(children=(IntProgress(value=0, description='Pandas Apply', max=405130, style=ProgressStyle(description_wi…"
      ]
     },
     "metadata": {},
     "output_type": "display_data"
    },
    {
     "name": "stdout",
     "output_type": "stream",
     "text": [
      "\n"
     ]
    },
    {
     "data": {
      "application/vnd.jupyter.widget-view+json": {
       "model_id": "3490f24c46f64d2fbaabc122e34dfb3d",
       "version_major": 2,
       "version_minor": 0
      },
      "text/plain": [
       "HBox(children=(IntProgress(value=0, description='Pandas Apply', max=405130, style=ProgressStyle(description_wi…"
      ]
     },
     "metadata": {},
     "output_type": "display_data"
    },
    {
     "name": "stdout",
     "output_type": "stream",
     "text": [
      "\n"
     ]
    },
    {
     "data": {
      "application/vnd.jupyter.widget-view+json": {
       "model_id": "d8b2cd9a516b4268b202f0ee753a3b56",
       "version_major": 2,
       "version_minor": 0
      },
      "text/plain": [
       "HBox(children=(IntProgress(value=0, description='Pandas Apply', max=405130, style=ProgressStyle(description_wi…"
      ]
     },
     "metadata": {},
     "output_type": "display_data"
    },
    {
     "name": "stdout",
     "output_type": "stream",
     "text": [
      "\n"
     ]
    },
    {
     "data": {
      "application/vnd.jupyter.widget-view+json": {
       "model_id": "cc0e3e273fcf4de6bc24d231f835de65",
       "version_major": 2,
       "version_minor": 0
      },
      "text/plain": [
       "HBox(children=(IntProgress(value=0, description='Pandas Apply', max=405130, style=ProgressStyle(description_wi…"
      ]
     },
     "metadata": {},
     "output_type": "display_data"
    },
    {
     "name": "stdout",
     "output_type": "stream",
     "text": [
      "\n"
     ]
    },
    {
     "data": {
      "application/vnd.jupyter.widget-view+json": {
       "model_id": "eb8722f296594a32b541f35e8c4ec423",
       "version_major": 2,
       "version_minor": 0
      },
      "text/plain": [
       "HBox(children=(IntProgress(value=0, description='Pandas Apply', max=405130, style=ProgressStyle(description_wi…"
      ]
     },
     "metadata": {},
     "output_type": "display_data"
    },
    {
     "name": "stdout",
     "output_type": "stream",
     "text": [
      "\n"
     ]
    },
    {
     "data": {
      "application/vnd.jupyter.widget-view+json": {
       "model_id": "108b673f5b9f4d89b0a70abb870cca54",
       "version_major": 2,
       "version_minor": 0
      },
      "text/plain": [
       "HBox(children=(IntProgress(value=0, description='Pandas Apply', max=405130, style=ProgressStyle(description_wi…"
      ]
     },
     "metadata": {},
     "output_type": "display_data"
    },
    {
     "name": "stdout",
     "output_type": "stream",
     "text": [
      "\n"
     ]
    },
    {
     "data": {
      "application/vnd.jupyter.widget-view+json": {
       "model_id": "1bac2b1419384573a832d7306ccfee9d",
       "version_major": 2,
       "version_minor": 0
      },
      "text/plain": [
       "HBox(children=(IntProgress(value=0, description='Dask Apply', max=16, style=ProgressStyle(description_width='i…"
      ]
     },
     "metadata": {},
     "output_type": "display_data"
    },
    {
     "name": "stdout",
     "output_type": "stream",
     "text": [
      "\n"
     ]
    },
    {
     "data": {
      "application/vnd.jupyter.widget-view+json": {
       "model_id": "ee397d4bc41b4fcdb9c4f98539cdae8e",
       "version_major": 2,
       "version_minor": 0
      },
      "text/plain": [
       "HBox(children=(IntProgress(value=0, description='Dask Apply', max=16, style=ProgressStyle(description_width='i…"
      ]
     },
     "metadata": {},
     "output_type": "display_data"
    },
    {
     "name": "stdout",
     "output_type": "stream",
     "text": [
      "\n"
     ]
    },
    {
     "data": {
      "application/vnd.jupyter.widget-view+json": {
       "model_id": "eb32cc70dbac444f9ae922a0c98c0b16",
       "version_major": 2,
       "version_minor": 0
      },
      "text/plain": [
       "HBox(children=(IntProgress(value=0, description='Dask Apply', max=16, style=ProgressStyle(description_width='i…"
      ]
     },
     "metadata": {},
     "output_type": "display_data"
    },
    {
     "name": "stdout",
     "output_type": "stream",
     "text": [
      "\n"
     ]
    },
    {
     "data": {
      "application/vnd.jupyter.widget-view+json": {
       "model_id": "eefab3a301834618a185c7fa308fd340",
       "version_major": 2,
       "version_minor": 0
      },
      "text/plain": [
       "HBox(children=(IntProgress(value=0, description='Dask Apply', max=16, style=ProgressStyle(description_width='i…"
      ]
     },
     "metadata": {},
     "output_type": "display_data"
    },
    {
     "name": "stdout",
     "output_type": "stream",
     "text": [
      "\n"
     ]
    },
    {
     "data": {
      "application/vnd.jupyter.widget-view+json": {
       "model_id": "f25f312742924ff9ae488651224a5d5d",
       "version_major": 2,
       "version_minor": 0
      },
      "text/plain": [
       "HBox(children=(IntProgress(value=0, description='Dask Apply', max=16, style=ProgressStyle(description_width='i…"
      ]
     },
     "metadata": {},
     "output_type": "display_data"
    },
    {
     "name": "stdout",
     "output_type": "stream",
     "text": [
      "\n"
     ]
    },
    {
     "data": {
      "application/vnd.jupyter.widget-view+json": {
       "model_id": "a0bd68c95da44c7293681d9e0e07a41f",
       "version_major": 2,
       "version_minor": 0
      },
      "text/plain": [
       "HBox(children=(IntProgress(value=0, description='Dask Apply', max=16, style=ProgressStyle(description_width='i…"
      ]
     },
     "metadata": {},
     "output_type": "display_data"
    },
    {
     "name": "stdout",
     "output_type": "stream",
     "text": [
      "\n"
     ]
    },
    {
     "data": {
      "application/vnd.jupyter.widget-view+json": {
       "model_id": "498fb17ee15c475688a119f6bd716c7d",
       "version_major": 2,
       "version_minor": 0
      },
      "text/plain": [
       "HBox(children=(IntProgress(value=0, description='Pandas Apply', max=405130, style=ProgressStyle(description_wi…"
      ]
     },
     "metadata": {},
     "output_type": "display_data"
    },
    {
     "name": "stdout",
     "output_type": "stream",
     "text": [
      "\n"
     ]
    },
    {
     "data": {
      "application/vnd.jupyter.widget-view+json": {
       "model_id": "45115616fe914b12b8502d63bd461730",
       "version_major": 2,
       "version_minor": 0
      },
      "text/plain": [
       "HBox(children=(IntProgress(value=0, description='Pandas Apply', max=405130, style=ProgressStyle(description_wi…"
      ]
     },
     "metadata": {},
     "output_type": "display_data"
    },
    {
     "name": "stdout",
     "output_type": "stream",
     "text": [
      "\n"
     ]
    },
    {
     "data": {
      "application/vnd.jupyter.widget-view+json": {
       "model_id": "f736d23b9107458aaa108af7834074a1",
       "version_major": 2,
       "version_minor": 0
      },
      "text/plain": [
       "HBox(children=(IntProgress(value=0, description='Dask Apply', max=16, style=ProgressStyle(description_width='i…"
      ]
     },
     "metadata": {},
     "output_type": "display_data"
    },
    {
     "name": "stdout",
     "output_type": "stream",
     "text": [
      "\n"
     ]
    },
    {
     "data": {
      "application/vnd.jupyter.widget-view+json": {
       "model_id": "6051a418d8614c98a7c4b2b4ca290bb0",
       "version_major": 2,
       "version_minor": 0
      },
      "text/plain": [
       "HBox(children=(IntProgress(value=0, description='Pandas Apply', max=405130, style=ProgressStyle(description_wi…"
      ]
     },
     "metadata": {},
     "output_type": "display_data"
    },
    {
     "name": "stdout",
     "output_type": "stream",
     "text": [
      "\n"
     ]
    },
    {
     "data": {
      "application/vnd.jupyter.widget-view+json": {
       "model_id": "375be96828d44da182a9fb7519f74091",
       "version_major": 2,
       "version_minor": 0
      },
      "text/plain": [
       "HBox(children=(IntProgress(value=0, description='Pandas Apply', max=405130, style=ProgressStyle(description_wi…"
      ]
     },
     "metadata": {},
     "output_type": "display_data"
    },
    {
     "name": "stdout",
     "output_type": "stream",
     "text": [
      "\n"
     ]
    },
    {
     "data": {
      "application/vnd.jupyter.widget-view+json": {
       "model_id": "2bb68fca97324e089cd3272d15817aeb",
       "version_major": 2,
       "version_minor": 0
      },
      "text/plain": [
       "HBox(children=(IntProgress(value=0, description='Pandas Apply', max=405130, style=ProgressStyle(description_wi…"
      ]
     },
     "metadata": {},
     "output_type": "display_data"
    },
    {
     "name": "stdout",
     "output_type": "stream",
     "text": [
      "\n"
     ]
    },
    {
     "data": {
      "application/vnd.jupyter.widget-view+json": {
       "model_id": "e9dc72d67afe4927be3c98928c099ed0",
       "version_major": 2,
       "version_minor": 0
      },
      "text/plain": [
       "HBox(children=(IntProgress(value=0, description='Pandas Apply', max=405130, style=ProgressStyle(description_wi…"
      ]
     },
     "metadata": {},
     "output_type": "display_data"
    },
    {
     "name": "stdout",
     "output_type": "stream",
     "text": [
      "\n"
     ]
    },
    {
     "data": {
      "application/vnd.jupyter.widget-view+json": {
       "model_id": "c4cc2af693d041529747b2d7096e6e4d",
       "version_major": 2,
       "version_minor": 0
      },
      "text/plain": [
       "HBox(children=(IntProgress(value=0, description='Pandas Apply', max=405130, style=ProgressStyle(description_wi…"
      ]
     },
     "metadata": {},
     "output_type": "display_data"
    },
    {
     "name": "stdout",
     "output_type": "stream",
     "text": [
      "\n"
     ]
    },
    {
     "data": {
      "application/vnd.jupyter.widget-view+json": {
       "model_id": "00a4b54a77034250b0de0f1a82470a1a",
       "version_major": 2,
       "version_minor": 0
      },
      "text/plain": [
       "HBox(children=(IntProgress(value=0, description='Pandas Apply', max=405130, style=ProgressStyle(description_wi…"
      ]
     },
     "metadata": {},
     "output_type": "display_data"
    },
    {
     "name": "stdout",
     "output_type": "stream",
     "text": [
      "\n"
     ]
    },
    {
     "data": {
      "application/vnd.jupyter.widget-view+json": {
       "model_id": "425b14f91e24481bbdd13ccf2a4ab0f3",
       "version_major": 2,
       "version_minor": 0
      },
      "text/plain": [
       "HBox(children=(IntProgress(value=0, description='Pandas Apply', max=405130, style=ProgressStyle(description_wi…"
      ]
     },
     "metadata": {},
     "output_type": "display_data"
    },
    {
     "name": "stdout",
     "output_type": "stream",
     "text": [
      "\n"
     ]
    },
    {
     "data": {
      "application/vnd.jupyter.widget-view+json": {
       "model_id": "69c56f6444314a5295db5251136cb91e",
       "version_major": 2,
       "version_minor": 0
      },
      "text/plain": [
       "HBox(children=(IntProgress(value=0, description='Pandas Apply', max=405130, style=ProgressStyle(description_wi…"
      ]
     },
     "metadata": {},
     "output_type": "display_data"
    },
    {
     "name": "stdout",
     "output_type": "stream",
     "text": [
      "\n"
     ]
    },
    {
     "data": {
      "application/vnd.jupyter.widget-view+json": {
       "model_id": "e87f4134e3ba4d949afe448d980c4f72",
       "version_major": 2,
       "version_minor": 0
      },
      "text/plain": [
       "HBox(children=(IntProgress(value=0, description='Pandas Apply', max=405130, style=ProgressStyle(description_wi…"
      ]
     },
     "metadata": {},
     "output_type": "display_data"
    },
    {
     "name": "stdout",
     "output_type": "stream",
     "text": [
      "\n"
     ]
    },
    {
     "data": {
      "application/vnd.jupyter.widget-view+json": {
       "model_id": "4315c8b0dda14a3f8366b404bcb2c88b",
       "version_major": 2,
       "version_minor": 0
      },
      "text/plain": [
       "HBox(children=(IntProgress(value=0, description='Pandas Apply', max=405130, style=ProgressStyle(description_wi…"
      ]
     },
     "metadata": {},
     "output_type": "display_data"
    },
    {
     "name": "stdout",
     "output_type": "stream",
     "text": [
      "\n"
     ]
    },
    {
     "data": {
      "application/vnd.jupyter.widget-view+json": {
       "model_id": "973d0cb532834d5a8f31939a854faee1",
       "version_major": 2,
       "version_minor": 0
      },
      "text/plain": [
       "HBox(children=(IntProgress(value=0, description='Pandas Apply', max=405130, style=ProgressStyle(description_wi…"
      ]
     },
     "metadata": {},
     "output_type": "display_data"
    },
    {
     "name": "stdout",
     "output_type": "stream",
     "text": [
      "\n"
     ]
    },
    {
     "data": {
      "application/vnd.jupyter.widget-view+json": {
       "model_id": "21074f0993734b45a55e7a850c29a951",
       "version_major": 2,
       "version_minor": 0
      },
      "text/plain": [
       "HBox(children=(IntProgress(value=0, description='Pandas Apply', max=405130, style=ProgressStyle(description_wi…"
      ]
     },
     "metadata": {},
     "output_type": "display_data"
    },
    {
     "name": "stdout",
     "output_type": "stream",
     "text": [
      "\n"
     ]
    },
    {
     "data": {
      "application/vnd.jupyter.widget-view+json": {
       "model_id": "d052b4ebcec04c6080ad721f75c647c6",
       "version_major": 2,
       "version_minor": 0
      },
      "text/plain": [
       "HBox(children=(IntProgress(value=0, description='Pandas Apply', max=405130, style=ProgressStyle(description_wi…"
      ]
     },
     "metadata": {},
     "output_type": "display_data"
    },
    {
     "name": "stdout",
     "output_type": "stream",
     "text": [
      "\n"
     ]
    },
    {
     "data": {
      "application/vnd.jupyter.widget-view+json": {
       "model_id": "eb2cae03cba84594bd0bfd64f4371d06",
       "version_major": 2,
       "version_minor": 0
      },
      "text/plain": [
       "HBox(children=(IntProgress(value=0, description='Pandas Apply', max=405130, style=ProgressStyle(description_wi…"
      ]
     },
     "metadata": {},
     "output_type": "display_data"
    },
    {
     "name": "stdout",
     "output_type": "stream",
     "text": [
      "\n"
     ]
    },
    {
     "data": {
      "application/vnd.jupyter.widget-view+json": {
       "model_id": "25013d6740d843de9caa3cd6bb63a29c",
       "version_major": 2,
       "version_minor": 0
      },
      "text/plain": [
       "HBox(children=(IntProgress(value=0, description='Pandas Apply', max=405130, style=ProgressStyle(description_wi…"
      ]
     },
     "metadata": {},
     "output_type": "display_data"
    },
    {
     "name": "stdout",
     "output_type": "stream",
     "text": [
      "\n"
     ]
    },
    {
     "data": {
      "application/vnd.jupyter.widget-view+json": {
       "model_id": "b1f682121d604152a0ec762f00cfdcf3",
       "version_major": 2,
       "version_minor": 0
      },
      "text/plain": [
       "HBox(children=(IntProgress(value=0, description='Pandas Apply', max=405130, style=ProgressStyle(description_wi…"
      ]
     },
     "metadata": {},
     "output_type": "display_data"
    },
    {
     "name": "stdout",
     "output_type": "stream",
     "text": [
      "\n"
     ]
    },
    {
     "data": {
      "application/vnd.jupyter.widget-view+json": {
       "model_id": "612ec9665a4a404ba6e4de1ff4a8a658",
       "version_major": 2,
       "version_minor": 0
      },
      "text/plain": [
       "HBox(children=(IntProgress(value=0, description='Pandas Apply', max=405130, style=ProgressStyle(description_wi…"
      ]
     },
     "metadata": {},
     "output_type": "display_data"
    },
    {
     "name": "stdout",
     "output_type": "stream",
     "text": [
      "\n"
     ]
    },
    {
     "data": {
      "application/vnd.jupyter.widget-view+json": {
       "model_id": "395cf890be4340ad81c0fb020170a477",
       "version_major": 2,
       "version_minor": 0
      },
      "text/plain": [
       "HBox(children=(IntProgress(value=0, description='Pandas Apply', max=405130, style=ProgressStyle(description_wi…"
      ]
     },
     "metadata": {},
     "output_type": "display_data"
    },
    {
     "name": "stdout",
     "output_type": "stream",
     "text": [
      "\n"
     ]
    },
    {
     "data": {
      "application/vnd.jupyter.widget-view+json": {
       "model_id": "9af4ef7d7ac649ffbe4736e42be796d2",
       "version_major": 2,
       "version_minor": 0
      },
      "text/plain": [
       "HBox(children=(IntProgress(value=0, description='Pandas Apply', max=405130, style=ProgressStyle(description_wi…"
      ]
     },
     "metadata": {},
     "output_type": "display_data"
    },
    {
     "name": "stdout",
     "output_type": "stream",
     "text": [
      "\n"
     ]
    },
    {
     "data": {
      "application/vnd.jupyter.widget-view+json": {
       "model_id": "22ab5f4f1d6a4a17bb7f6b54da49190e",
       "version_major": 2,
       "version_minor": 0
      },
      "text/plain": [
       "HBox(children=(IntProgress(value=0, description='Pandas Apply', max=405130, style=ProgressStyle(description_wi…"
      ]
     },
     "metadata": {},
     "output_type": "display_data"
    },
    {
     "name": "stdout",
     "output_type": "stream",
     "text": [
      "\n"
     ]
    },
    {
     "data": {
      "application/vnd.jupyter.widget-view+json": {
       "model_id": "e6da6bf14b8e4b5ba02892488814147c",
       "version_major": 2,
       "version_minor": 0
      },
      "text/plain": [
       "HBox(children=(IntProgress(value=0, description='Pandas Apply', max=405130, style=ProgressStyle(description_wi…"
      ]
     },
     "metadata": {},
     "output_type": "display_data"
    },
    {
     "name": "stdout",
     "output_type": "stream",
     "text": [
      "\n"
     ]
    },
    {
     "data": {
      "application/vnd.jupyter.widget-view+json": {
       "model_id": "89b0c8911ca94108a21b1b3bbd967a5d",
       "version_major": 2,
       "version_minor": 0
      },
      "text/plain": [
       "HBox(children=(IntProgress(value=0, description='Pandas Apply', max=405130, style=ProgressStyle(description_wi…"
      ]
     },
     "metadata": {},
     "output_type": "display_data"
    },
    {
     "name": "stdout",
     "output_type": "stream",
     "text": [
      "\n"
     ]
    },
    {
     "data": {
      "application/vnd.jupyter.widget-view+json": {
       "model_id": "8686cb38a57d4631ae4bb57db4a4cc5d",
       "version_major": 2,
       "version_minor": 0
      },
      "text/plain": [
       "HBox(children=(IntProgress(value=0, description='Pandas Apply', max=405130, style=ProgressStyle(description_wi…"
      ]
     },
     "metadata": {},
     "output_type": "display_data"
    },
    {
     "name": "stdout",
     "output_type": "stream",
     "text": [
      "\n"
     ]
    }
   ],
   "source": [
    "X, y = d.clean()"
   ]
  },
  {
   "cell_type": "markdown",
   "metadata": {},
   "source": [
    "**Data exploration**"
   ]
  },
  {
   "cell_type": "markdown",
   "metadata": {},
   "source": [
    "In the 'y' dataset, the 'offensive' column measures only whether a comment is offensive. The 'offensive_and_identity' column measures both whether a comment is offensive, and whether if it specifically refers to an identity group. Details regarding these values can be found on the 'data_prep.py' page in the 'target_grouping', 'identities', and 'target' function descriptions."
   ]
  },
  {
   "cell_type": "code",
   "execution_count": 5,
   "metadata": {
    "scrolled": false
   },
   "outputs": [
    {
     "data": {
      "text/html": [
       "<div>\n",
       "<style scoped>\n",
       "    .dataframe tbody tr th:only-of-type {\n",
       "        vertical-align: middle;\n",
       "    }\n",
       "\n",
       "    .dataframe tbody tr th {\n",
       "        vertical-align: top;\n",
       "    }\n",
       "\n",
       "    .dataframe thead th {\n",
       "        text-align: right;\n",
       "    }\n",
       "</style>\n",
       "<table border=\"1\" class=\"dataframe\">\n",
       "  <thead>\n",
       "    <tr style=\"text-align: right;\">\n",
       "      <th></th>\n",
       "      <th>offensive</th>\n",
       "      <th>offensive_and_identity</th>\n",
       "    </tr>\n",
       "  </thead>\n",
       "  <tbody>\n",
       "    <tr>\n",
       "      <th>0</th>\n",
       "      <td>1</td>\n",
       "      <td>3</td>\n",
       "    </tr>\n",
       "    <tr>\n",
       "      <th>1</th>\n",
       "      <td>0</td>\n",
       "      <td>1</td>\n",
       "    </tr>\n",
       "    <tr>\n",
       "      <th>2</th>\n",
       "      <td>1</td>\n",
       "      <td>2</td>\n",
       "    </tr>\n",
       "    <tr>\n",
       "      <th>3</th>\n",
       "      <td>0</td>\n",
       "      <td>0</td>\n",
       "    </tr>\n",
       "    <tr>\n",
       "      <th>4</th>\n",
       "      <td>1</td>\n",
       "      <td>3</td>\n",
       "    </tr>\n",
       "  </tbody>\n",
       "</table>\n",
       "</div>"
      ],
      "text/plain": [
       "   offensive  offensive_and_identity\n",
       "0          1                       3\n",
       "1          0                       1\n",
       "2          1                       2\n",
       "3          0                       0\n",
       "4          1                       3"
      ]
     },
     "execution_count": 5,
     "metadata": {},
     "output_type": "execute_result"
    }
   ],
   "source": [
    "y.head()"
   ]
  },
  {
   "cell_type": "markdown",
   "metadata": {},
   "source": [
    "In the 'X' dataset, the comment_text column contains the cleaned comments written in lower case with punctuation removed."
   ]
  },
  {
   "cell_type": "code",
   "execution_count": 6,
   "metadata": {},
   "outputs": [
    {
     "data": {
      "text/html": [
       "<div>\n",
       "<style scoped>\n",
       "    .dataframe tbody tr th:only-of-type {\n",
       "        vertical-align: middle;\n",
       "    }\n",
       "\n",
       "    .dataframe tbody tr th {\n",
       "        vertical-align: top;\n",
       "    }\n",
       "\n",
       "    .dataframe thead th {\n",
       "        text-align: right;\n",
       "    }\n",
       "</style>\n",
       "<table border=\"1\" class=\"dataframe\">\n",
       "  <thead>\n",
       "    <tr style=\"text-align: right;\">\n",
       "      <th></th>\n",
       "      <th>comment_text</th>\n",
       "    </tr>\n",
       "  </thead>\n",
       "  <tbody>\n",
       "    <tr>\n",
       "      <th>0</th>\n",
       "      <td>haha you guys are a bunch of losers</td>\n",
       "    </tr>\n",
       "    <tr>\n",
       "      <th>1</th>\n",
       "      <td>this is a great story man i wonder if the pers...</td>\n",
       "    </tr>\n",
       "    <tr>\n",
       "      <th>2</th>\n",
       "      <td>angry trolls misogynists and racists oh my it ...</td>\n",
       "    </tr>\n",
       "    <tr>\n",
       "      <th>3</th>\n",
       "      <td>nice to some attempts to try to make comments ...</td>\n",
       "    </tr>\n",
       "    <tr>\n",
       "      <th>4</th>\n",
       "      <td>yet call out all muslims for the acts of a few...</td>\n",
       "    </tr>\n",
       "  </tbody>\n",
       "</table>\n",
       "</div>"
      ],
      "text/plain": [
       "                                        comment_text\n",
       "0                haha you guys are a bunch of losers\n",
       "1  this is a great story man i wonder if the pers...\n",
       "2  angry trolls misogynists and racists oh my it ...\n",
       "3  nice to some attempts to try to make comments ...\n",
       "4  yet call out all muslims for the acts of a few..."
      ]
     },
     "execution_count": 6,
     "metadata": {},
     "output_type": "execute_result"
    }
   ],
   "source": [
    "X.head()"
   ]
  },
  {
   "cell_type": "code",
   "execution_count": 8,
   "metadata": {},
   "outputs": [
    {
     "name": "stdout",
     "output_type": "stream",
     "text": [
      "<class 'pandas.core.frame.DataFrame'>\n",
      "RangeIndex: 405130 entries, 0 to 405129\n",
      "Data columns (total 2 columns):\n",
      "offensive                 405130 non-null int64\n",
      "offensive_and_identity    405130 non-null int64\n",
      "dtypes: int64(2)\n",
      "memory usage: 6.2 MB\n"
     ]
    }
   ],
   "source": [
    "y.info()"
   ]
  },
  {
   "cell_type": "code",
   "execution_count": 9,
   "metadata": {
    "scrolled": true
   },
   "outputs": [
    {
     "name": "stdout",
     "output_type": "stream",
     "text": [
      "<class 'pandas.core.frame.DataFrame'>\n",
      "RangeIndex: 405130 entries, 0 to 405129\n",
      "Data columns (total 1 columns):\n",
      "comment_text    405130 non-null object\n",
      "dtypes: object(1)\n",
      "memory usage: 3.1+ MB\n"
     ]
    }
   ],
   "source": [
    "X.info()"
   ]
  },
  {
   "cell_type": "code",
   "execution_count": 31,
   "metadata": {},
   "outputs": [],
   "source": [
    "X_train, X_test, y_train, y_test = f.train_test(X, y['target'])"
   ]
  },
  {
   "cell_type": "code",
   "execution_count": 49,
   "metadata": {
    "scrolled": false
   },
   "outputs": [
    {
     "name": "stdout",
     "output_type": "stream",
     "text": [
      "[nltk_data] Downloading package stopwords to\n",
      "[nltk_data]     /home/ec2-user/nltk_data...\n",
      "[nltk_data]   Package stopwords is already up-to-date!\n",
      "Confusion matrix, without normalization\n",
      "[[113976   4519]\n",
      " [  8577   6614]]\n"
     ]
    },
    {
     "data": {
      "image/png": "[encoded data removed]",
      "text/plain": [
       "<Figure size 720x360 with 2 Axes>"
      ]
     },
     "metadata": {},
     "output_type": "display_data"
    }
   ],
   "source": [
    "clean_train_data = []\n",
    "for traindata in X_train['comment_text']:\n",
    "    clean_train_data.append(traindata)\n",
    "\n",
    "clean_test_data = []\n",
    "for testdata in X_test['comment_text']:\n",
    "    clean_test_data.append(testdata)\n",
    "\n",
    "nltk.download('stopwords')\n",
    "#stopwords = set(stopwords.words('english'))\n",
    "\n",
    "vectorizer = CountVectorizer(analyzer=\"word\",\n",
    "                             tokenizer=None,\n",
    "                             preprocessor=None,\n",
    "                             stop_words=stopwords,\n",
    "                             max_features=6000,\n",
    "                             ngram_range=(1, 3))\n",
    "\n",
    "train_data_features = vectorizer.fit_transform(clean_train_data)\n",
    "\n",
    "test_data_features = vectorizer.transform(clean_test_data)\n",
    "\n",
    "test_data_group_features = vectorizer.transform(clean_test_group_data)\n",
    "\n",
    "textreg = LogisticRegression(C=1, fit_intercept = False, solver='saga', random_state=42)\n",
    "\n",
    "textreg.fit(train_data_features, y_train)\n",
    "\n",
    "y_pred = textreg.predict(test_data_features)\n",
    "cm = confusion_matrix(y_test, y_pred)\n",
    "cm_labels = ['Good', 'Bad']\n",
    "plot_confusion_matrix(cm, cm_labels)"
   ]
  },
  {
   "cell_type": "code",
   "execution_count": null,
   "metadata": {},
   "outputs": [],
   "source": [
    "9767"
   ]
  },
  {
   "cell_type": "code",
   "execution_count": 91,
   "metadata": {},
   "outputs": [
    {
     "data": {
      "text/plain": [
       "17022"
      ]
     },
     "execution_count": 91,
     "metadata": {},
     "output_type": "execute_result"
    }
   ],
   "source": [
    "(4519*1)+(8577*3)-(6614*2)"
   ]
  },
  {
   "cell_type": "code",
   "execution_count": 180,
   "metadata": {},
   "outputs": [
    {
     "data": {
      "text/plain": [
       "133596"
      ]
     },
     "execution_count": 180,
     "metadata": {},
     "output_type": "execute_result"
    }
   ],
   "source": [
    "114165+4239+8744+6448"
   ]
  },
  {
   "cell_type": "code",
   "execution_count": 50,
   "metadata": {},
   "outputs": [
    {
     "name": "stdout",
     "output_type": "stream",
     "text": [
      "Confusion matrix, without normalization\n",
      "[[113976   4519]\n",
      " [  8577   6614]]\n"
     ]
    },
    {
     "data": {
      "image/png": "[encoded data removed]",
      "text/plain": [
       "<Figure size 720x360 with 2 Axes>"
      ]
     },
     "metadata": {},
     "output_type": "display_data"
    }
   ],
   "source": [
    "y_pred = textreg.predict(test_data_features)\n",
    "cm = confusion_matrix(y_test, y_pred)\n",
    "cm_labels = ['Good', 'Bad']\n",
    "plot_confusion_matrix(cm, cm_labels)\n",
    "plt.savefig('initial.png')"
   ]
  },
  {
   "cell_type": "code",
   "execution_count": 101,
   "metadata": {},
   "outputs": [
    {
     "data": {
      "text/plain": [
       "0.17992137889325674"
      ]
     },
     "execution_count": 101,
     "metadata": {},
     "output_type": "execute_result"
    }
   ],
   "source": [
    "(6614-5424)/6614"
   ]
  },
  {
   "cell_type": "code",
   "execution_count": 52,
   "metadata": {},
   "outputs": [
    {
     "name": "stdout",
     "output_type": "stream",
     "text": [
      "Test precision score:  0.594089643402497\n",
      "Test Recall score:  0.4353893752879995\n",
      "Test Accuracy score:  0.9020391065631405\n",
      "Test f1 score:  0.5025072177480626\n"
     ]
    }
   ],
   "source": [
    "f.scores(y_test, y_pred)"
   ]
  },
  {
   "cell_type": "code",
   "execution_count": 47,
   "metadata": {},
   "outputs": [],
   "source": [
    "test_data_features = vectorizer.transform(clean_test_group_data)"
   ]
  },
  {
   "cell_type": "code",
   "execution_count": 54,
   "metadata": {
    "scrolled": false
   },
   "outputs": [
    {
     "name": "stdout",
     "output_type": "stream",
     "text": [
      "Confusion matrix, without normalization\n",
      "[[60369  2828]\n",
      " [ 6583  4553]]\n"
     ]
    },
    {
     "data": {
      "image/png": "[encoded data removed]",
      "text/plain": [
       "<Figure size 720x360 with 2 Axes>"
      ]
     },
     "metadata": {},
     "output_type": "display_data"
    }
   ],
   "source": [
    "y_pred_group = textreg.predict(test_data_group_features)\n",
    "cm2 = confusion_matrix(y_test_group, y_pred_group)\n",
    "cm_labels = ['Good', 'Bad']\n",
    "plot_confusion_matrix(cm2, cm_labels)"
   ]
  },
  {
   "cell_type": "code",
   "execution_count": null,
   "metadata": {},
   "outputs": [],
   "source": [
    "(6583*1)+(28)"
   ]
  },
  {
   "cell_type": "code",
   "execution_count": 55,
   "metadata": {},
   "outputs": [
    {
     "name": "stdout",
     "output_type": "stream",
     "text": [
      "Test precision score:  0.616854084812356\n",
      "Test Recall score:  0.4088541666666667\n",
      "Test Accuracy score:  0.8733940510943995\n",
      "Test f1 score:  0.49176432467462333\n"
     ]
    }
   ],
   "source": [
    "f.scores(y_test_group, y_pred_group)"
   ]
  },
  {
   "cell_type": "code",
   "execution_count": 58,
   "metadata": {},
   "outputs": [],
   "source": [
    "X_train, X_test, y_train, y_test = train_test_split(X,\n",
    "                                                    y['target_new'],\n",
    "                                                    test_size=.33,\n",
    "                                                    random_state=42,\n",
    "                                                    stratify=y)\n",
    "data_y = pd.concat([X_test, y_test], axis=1)\n",
    "data_group = data_y.loc[data_y.max_group!=0]\n",
    "X_test_group = data_group.drop(columns = ['target_new'])\n",
    "y_test_group = data_group['target_new']"
   ]
  },
  {
   "cell_type": "code",
   "execution_count": 59,
   "metadata": {},
   "outputs": [
    {
     "name": "stdout",
     "output_type": "stream",
     "text": [
      "One hot labels shape:\n",
      "(405109, 4)\n",
      "Test label shape: (133686, 4)\n",
      "Train label shape: (271423, 4)\n",
      "Test shape: (133686, 6000)\n",
      "Train shape: (271423, 6000)\n"
     ]
    }
   ],
   "source": [
    "comments = data[\"comment_text\"]\n",
    "\n",
    "tokenizer = Tokenizer(num_words=6000)\n",
    "\n",
    "tokenizer.fit_on_texts(comments)\n",
    "\n",
    "sequences = tokenizer.texts_to_sequences(comments)\n",
    "\n",
    "one_hot_results= tokenizer.texts_to_matrix(comments, mode='binary')\n",
    "\n",
    "word_index = tokenizer.word_index\n",
    "\n",
    "reverse_index = dict([(value, key) for (key, value) in word_index.items()])\n",
    "\n",
    "target = data[\"target_new\"]\n",
    "\n",
    "le = preprocessing.LabelEncoder() #Initialize. le used as abbreviation fo label encoder\n",
    "le.fit(target)\n",
    "target_cat = le.transform(target)  \n",
    "\n",
    "target_onehot = to_categorical(target_cat)\n",
    "\n",
    "print('One hot labels shape:')\n",
    "print(np.shape(target_onehot))\n",
    "\n",
    "multi_label_test = np.array(y_test)\n",
    "test_index = list(X_test.index)\n",
    "\n",
    "test = one_hot_results[test_index]\n",
    "train = np.delete(one_hot_results, test_index, 0)\n",
    "\n",
    "label_test = target_onehot[test_index]\n",
    "label_train = np.delete(target_onehot, test_index, 0)\n",
    "\n",
    "print(\"Test label shape:\", np.shape(label_test))\n",
    "print(\"Train label shape:\", np.shape(label_train))\n",
    "print(\"Test shape:\", np.shape(test))\n",
    "print(\"Train shape:\", np.shape(train))"
   ]
  },
  {
   "cell_type": "code",
   "execution_count": 60,
   "metadata": {},
   "outputs": [],
   "source": [
    "multi_label_test_group = np.array(y_test_group)\n",
    "test_index_group = list(X_test_group.index)\n",
    "test_group = one_hot_results[test_index_group]\n",
    "label_test_group = target_onehot[test_index_group]"
   ]
  },
  {
   "cell_type": "code",
   "execution_count": 61,
   "metadata": {},
   "outputs": [
    {
     "name": "stdout",
     "output_type": "stream",
     "text": [
      "WARNING:tensorflow:From /home/ec2-user/anaconda3/envs/python3/lib/python3.6/site-packages/keras/backend/tensorflow_backend.py:422: The name tf.global_variables is deprecated. Please use tf.compat.v1.global_variables instead.\n",
      "\n",
      "Train on 217138 samples, validate on 54285 samples\n",
      "Epoch 1/120\n",
      "217138/217138 [==============================] - 32s 146us/step - loss: 1.0278 - accuracy: 0.5518 - f1_m: 0.3721 - precision_m: 0.5235 - recall_m: 0.3101 - val_loss: 1.1809 - val_accuracy: 0.3600 - val_f1_m: 0.3068 - val_precision_m: 0.3611 - val_recall_m: 0.2669\n",
      "Epoch 2/120\n",
      "217138/217138 [==============================] - 31s 145us/step - loss: 0.9048 - accuracy: 0.6396 - f1_m: 0.6103 - precision_m: 0.6722 - recall_m: 0.5592 - val_loss: 1.0672 - val_accuracy: 0.4934 - val_f1_m: 0.4627 - val_precision_m: 0.5123 - val_recall_m: 0.4220\n",
      "Epoch 3/120\n",
      "217138/217138 [==============================] - 32s 146us/step - loss: 0.7920 - accuracy: 0.7181 - f1_m: 0.7037 - precision_m: 0.7446 - recall_m: 0.6673 - val_loss: 0.9307 - val_accuracy: 0.6060 - val_f1_m: 0.5904 - val_precision_m: 0.6197 - val_recall_m: 0.5639\n",
      "Epoch 4/120\n",
      "217138/217138 [==============================] - 32s 145us/step - loss: 0.7254 - accuracy: 0.7505 - f1_m: 0.7413 - precision_m: 0.7697 - recall_m: 0.7151 - val_loss: 0.8558 - val_accuracy: 0.6428 - val_f1_m: 0.6351 - val_precision_m: 0.6545 - val_recall_m: 0.6169\n",
      "Epoch 5/120\n",
      "217138/217138 [==============================] - 32s 145us/step - loss: 0.6889 - accuracy: 0.7641 - f1_m: 0.7588 - precision_m: 0.7797 - recall_m: 0.7390 - val_loss: 0.8463 - val_accuracy: 0.6479 - val_f1_m: 0.6428 - val_precision_m: 0.6575 - val_recall_m: 0.6289\n",
      "Epoch 6/120\n",
      "217138/217138 [==============================] - 31s 145us/step - loss: 0.6698 - accuracy: 0.7706 - f1_m: 0.7669 - precision_m: 0.7854 - recall_m: 0.7494 - val_loss: 0.8107 - val_accuracy: 0.6604 - val_f1_m: 0.6562 - val_precision_m: 0.6696 - val_recall_m: 0.6433\n",
      "Epoch 7/120\n",
      "217138/217138 [==============================] - 32s 145us/step - loss: 0.6544 - accuracy: 0.7754 - f1_m: 0.7721 - precision_m: 0.7894 - recall_m: 0.7556 - val_loss: 0.7656 - val_accuracy: 0.6792 - val_f1_m: 0.6756 - val_precision_m: 0.6881 - val_recall_m: 0.6636\n",
      "Epoch 8/120\n",
      "217138/217138 [==============================] - 32s 146us/step - loss: 0.6425 - accuracy: 0.7774 - f1_m: 0.7749 - precision_m: 0.7920 - recall_m: 0.7586 - val_loss: 0.7772 - val_accuracy: 0.6714 - val_f1_m: 0.6687 - val_precision_m: 0.6811 - val_recall_m: 0.6569\n",
      "Epoch 9/120\n",
      "217138/217138 [==============================] - 32s 146us/step - loss: 0.6319 - accuracy: 0.7804 - f1_m: 0.7788 - precision_m: 0.7954 - recall_m: 0.7629 - val_loss: 0.7418 - val_accuracy: 0.6842 - val_f1_m: 0.6810 - val_precision_m: 0.6948 - val_recall_m: 0.6679\n",
      "Epoch 10/120\n",
      "217138/217138 [==============================] - 32s 145us/step - loss: 0.6219 - accuracy: 0.7827 - f1_m: 0.7810 - precision_m: 0.7984 - recall_m: 0.7644 - val_loss: 0.7503 - val_accuracy: 0.6794 - val_f1_m: 0.6761 - val_precision_m: 0.6902 - val_recall_m: 0.6627\n",
      "Epoch 11/120\n",
      "217138/217138 [==============================] - 32s 146us/step - loss: 0.6134 - accuracy: 0.7844 - f1_m: 0.7833 - precision_m: 0.8011 - recall_m: 0.7663 - val_loss: 0.7163 - val_accuracy: 0.6907 - val_f1_m: 0.6890 - val_precision_m: 0.7015 - val_recall_m: 0.6771\n",
      "Epoch 12/120\n",
      "217138/217138 [==============================] - 31s 145us/step - loss: 0.6046 - accuracy: 0.7853 - f1_m: 0.7843 - precision_m: 0.8031 - recall_m: 0.7665 - val_loss: 0.7213 - val_accuracy: 0.6884 - val_f1_m: 0.6858 - val_precision_m: 0.6999 - val_recall_m: 0.6724\n",
      "Epoch 13/120\n",
      "217138/217138 [==============================] - 32s 145us/step - loss: 0.5982 - accuracy: 0.7865 - f1_m: 0.7857 - precision_m: 0.8055 - recall_m: 0.7669 - val_loss: 0.7090 - val_accuracy: 0.6927 - val_f1_m: 0.6911 - val_precision_m: 0.7071 - val_recall_m: 0.6759\n",
      "Epoch 14/120\n",
      "217138/217138 [==============================] - 31s 145us/step - loss: 0.5874 - accuracy: 0.7893 - f1_m: 0.7896 - precision_m: 0.8102 - recall_m: 0.7701 - val_loss: 0.7151 - val_accuracy: 0.6938 - val_f1_m: 0.6903 - val_precision_m: 0.7105 - val_recall_m: 0.6713\n",
      "Epoch 15/120\n",
      "217138/217138 [==============================] - 32s 146us/step - loss: 0.5823 - accuracy: 0.7912 - f1_m: 0.7906 - precision_m: 0.8124 - recall_m: 0.7701 - val_loss: 0.7027 - val_accuracy: 0.7027 - val_f1_m: 0.6972 - val_precision_m: 0.7200 - val_recall_m: 0.6759\n",
      "Epoch 16/120\n",
      "217138/217138 [==============================] - 31s 145us/step - loss: 0.5722 - accuracy: 0.7945 - f1_m: 0.7937 - precision_m: 0.8157 - recall_m: 0.7729 - val_loss: 0.6777 - val_accuracy: 0.7120 - val_f1_m: 0.7081 - val_precision_m: 0.7277 - val_recall_m: 0.6897\n",
      "Epoch 17/120\n",
      "217138/217138 [==============================] - 32s 146us/step - loss: 0.5687 - accuracy: 0.7964 - f1_m: 0.7942 - precision_m: 0.8175 - recall_m: 0.7722 - val_loss: 0.6789 - val_accuracy: 0.7133 - val_f1_m: 0.7083 - val_precision_m: 0.7286 - val_recall_m: 0.6892\n",
      "Epoch 18/120\n",
      "217138/217138 [==============================] - 31s 145us/step - loss: 0.5604 - accuracy: 0.7987 - f1_m: 0.7961 - precision_m: 0.8198 - recall_m: 0.7738 - val_loss: 0.6565 - val_accuracy: 0.7257 - val_f1_m: 0.7207 - val_precision_m: 0.7418 - val_recall_m: 0.7009\n",
      "Epoch 19/120\n",
      "217138/217138 [==============================] - 32s 146us/step - loss: 0.5525 - accuracy: 0.8024 - f1_m: 0.7988 - precision_m: 0.8222 - recall_m: 0.7768 - val_loss: 0.6558 - val_accuracy: 0.7268 - val_f1_m: 0.7231 - val_precision_m: 0.7428 - val_recall_m: 0.7046\n",
      "Epoch 20/120\n",
      "217138/217138 [==============================] - 32s 146us/step - loss: 0.5472 - accuracy: 0.8041 - f1_m: 0.8003 - precision_m: 0.8229 - recall_m: 0.7790 - val_loss: 0.6587 - val_accuracy: 0.7268 - val_f1_m: 0.7221 - val_precision_m: 0.7418 - val_recall_m: 0.7036\n",
      "Epoch 21/120\n",
      "217138/217138 [==============================] - 32s 145us/step - loss: 0.5422 - accuracy: 0.8058 - f1_m: 0.8027 - precision_m: 0.8246 - recall_m: 0.7820 - val_loss: 0.6688 - val_accuracy: 0.7225 - val_f1_m: 0.7173 - val_precision_m: 0.7386 - val_recall_m: 0.6973\n",
      "Epoch 22/120\n",
      "217138/217138 [==============================] - 31s 145us/step - loss: 0.5363 - accuracy: 0.8080 - f1_m: 0.8053 - precision_m: 0.8263 - recall_m: 0.7853 - val_loss: 0.6469 - val_accuracy: 0.7326 - val_f1_m: 0.7277 - val_precision_m: 0.7490 - val_recall_m: 0.7077\n",
      "Epoch 23/120\n",
      "217138/217138 [==============================] - 32s 145us/step - loss: 0.5326 - accuracy: 0.8089 - f1_m: 0.8057 - precision_m: 0.8263 - recall_m: 0.7861 - val_loss: 0.6291 - val_accuracy: 0.7388 - val_f1_m: 0.7363 - val_precision_m: 0.7531 - val_recall_m: 0.7203\n",
      "Epoch 24/120\n",
      "217138/217138 [==============================] - 31s 145us/step - loss: 0.5291 - accuracy: 0.8106 - f1_m: 0.8075 - precision_m: 0.8279 - recall_m: 0.7882 - val_loss: 0.6490 - val_accuracy: 0.7318 - val_f1_m: 0.7292 - val_precision_m: 0.7470 - val_recall_m: 0.7123\n",
      "Epoch 25/120\n",
      "217138/217138 [==============================] - 32s 146us/step - loss: 0.5255 - accuracy: 0.8125 - f1_m: 0.8098 - precision_m: 0.8293 - recall_m: 0.7913 - val_loss: 0.6473 - val_accuracy: 0.7312 - val_f1_m: 0.7286 - val_precision_m: 0.7443 - val_recall_m: 0.7136\n",
      "Epoch 26/120\n",
      "217138/217138 [==============================] - 31s 144us/step - loss: 0.5222 - accuracy: 0.8127 - f1_m: 0.8100 - precision_m: 0.8291 - recall_m: 0.7918 - val_loss: 0.6461 - val_accuracy: 0.7339 - val_f1_m: 0.7307 - val_precision_m: 0.7486 - val_recall_m: 0.7137\n",
      "Epoch 27/120\n",
      "217138/217138 [==============================] - 32s 146us/step - loss: 0.5171 - accuracy: 0.8144 - f1_m: 0.8121 - precision_m: 0.8308 - recall_m: 0.7944 - val_loss: 0.6415 - val_accuracy: 0.7365 - val_f1_m: 0.7338 - val_precision_m: 0.7515 - val_recall_m: 0.7170\n"
     ]
    }
   ],
   "source": [
    "model = models.Sequential()\n",
    "model.add(Dropout(.2))\n",
    "model.add(layers.Dense(1000, activation='relu', input_shape=(6000,)))\n",
    "model.add(Dropout(.2))\n",
    "model.add(layers.Dense(500, activation='relu'))\n",
    "model.add(Dropout(.2))\n",
    "model.add(layers.Dense(100, activation='relu'))\n",
    "model.add(Dropout(.2))\n",
    "model.add(layers.Dense(50, activation='relu'))\n",
    "model.add(Dropout(.2))\n",
    "model.add(layers.Dense(4, activation='softmax'))\n",
    "\n",
    "model.compile(optimizer='SGD',\n",
    "              loss='categorical_crossentropy',\n",
    "              metrics=['accuracy', f1_m, precision_m, recall_m])\n",
    "es_callback = (EarlyStopping(monitor='val_loss', patience=4))\n",
    "\n",
    "results = model.fit(train,\n",
    "                    label_train,\n",
    "                    epochs=120,\n",
    "                    batch_size=250,\n",
    "                    validation_split=0.2,\n",
    "                    callbacks = [es_callback])"
   ]
  },
  {
   "cell_type": "code",
   "execution_count": null,
   "metadata": {},
   "outputs": [],
   "source": []
  },
  {
   "cell_type": "code",
   "execution_count": 40,
   "metadata": {},
   "outputs": [],
   "source": [
    "def visualize_training_results(results):\n",
    "    history = results.history\n",
    "    plt.figure()\n",
    "    plt.plot(history['val_loss'])\n",
    "    plt.plot(history['loss'])\n",
    "    plt.legend(['val_loss', 'loss'])\n",
    "    plt.title('Loss')\n",
    "    plt.xlabel('Epochs')\n",
    "    plt.ylabel('Loss')\n",
    "    plt.show()\n",
    "    \n",
    "    plt.figure()\n",
    "    plt.plot(history['val_f1_m'])\n",
    "    plt.plot(history['f1_m'])\n",
    "    plt.legend(['val_f1_m', 'f1_m'])\n",
    "    plt.title('F1 Scores')\n",
    "    plt.xlabel('Epochs')\n",
    "    plt.ylabel('F1 Scores')\n",
    "    plt.show()"
   ]
  },
  {
   "cell_type": "code",
   "execution_count": 43,
   "metadata": {},
   "outputs": [],
   "source": []
  },
  {
   "cell_type": "code",
   "execution_count": null,
   "metadata": {},
   "outputs": [],
   "source": []
  },
  {
   "cell_type": "code",
   "execution_count": 62,
   "metadata": {},
   "outputs": [
    {
     "name": "stdout",
     "output_type": "stream",
     "text": [
      "271423/271423 [==============================] - 24s 89us/step\n"
     ]
    },
    {
     "data": {
      "text/plain": [
       "[0.4376546337391396,\n",
       " 0.8385913968086243,\n",
       " 0.8359639644622803,\n",
       " 0.8528567552566528,\n",
       " 0.8203352093696594]"
      ]
     },
     "execution_count": 62,
     "metadata": {},
     "output_type": "execute_result"
    }
   ],
   "source": [
    "results_train = model.evaluate(train, label_train)\n",
    "\n",
    "results_train"
   ]
  },
  {
   "cell_type": "code",
   "execution_count": 63,
   "metadata": {},
   "outputs": [
    {
     "name": "stdout",
     "output_type": "stream",
     "text": [
      "133686/133686 [==============================] - 12s 90us/step\n"
     ]
    },
    {
     "data": {
      "text/plain": [
       "[0.49013960457562583,\n",
       " 0.8183878660202026,\n",
       " 0.8162408471107483,\n",
       " 0.8329905271530151,\n",
       " 0.8006420135498047]"
      ]
     },
     "execution_count": 63,
     "metadata": {},
     "output_type": "execute_result"
    }
   ],
   "source": [
    "results_test = model.evaluate(test, label_test)\n",
    "results_test"
   ]
  },
  {
   "cell_type": "code",
   "execution_count": 64,
   "metadata": {},
   "outputs": [
    {
     "data": {
      "image/png": "[encoded data removed]",
      "text/plain": [
       "<Figure size 432x288 with 1 Axes>"
      ]
     },
     "metadata": {},
     "output_type": "display_data"
    },
    {
     "data": {
      "image/png": "[encoded data removed]",
      "text/plain": [
       "<Figure size 432x288 with 1 Axes>"
      ]
     },
     "metadata": {},
     "output_type": "display_data"
    }
   ],
   "source": [
    "visualize_training_results(results)"
   ]
  },
  {
   "cell_type": "code",
   "execution_count": 67,
   "metadata": {},
   "outputs": [],
   "source": [
    "y_pred_classes = model.predict_classes(test)\n",
    "multi_label_test = np.array(y_test)\n",
    "cm = confusion_matrix(multi_label_test, y_pred_classes)\n",
    "cm_labels = ['Good_none', 'Good_group',\n",
    "             'Bad_none', 'Bad_group']"
   ]
  },
  {
   "cell_type": "code",
   "execution_count": 79,
   "metadata": {},
   "outputs": [
    {
     "data": {
      "text/plain": [
       "array([1, 0, 1, ..., 1, 0, 0])"
      ]
     },
     "execution_count": 79,
     "metadata": {},
     "output_type": "execute_result"
    }
   ],
   "source": [
    "y_pred_classes"
   ]
  },
  {
   "cell_type": "code",
   "execution_count": 72,
   "metadata": {},
   "outputs": [
    {
     "data": {
      "text/plain": [
       "{0, 1, 2, 3}"
      ]
     },
     "execution_count": 72,
     "metadata": {},
     "output_type": "execute_result"
    }
   ],
   "source": [
    "set(y_pred_classes)"
   ]
  },
  {
   "cell_type": "code",
   "execution_count": 95,
   "metadata": {
    "scrolled": false
   },
   "outputs": [
    {
     "name": "stdout",
     "output_type": "stream",
     "text": [
      "Confusion matrix, without normalization\n",
      "[[52046  2683   521    48]\n",
      " [ 9115 52551   155  1376]\n",
      " [ 2171   169  1637    78]\n",
      " [  695  6732   536  3173]]\n"
     ]
    },
    {
     "data": {
      "image/png": "[encoded data removed]",
      "text/plain": [
       "<Figure size 720x360 with 2 Axes>"
      ]
     },
     "metadata": {},
     "output_type": "display_data"
    }
   ],
   "source": [
    "plot_confusion_matrix(cm, cm_labels)"
   ]
  },
  {
   "cell_type": "code",
   "execution_count": 80,
   "metadata": {},
   "outputs": [],
   "source": [
    "def change(array):\n",
    "    list_original = list(array)\n",
    "    list_new = []\n",
    "    for i in list_original:\n",
    "        if i in [0,1]:\n",
    "            list_new.append(0)\n",
    "        elif i in [2,3]:\n",
    "            list_new.append(1)\n",
    "    array_new = np.array(list_new)\n",
    "    return array_new"
   ]
  },
  {
   "cell_type": "code",
   "execution_count": 81,
   "metadata": {},
   "outputs": [],
   "source": [
    "y_pred_classes_new = change(y_pred_classes)"
   ]
  },
  {
   "cell_type": "code",
   "execution_count": 82,
   "metadata": {},
   "outputs": [
    {
     "data": {
      "text/plain": [
       "{0, 1}"
      ]
     },
     "execution_count": 82,
     "metadata": {},
     "output_type": "execute_result"
    }
   ],
   "source": [
    "set(y_pred_classes_new)"
   ]
  },
  {
   "cell_type": "code",
   "execution_count": 83,
   "metadata": {},
   "outputs": [],
   "source": [
    "multi_label_test_new = change(multi_label_test)"
   ]
  },
  {
   "cell_type": "code",
   "execution_count": 84,
   "metadata": {},
   "outputs": [
    {
     "name": "stdout",
     "output_type": "stream",
     "text": [
      "Confusion matrix, without normalization\n",
      "[[116395   2100]\n",
      " [  9767   5424]]\n"
     ]
    },
    {
     "data": {
      "image/png": "[encoded data removed]",
      "text/plain": [
       "<Figure size 720x360 with 2 Axes>"
      ]
     },
     "metadata": {},
     "output_type": "display_data"
    }
   ],
   "source": [
    "cm2 = confusion_matrix(multi_label_test_new, y_pred_classes_new)\n",
    "cm_labels2 = ['Good', 'Bad']\n",
    "plot_confusion_matrix(cm2, cm_labels2)"
   ]
  },
  {
   "cell_type": "code",
   "execution_count": 105,
   "metadata": {},
   "outputs": [
    {
     "ename": "ValueError",
     "evalue": "Input 0 is incompatible with layer global_max_pooling1d_1: expected ndim=3, found ndim=2",
     "output_type": "error",
     "traceback": [
      "\u001b[0;31m---------------------------------------------------------------------------\u001b[0m",
      "\u001b[0;31mValueError\u001b[0m                                Traceback (most recent call last)",
      "\u001b[0;32m<ipython-input-105-3853289f722e>\u001b[0m in \u001b[0;36m<module>\u001b[0;34m()\u001b[0m\n\u001b[1;32m     18\u001b[0m                     \u001b[0mbatch_size\u001b[0m\u001b[0;34m=\u001b[0m\u001b[0;36m250\u001b[0m\u001b[0;34m,\u001b[0m\u001b[0;34m\u001b[0m\u001b[0m\n\u001b[1;32m     19\u001b[0m                     \u001b[0mvalidation_split\u001b[0m\u001b[0;34m=\u001b[0m\u001b[0;36m0.2\u001b[0m\u001b[0;34m,\u001b[0m\u001b[0;34m\u001b[0m\u001b[0m\n\u001b[0;32m---> 20\u001b[0;31m                     callbacks = [es_callback])\n\u001b[0m",
      "\u001b[0;32m~/anaconda3/envs/python3/lib/python3.6/site-packages/keras/engine/training.py\u001b[0m in \u001b[0;36mfit\u001b[0;34m(self, x, y, batch_size, epochs, verbose, callbacks, validation_split, validation_data, shuffle, class_weight, sample_weight, initial_epoch, steps_per_epoch, validation_steps, validation_freq, max_queue_size, workers, use_multiprocessing, **kwargs)\u001b[0m\n\u001b[1;32m   1152\u001b[0m             \u001b[0msample_weight\u001b[0m\u001b[0;34m=\u001b[0m\u001b[0msample_weight\u001b[0m\u001b[0;34m,\u001b[0m\u001b[0;34m\u001b[0m\u001b[0m\n\u001b[1;32m   1153\u001b[0m             \u001b[0mclass_weight\u001b[0m\u001b[0;34m=\u001b[0m\u001b[0mclass_weight\u001b[0m\u001b[0;34m,\u001b[0m\u001b[0;34m\u001b[0m\u001b[0m\n\u001b[0;32m-> 1154\u001b[0;31m             batch_size=batch_size)\n\u001b[0m\u001b[1;32m   1155\u001b[0m \u001b[0;34m\u001b[0m\u001b[0m\n\u001b[1;32m   1156\u001b[0m         \u001b[0;31m# Prepare validation data.\u001b[0m\u001b[0;34m\u001b[0m\u001b[0;34m\u001b[0m\u001b[0m\n",
      "\u001b[0;32m~/anaconda3/envs/python3/lib/python3.6/site-packages/keras/engine/training.py\u001b[0m in \u001b[0;36m_standardize_user_data\u001b[0;34m(self, x, y, sample_weight, class_weight, check_array_lengths, batch_size)\u001b[0m\n\u001b[1;32m    502\u001b[0m             \u001b[0;31m# to match the value shapes.\u001b[0m\u001b[0;34m\u001b[0m\u001b[0;34m\u001b[0m\u001b[0m\n\u001b[1;32m    503\u001b[0m             \u001b[0;32mif\u001b[0m \u001b[0;32mnot\u001b[0m \u001b[0mself\u001b[0m\u001b[0;34m.\u001b[0m\u001b[0minputs\u001b[0m\u001b[0;34m:\u001b[0m\u001b[0;34m\u001b[0m\u001b[0m\n\u001b[0;32m--> 504\u001b[0;31m                 \u001b[0mself\u001b[0m\u001b[0;34m.\u001b[0m\u001b[0m_set_inputs\u001b[0m\u001b[0;34m(\u001b[0m\u001b[0mx\u001b[0m\u001b[0;34m)\u001b[0m\u001b[0;34m\u001b[0m\u001b[0m\n\u001b[0m\u001b[1;32m    505\u001b[0m \u001b[0;34m\u001b[0m\u001b[0m\n\u001b[1;32m    506\u001b[0m         \u001b[0;32mif\u001b[0m \u001b[0my\u001b[0m \u001b[0;32mis\u001b[0m \u001b[0;32mnot\u001b[0m \u001b[0;32mNone\u001b[0m\u001b[0;34m:\u001b[0m\u001b[0;34m\u001b[0m\u001b[0m\n",
      "\u001b[0;32m~/anaconda3/envs/python3/lib/python3.6/site-packages/keras/engine/training.py\u001b[0m in \u001b[0;36m_set_inputs\u001b[0;34m(self, inputs, outputs, training)\u001b[0m\n\u001b[1;32m    414\u001b[0m                 \u001b[0;32massert\u001b[0m \u001b[0mlen\u001b[0m\u001b[0;34m(\u001b[0m\u001b[0minputs\u001b[0m\u001b[0;34m)\u001b[0m \u001b[0;34m==\u001b[0m \u001b[0;36m1\u001b[0m\u001b[0;34m\u001b[0m\u001b[0m\n\u001b[1;32m    415\u001b[0m                 \u001b[0minputs\u001b[0m \u001b[0;34m=\u001b[0m \u001b[0minputs\u001b[0m\u001b[0;34m[\u001b[0m\u001b[0;36m0\u001b[0m\u001b[0;34m]\u001b[0m\u001b[0;34m\u001b[0m\u001b[0m\n\u001b[0;32m--> 416\u001b[0;31m             \u001b[0mself\u001b[0m\u001b[0;34m.\u001b[0m\u001b[0mbuild\u001b[0m\u001b[0;34m(\u001b[0m\u001b[0minput_shape\u001b[0m\u001b[0;34m=\u001b[0m\u001b[0;34m(\u001b[0m\u001b[0;32mNone\u001b[0m\u001b[0;34m,\u001b[0m\u001b[0;34m)\u001b[0m \u001b[0;34m+\u001b[0m \u001b[0minputs\u001b[0m\u001b[0;34m.\u001b[0m\u001b[0mshape\u001b[0m\u001b[0;34m[\u001b[0m\u001b[0;36m1\u001b[0m\u001b[0;34m:\u001b[0m\u001b[0;34m]\u001b[0m\u001b[0;34m)\u001b[0m\u001b[0;34m\u001b[0m\u001b[0m\n\u001b[0m\u001b[1;32m    417\u001b[0m             \u001b[0;32mreturn\u001b[0m\u001b[0;34m\u001b[0m\u001b[0m\n\u001b[1;32m    418\u001b[0m \u001b[0;34m\u001b[0m\u001b[0m\n",
      "\u001b[0;32m~/anaconda3/envs/python3/lib/python3.6/site-packages/keras/engine/sequential.py\u001b[0m in \u001b[0;36mbuild\u001b[0;34m(self, input_shape)\u001b[0m\n\u001b[1;32m    220\u001b[0m             \u001b[0mself\u001b[0m\u001b[0;34m.\u001b[0m\u001b[0minputs\u001b[0m \u001b[0;34m=\u001b[0m \u001b[0;34m[\u001b[0m\u001b[0mx\u001b[0m\u001b[0;34m]\u001b[0m\u001b[0;34m\u001b[0m\u001b[0m\n\u001b[1;32m    221\u001b[0m             \u001b[0;32mfor\u001b[0m \u001b[0mlayer\u001b[0m \u001b[0;32min\u001b[0m \u001b[0mself\u001b[0m\u001b[0;34m.\u001b[0m\u001b[0m_layers\u001b[0m\u001b[0;34m:\u001b[0m\u001b[0;34m\u001b[0m\u001b[0m\n\u001b[0;32m--> 222\u001b[0;31m                 \u001b[0mx\u001b[0m \u001b[0;34m=\u001b[0m \u001b[0mlayer\u001b[0m\u001b[0;34m(\u001b[0m\u001b[0mx\u001b[0m\u001b[0;34m)\u001b[0m\u001b[0;34m\u001b[0m\u001b[0m\n\u001b[0m\u001b[1;32m    223\u001b[0m             \u001b[0mself\u001b[0m\u001b[0;34m.\u001b[0m\u001b[0moutputs\u001b[0m \u001b[0;34m=\u001b[0m \u001b[0;34m[\u001b[0m\u001b[0mx\u001b[0m\u001b[0;34m]\u001b[0m\u001b[0;34m\u001b[0m\u001b[0m\n\u001b[1;32m    224\u001b[0m             \u001b[0mself\u001b[0m\u001b[0;34m.\u001b[0m\u001b[0m_build_input_shape\u001b[0m \u001b[0;34m=\u001b[0m \u001b[0minput_shape\u001b[0m\u001b[0;34m\u001b[0m\u001b[0m\n",
      "\u001b[0;32m~/anaconda3/envs/python3/lib/python3.6/site-packages/keras/engine/base_layer.py\u001b[0m in \u001b[0;36m__call__\u001b[0;34m(self, inputs, **kwargs)\u001b[0m\n\u001b[1;32m    444\u001b[0m                 \u001b[0;31m# Raise exceptions in case the input is not compatible\u001b[0m\u001b[0;34m\u001b[0m\u001b[0;34m\u001b[0m\u001b[0m\n\u001b[1;32m    445\u001b[0m                 \u001b[0;31m# with the input_spec specified in the layer constructor.\u001b[0m\u001b[0;34m\u001b[0m\u001b[0;34m\u001b[0m\u001b[0m\n\u001b[0;32m--> 446\u001b[0;31m                 \u001b[0mself\u001b[0m\u001b[0;34m.\u001b[0m\u001b[0massert_input_compatibility\u001b[0m\u001b[0;34m(\u001b[0m\u001b[0minputs\u001b[0m\u001b[0;34m)\u001b[0m\u001b[0;34m\u001b[0m\u001b[0m\n\u001b[0m\u001b[1;32m    447\u001b[0m \u001b[0;34m\u001b[0m\u001b[0m\n\u001b[1;32m    448\u001b[0m                 \u001b[0;31m# Collect input shapes to build layer.\u001b[0m\u001b[0;34m\u001b[0m\u001b[0;34m\u001b[0m\u001b[0m\n",
      "\u001b[0;32m~/anaconda3/envs/python3/lib/python3.6/site-packages/keras/engine/base_layer.py\u001b[0m in \u001b[0;36massert_input_compatibility\u001b[0;34m(self, inputs)\u001b[0m\n\u001b[1;32m    340\u001b[0m                                      \u001b[0mself\u001b[0m\u001b[0;34m.\u001b[0m\u001b[0mname\u001b[0m \u001b[0;34m+\u001b[0m \u001b[0;34m': expected ndim='\u001b[0m \u001b[0;34m+\u001b[0m\u001b[0;34m\u001b[0m\u001b[0m\n\u001b[1;32m    341\u001b[0m                                      \u001b[0mstr\u001b[0m\u001b[0;34m(\u001b[0m\u001b[0mspec\u001b[0m\u001b[0;34m.\u001b[0m\u001b[0mndim\u001b[0m\u001b[0;34m)\u001b[0m \u001b[0;34m+\u001b[0m \u001b[0;34m', found ndim='\u001b[0m \u001b[0;34m+\u001b[0m\u001b[0;34m\u001b[0m\u001b[0m\n\u001b[0;32m--> 342\u001b[0;31m                                      str(K.ndim(x)))\n\u001b[0m\u001b[1;32m    343\u001b[0m             \u001b[0;32mif\u001b[0m \u001b[0mspec\u001b[0m\u001b[0;34m.\u001b[0m\u001b[0mmax_ndim\u001b[0m \u001b[0;32mis\u001b[0m \u001b[0;32mnot\u001b[0m \u001b[0;32mNone\u001b[0m\u001b[0;34m:\u001b[0m\u001b[0;34m\u001b[0m\u001b[0m\n\u001b[1;32m    344\u001b[0m                 \u001b[0mndim\u001b[0m \u001b[0;34m=\u001b[0m \u001b[0mK\u001b[0m\u001b[0;34m.\u001b[0m\u001b[0mndim\u001b[0m\u001b[0;34m(\u001b[0m\u001b[0mx\u001b[0m\u001b[0;34m)\u001b[0m\u001b[0;34m\u001b[0m\u001b[0m\n",
      "\u001b[0;31mValueError\u001b[0m: Input 0 is incompatible with layer global_max_pooling1d_1: expected ndim=3, found ndim=2"
     ]
    }
   ],
   "source": [
    "model2 = models.Sequential()\n",
    "model2.add(layers.GlobalMaxPool1D())\n",
    "model2.add(Dropout(.2))\n",
    "model2.add(layers.Dense(1000, activation='relu', input_shape=(6000,)))\n",
    "model2.add(Dropout(.2))\n",
    "model2.add(layers.Dense(100, activation='relu'))\n",
    "model2.add(Dropout(.2))\n",
    "model2.add(layers.Dense(4, activation='softmax'))\n",
    "\n",
    "model2.compile(optimizer='SGD',\n",
    "              loss='categorical_crossentropy',\n",
    "              metrics=['accuracy', f1_m, precision_m, recall_m])\n",
    "es_callback = (EarlyStopping(monitor='val_loss', patience=4))\n",
    "\n",
    "results = model2.fit(train,\n",
    "                    label_train,\n",
    "                    epochs=120,\n",
    "                    batch_size=250,\n",
    "                    validation_split=0.2,\n",
    "                    callbacks = [es_callback])"
   ]
  },
  {
   "cell_type": "code",
   "execution_count": 103,
   "metadata": {},
   "outputs": [
    {
     "name": "stdout",
     "output_type": "stream",
     "text": [
      "Confusion matrix, without normalization\n",
      "[[52477  2629   162    30]\n",
      " [ 9348 53140    66   643]\n",
      " [ 2766   226  1005    58]\n",
      " [  870  7805   339  2122]]\n"
     ]
    },
    {
     "data": {
      "image/png": "[encoded data removed]",
      "text/plain": [
       "<Figure size 720x360 with 2 Axes>"
      ]
     },
     "metadata": {},
     "output_type": "display_data"
    }
   ],
   "source": [
    "y_pred_classes = model2.predict_classes(test)\n",
    "multi_label_test = np.array(y_test)\n",
    "cm = confusion_matrix(multi_label_test, y_pred_classes)\n",
    "cm_labels = ['Good_none', 'Good_group',\n",
    "             'Bad_none', 'Bad_group']\n",
    "plot_confusion_matrix(cm, cm_labels)"
   ]
  },
  {
   "cell_type": "code",
   "execution_count": 82,
   "metadata": {},
   "outputs": [],
   "source": [
    "y_pred_classes = model.predict_classes(test)\n",
    "multi_label_test = np.array(y_test)\n",
    "cm = confusion_matrix(multi_label_test, y_pred_classes)\n",
    "cm_labels = ['Good (No Group)', 'Good (Group)', 'Bad (No Group)', 'Bad (Group)']"
   ]
  },
  {
   "cell_type": "code",
   "execution_count": 45,
   "metadata": {},
   "outputs": [
    {
     "data": {
      "text/plain": [
       "['keras.pkl']"
      ]
     },
     "execution_count": 45,
     "metadata": {},
     "output_type": "execute_result"
    }
   ],
   "source": [
    "joblib.dump(model, 'keras.pkl')"
   ]
  },
  {
   "cell_type": "code",
   "execution_count": 83,
   "metadata": {},
   "outputs": [
    {
     "name": "stdout",
     "output_type": "stream",
     "text": [
      "Confusion matrix, without normalization\n",
      "[[49552  4960   610   176]\n",
      " [ 6751 53558   121  2767]\n",
      " [ 1879   250  1655   271]\n",
      " [  531  5547   400  4658]]\n"
     ]
    },
    {
     "data": {
      "image/png": "[encoded data removed]",
      "text/plain": [
       "<Figure size 432x288 with 2 Axes>"
      ]
     },
     "metadata": {},
     "output_type": "display_data"
    }
   ],
   "source": [
    "plot_confusion_matrix(cm, cm_labels)"
   ]
  },
  {
   "cell_type": "code",
   "execution_count": 87,
   "metadata": {},
   "outputs": [
    {
     "name": "stdout",
     "output_type": "stream",
     "text": [
      "74333/74333 [==============================] - 7s 97us/step\n"
     ]
    },
    {
     "data": {
      "text/plain": [
       "[0.511999206664258,\n",
       " 0.7831783890724182,\n",
       " 0.7820394039154053,\n",
       " 0.7934490442276001,\n",
       " 0.7712868452072144]"
      ]
     },
     "execution_count": 87,
     "metadata": {},
     "output_type": "execute_result"
    }
   ],
   "source": [
    "results_test2 = model.evaluate(test2, label_test2)\n",
    "results_test2"
   ]
  },
  {
   "cell_type": "code",
   "execution_count": 88,
   "metadata": {},
   "outputs": [
    {
     "name": "stdout",
     "output_type": "stream",
     "text": [
      "Confusion matrix, without normalization\n",
      "[[    0     0     0     0]\n",
      " [ 6751 53558   121  2767]\n",
      " [    0     0     0     0]\n",
      " [  531  5547   400  4658]]\n"
     ]
    },
    {
     "data": {
      "image/png": "[encoded data removed]",
      "text/plain": [
       "<Figure size 432x288 with 2 Axes>"
      ]
     },
     "metadata": {},
     "output_type": "display_data"
    }
   ],
   "source": [
    "y_pred_classes2 = model.predict_classes(test2)\n",
    "cm2 = confusion_matrix(multi_label_test2, y_pred_classes2)\n",
    "cm_labels = ['Good_None', 'Good (Group)', 'Bad (No Group)', 'Bad (Group)']\n",
    "plot_confusion_matrix(cm2, cm_labels)"
   ]
  },
  {
   "cell_type": "code",
   "execution_count": 82,
   "metadata": {},
   "outputs": [
    {
     "name": "stdout",
     "output_type": "stream",
     "text": [
      "Train on 217138 samples, validate on 54285 samples\n",
      "Epoch 1/120\n",
      "217138/217138 [==============================] - 32s 148us/step - loss: 1.0175 - accuracy: 0.5606 - f1_m: 0.3744 - precision_m: 0.5706 - recall_m: 0.3004 - val_loss: 0.9422 - val_accuracy: 0.6288 - val_f1_m: 0.5976 - val_precision_m: 0.6862 - val_recall_m: 0.5297\n",
      "Epoch 2/120\n",
      "217138/217138 [==============================] - 32s 146us/step - loss: 0.8660 - accuracy: 0.6740 - f1_m: 0.6485 - precision_m: 0.7109 - recall_m: 0.5967 - val_loss: 0.7521 - val_accuracy: 0.7521 - val_f1_m: 0.7385 - val_precision_m: 0.7829 - val_recall_m: 0.6992\n",
      "Epoch 3/120\n",
      "217138/217138 [==============================] - 32s 145us/step - loss: 0.7421 - accuracy: 0.7415 - f1_m: 0.7307 - precision_m: 0.7657 - recall_m: 0.6989 - val_loss: 0.6426 - val_accuracy: 0.7830 - val_f1_m: 0.7791 - val_precision_m: 0.8009 - val_recall_m: 0.7587\n",
      "Epoch 4/120\n",
      "217138/217138 [==============================] - 32s 146us/step - loss: 0.6799 - accuracy: 0.7666 - f1_m: 0.7607 - precision_m: 0.7848 - recall_m: 0.7382 - val_loss: 0.5895 - val_accuracy: 0.8000 - val_f1_m: 0.7987 - val_precision_m: 0.8142 - val_recall_m: 0.7838\n",
      "Epoch 5/120\n",
      "217138/217138 [==============================] - 32s 146us/step - loss: 0.6471 - accuracy: 0.7762 - f1_m: 0.7726 - precision_m: 0.7919 - recall_m: 0.7543 - val_loss: 0.5603 - val_accuracy: 0.8049 - val_f1_m: 0.8047 - val_precision_m: 0.8170 - val_recall_m: 0.7928\n",
      "Epoch 6/120\n",
      "217138/217138 [==============================] - 32s 147us/step - loss: 0.6265 - accuracy: 0.7822 - f1_m: 0.7799 - precision_m: 0.7976 - recall_m: 0.7631 - val_loss: 0.5396 - val_accuracy: 0.8107 - val_f1_m: 0.8107 - val_precision_m: 0.8239 - val_recall_m: 0.7980\n",
      "Epoch 7/120\n",
      "217138/217138 [==============================] - 32s 145us/step - loss: 0.6112 - accuracy: 0.7862 - f1_m: 0.7846 - precision_m: 0.8019 - recall_m: 0.7680 - val_loss: 0.5257 - val_accuracy: 0.8121 - val_f1_m: 0.8123 - val_precision_m: 0.8249 - val_recall_m: 0.8002\n",
      "Epoch 8/120\n",
      "217138/217138 [==============================] - 32s 145us/step - loss: 0.6005 - accuracy: 0.7890 - f1_m: 0.7874 - precision_m: 0.8051 - recall_m: 0.7705 - val_loss: 0.5140 - val_accuracy: 0.8155 - val_f1_m: 0.8155 - val_precision_m: 0.8275 - val_recall_m: 0.8038\n",
      "Epoch 9/120\n",
      "217138/217138 [==============================] - 32s 145us/step - loss: 0.5890 - accuracy: 0.7913 - f1_m: 0.7902 - precision_m: 0.8081 - recall_m: 0.7733 - val_loss: 0.5025 - val_accuracy: 0.8194 - val_f1_m: 0.8191 - val_precision_m: 0.8343 - val_recall_m: 0.8045\n",
      "Epoch 10/120\n",
      "217138/217138 [==============================] - 32s 145us/step - loss: 0.5780 - accuracy: 0.7945 - f1_m: 0.7934 - precision_m: 0.8121 - recall_m: 0.7757 - val_loss: 0.4932 - val_accuracy: 0.8195 - val_f1_m: 0.8194 - val_precision_m: 0.8338 - val_recall_m: 0.8055\n",
      "Epoch 11/120\n",
      "217138/217138 [==============================] - 31s 145us/step - loss: 0.5689 - accuracy: 0.7970 - f1_m: 0.7958 - precision_m: 0.8149 - recall_m: 0.7777 - val_loss: 0.4810 - val_accuracy: 0.8252 - val_f1_m: 0.8247 - val_precision_m: 0.8409 - val_recall_m: 0.8092\n",
      "Epoch 12/120\n",
      "217138/217138 [==============================] - 32s 145us/step - loss: 0.5610 - accuracy: 0.7999 - f1_m: 0.7981 - precision_m: 0.8175 - recall_m: 0.7796 - val_loss: 0.4746 - val_accuracy: 0.8286 - val_f1_m: 0.8267 - val_precision_m: 0.8435 - val_recall_m: 0.8107\n",
      "Epoch 13/120\n",
      "217138/217138 [==============================] - 31s 145us/step - loss: 0.5527 - accuracy: 0.8021 - f1_m: 0.7999 - precision_m: 0.8192 - recall_m: 0.7816 - val_loss: 0.4687 - val_accuracy: 0.8315 - val_f1_m: 0.8291 - val_precision_m: 0.8478 - val_recall_m: 0.8112\n",
      "Epoch 14/120\n",
      "217138/217138 [==============================] - 31s 145us/step - loss: 0.5449 - accuracy: 0.8060 - f1_m: 0.8033 - precision_m: 0.8231 - recall_m: 0.7845 - val_loss: 0.4583 - val_accuracy: 0.8332 - val_f1_m: 0.8311 - val_precision_m: 0.8493 - val_recall_m: 0.8137\n",
      "Epoch 15/120\n",
      "217138/217138 [==============================] - 32s 145us/step - loss: 0.5388 - accuracy: 0.8072 - f1_m: 0.8047 - precision_m: 0.8241 - recall_m: 0.7863 - val_loss: 0.4526 - val_accuracy: 0.8340 - val_f1_m: 0.8318 - val_precision_m: 0.8482 - val_recall_m: 0.8160\n",
      "Epoch 16/120\n",
      "217138/217138 [==============================] - 31s 145us/step - loss: 0.5333 - accuracy: 0.8097 - f1_m: 0.8070 - precision_m: 0.8262 - recall_m: 0.7887 - val_loss: 0.4478 - val_accuracy: 0.8387 - val_f1_m: 0.8357 - val_precision_m: 0.8543 - val_recall_m: 0.8180\n",
      "Epoch 17/120\n",
      "217138/217138 [==============================] - 32s 145us/step - loss: 0.5302 - accuracy: 0.8109 - f1_m: 0.8079 - precision_m: 0.8270 - recall_m: 0.7898 - val_loss: 0.4441 - val_accuracy: 0.8394 - val_f1_m: 0.8370 - val_precision_m: 0.8533 - val_recall_m: 0.8215\n",
      "Epoch 18/120\n",
      "217138/217138 [==============================] - 32s 145us/step - loss: 0.5200 - accuracy: 0.8141 - f1_m: 0.8113 - precision_m: 0.8296 - recall_m: 0.7939 - val_loss: 0.4383 - val_accuracy: 0.8414 - val_f1_m: 0.8390 - val_precision_m: 0.8553 - val_recall_m: 0.8234\n",
      "Epoch 19/120\n",
      "217138/217138 [==============================] - 31s 145us/step - loss: 0.5156 - accuracy: 0.8156 - f1_m: 0.8134 - precision_m: 0.8313 - recall_m: 0.7963 - val_loss: 0.4380 - val_accuracy: 0.8423 - val_f1_m: 0.8400 - val_precision_m: 0.8552 - val_recall_m: 0.8255\n",
      "Epoch 20/120\n",
      "217138/217138 [==============================] - 32s 146us/step - loss: 0.5124 - accuracy: 0.8159 - f1_m: 0.8140 - precision_m: 0.8315 - recall_m: 0.7973 - val_loss: 0.4330 - val_accuracy: 0.8422 - val_f1_m: 0.8403 - val_precision_m: 0.8555 - val_recall_m: 0.8258\n",
      "Epoch 21/120\n",
      "217138/217138 [==============================] - 32s 145us/step - loss: 0.5087 - accuracy: 0.8178 - f1_m: 0.8156 - precision_m: 0.8325 - recall_m: 0.7994 - val_loss: 0.4312 - val_accuracy: 0.8439 - val_f1_m: 0.8420 - val_precision_m: 0.8567 - val_recall_m: 0.8279\n",
      "Epoch 22/120\n",
      "217138/217138 [==============================] - 31s 145us/step - loss: 0.5039 - accuracy: 0.8189 - f1_m: 0.8171 - precision_m: 0.8339 - recall_m: 0.8011 - val_loss: 0.4303 - val_accuracy: 0.8461 - val_f1_m: 0.8436 - val_precision_m: 0.8595 - val_recall_m: 0.8283\n",
      "Epoch 23/120\n",
      "217138/217138 [==============================] - 32s 146us/step - loss: 0.5011 - accuracy: 0.8202 - f1_m: 0.8181 - precision_m: 0.8344 - recall_m: 0.8025 - val_loss: 0.4258 - val_accuracy: 0.8456 - val_f1_m: 0.8439 - val_precision_m: 0.8586 - val_recall_m: 0.8298\n",
      "Epoch 24/120\n",
      "217138/217138 [==============================] - 31s 144us/step - loss: 0.4958 - accuracy: 0.8225 - f1_m: 0.8204 - precision_m: 0.8366 - recall_m: 0.8049 - val_loss: 0.4243 - val_accuracy: 0.8465 - val_f1_m: 0.8446 - val_precision_m: 0.8591 - val_recall_m: 0.8306\n",
      "Epoch 25/120\n",
      "217138/217138 [==============================] - 31s 145us/step - loss: 0.4935 - accuracy: 0.8230 - f1_m: 0.8213 - precision_m: 0.8365 - recall_m: 0.8067 - val_loss: 0.4236 - val_accuracy: 0.8471 - val_f1_m: 0.8450 - val_precision_m: 0.8588 - val_recall_m: 0.8316\n",
      "Epoch 26/120\n",
      "217138/217138 [==============================] - 31s 144us/step - loss: 0.4908 - accuracy: 0.8237 - f1_m: 0.8220 - precision_m: 0.8375 - recall_m: 0.8071 - val_loss: 0.4228 - val_accuracy: 0.8467 - val_f1_m: 0.8449 - val_precision_m: 0.8583 - val_recall_m: 0.8320\n",
      "Epoch 27/120\n",
      "217138/217138 [==============================] - 31s 145us/step - loss: 0.4876 - accuracy: 0.8243 - f1_m: 0.8232 - precision_m: 0.8386 - recall_m: 0.8084 - val_loss: 0.4239 - val_accuracy: 0.8467 - val_f1_m: 0.8450 - val_precision_m: 0.8589 - val_recall_m: 0.8317\n",
      "Epoch 28/120\n",
      "217138/217138 [==============================] - 32s 146us/step - loss: 0.4840 - accuracy: 0.8259 - f1_m: 0.8247 - precision_m: 0.8398 - recall_m: 0.8102 - val_loss: 0.4210 - val_accuracy: 0.8476 - val_f1_m: 0.8457 - val_precision_m: 0.8597 - val_recall_m: 0.8322\n",
      "Epoch 29/120\n",
      "217138/217138 [==============================] - 32s 147us/step - loss: 0.4841 - accuracy: 0.8257 - f1_m: 0.8246 - precision_m: 0.8395 - recall_m: 0.8103 - val_loss: 0.4199 - val_accuracy: 0.8483 - val_f1_m: 0.8464 - val_precision_m: 0.8603 - val_recall_m: 0.8330\n",
      "Epoch 30/120\n",
      "217138/217138 [==============================] - 32s 146us/step - loss: 0.4812 - accuracy: 0.8270 - f1_m: 0.8257 - precision_m: 0.8406 - recall_m: 0.8114 - val_loss: 0.4199 - val_accuracy: 0.8478 - val_f1_m: 0.8462 - val_precision_m: 0.8585 - val_recall_m: 0.8343\n",
      "Epoch 31/120\n",
      "217138/217138 [==============================] - 31s 144us/step - loss: 0.4759 - accuracy: 0.8289 - f1_m: 0.8277 - precision_m: 0.8423 - recall_m: 0.8137 - val_loss: 0.4194 - val_accuracy: 0.8475 - val_f1_m: 0.8464 - val_precision_m: 0.8590 - val_recall_m: 0.8341\n",
      "Epoch 32/120\n",
      "217138/217138 [==============================] - 31s 144us/step - loss: 0.4739 - accuracy: 0.8295 - f1_m: 0.8281 - precision_m: 0.8423 - recall_m: 0.8143 - val_loss: 0.4189 - val_accuracy: 0.8482 - val_f1_m: 0.8469 - val_precision_m: 0.8593 - val_recall_m: 0.8350\n",
      "Epoch 33/120\n",
      "217138/217138 [==============================] - 31s 144us/step - loss: 0.4718 - accuracy: 0.8299 - f1_m: 0.8287 - precision_m: 0.8429 - recall_m: 0.8150 - val_loss: 0.4183 - val_accuracy: 0.8482 - val_f1_m: 0.8465 - val_precision_m: 0.8601 - val_recall_m: 0.8333\n",
      "Epoch 34/120\n",
      "217138/217138 [==============================] - 32s 146us/step - loss: 0.4694 - accuracy: 0.8312 - f1_m: 0.8301 - precision_m: 0.8439 - recall_m: 0.8167 - val_loss: 0.4205 - val_accuracy: 0.8482 - val_f1_m: 0.8461 - val_precision_m: 0.8609 - val_recall_m: 0.8319\n",
      "Epoch 35/120\n",
      "217138/217138 [==============================] - 32s 145us/step - loss: 0.4664 - accuracy: 0.8318 - f1_m: 0.8310 - precision_m: 0.8450 - recall_m: 0.8174 - val_loss: 0.4182 - val_accuracy: 0.8481 - val_f1_m: 0.8466 - val_precision_m: 0.8584 - val_recall_m: 0.8352\n",
      "Epoch 36/120\n",
      "217138/217138 [==============================] - 32s 146us/step - loss: 0.4616 - accuracy: 0.8335 - f1_m: 0.8325 - precision_m: 0.8463 - recall_m: 0.8192 - val_loss: 0.4193 - val_accuracy: 0.8476 - val_f1_m: 0.8457 - val_precision_m: 0.8597 - val_recall_m: 0.8322\n",
      "Epoch 37/120\n",
      "217138/217138 [==============================] - 32s 146us/step - loss: 0.4587 - accuracy: 0.8351 - f1_m: 0.8340 - precision_m: 0.8478 - recall_m: 0.8207 - val_loss: 0.4182 - val_accuracy: 0.8474 - val_f1_m: 0.8459 - val_precision_m: 0.8577 - val_recall_m: 0.8345\n",
      "Epoch 38/120\n",
      "217138/217138 [==============================] - 32s 146us/step - loss: 0.4566 - accuracy: 0.8356 - f1_m: 0.8344 - precision_m: 0.8477 - recall_m: 0.8216 - val_loss: 0.4177 - val_accuracy: 0.8480 - val_f1_m: 0.8461 - val_precision_m: 0.8585 - val_recall_m: 0.8341\n",
      "Epoch 39/120\n",
      "217138/217138 [==============================] - 32s 145us/step - loss: 0.4548 - accuracy: 0.8362 - f1_m: 0.8349 - precision_m: 0.8483 - recall_m: 0.8221 - val_loss: 0.4180 - val_accuracy: 0.8479 - val_f1_m: 0.8463 - val_precision_m: 0.8589 - val_recall_m: 0.8341\n",
      "Epoch 40/120\n",
      "217138/217138 [==============================] - 32s 146us/step - loss: 0.4486 - accuracy: 0.8384 - f1_m: 0.8372 - precision_m: 0.8503 - recall_m: 0.8247 - val_loss: 0.4170 - val_accuracy: 0.8477 - val_f1_m: 0.8464 - val_precision_m: 0.8589 - val_recall_m: 0.8343\n",
      "Epoch 41/120\n",
      "217138/217138 [==============================] - 32s 145us/step - loss: 0.4475 - accuracy: 0.8393 - f1_m: 0.8380 - precision_m: 0.8512 - recall_m: 0.8253 - val_loss: 0.4184 - val_accuracy: 0.8476 - val_f1_m: 0.8467 - val_precision_m: 0.8579 - val_recall_m: 0.8357\n",
      "Epoch 42/120\n",
      "217138/217138 [==============================] - 32s 145us/step - loss: 0.4458 - accuracy: 0.8401 - f1_m: 0.8388 - precision_m: 0.8519 - recall_m: 0.8262 - val_loss: 0.4176 - val_accuracy: 0.8479 - val_f1_m: 0.8467 - val_precision_m: 0.8591 - val_recall_m: 0.8348\n",
      "Epoch 43/120\n",
      "217138/217138 [==============================] - 32s 146us/step - loss: 0.4426 - accuracy: 0.8408 - f1_m: 0.8398 - precision_m: 0.8526 - recall_m: 0.8274 - val_loss: 0.4206 - val_accuracy: 0.8469 - val_f1_m: 0.8457 - val_precision_m: 0.8570 - val_recall_m: 0.8348\n"
     ]
    }
   ],
   "source": [
    "model2 = models.Sequential()\n",
    "model2.add(Dropout(.2))\n",
    "model2.add(layers.Dense(950, activation='relu', input_shape=(6000,)))\n",
    "model2.add(Dropout(.2))\n",
    "model2.add(layers.Dense(500, activation='relu'))\n",
    "model2.add(Dropout(.2))\n",
    "model2.add(layers.Dense(100, activation='relu'))\n",
    "model2.add(Dropout(.2))\n",
    "model2.add(layers.Dense(50, activation='relu'))\n",
    "model2.add(Dropout(.2))\n",
    "model2.add(layers.Dense(4, activation='softmax'))\n",
    "\n",
    "model2.compile(optimizer='SGD',\n",
    "              loss='categorical_crossentropy',\n",
    "              metrics=['accuracy', f1_m, precision_m, recall_m])\n",
    "es_callback = (EarlyStopping(monitor='val_loss', patience=3))\n",
    "\n",
    "results2 = model2.fit(train,\n",
    "                      label_train,\n",
    "                      epochs=120,\n",
    "                      batch_size=250,\n",
    "                      validation_split=0.2,\n",
    "                      callbacks = [es_callback])"
   ]
  },
  {
   "cell_type": "code",
   "execution_count": 83,
   "metadata": {},
   "outputs": [
    {
     "name": "stdout",
     "output_type": "stream",
     "text": [
      "271423/271423 [==============================] - 26s 95us/step\n"
     ]
    },
    {
     "data": {
      "text/plain": [
       "[0.3155601895744706,\n",
       " 0.8900867104530334,\n",
       " 0.8888611197471619,\n",
       " 0.8994502425193787,\n",
       " 0.8789156675338745]"
      ]
     },
     "execution_count": 83,
     "metadata": {},
     "output_type": "execute_result"
    }
   ],
   "source": [
    "results_train2 = model2.evaluate(train, label_train)\n",
    "\n",
    "results_train2"
   ]
  },
  {
   "cell_type": "code",
   "execution_count": 84,
   "metadata": {},
   "outputs": [
    {
     "name": "stdout",
     "output_type": "stream",
     "text": [
      "133686/133686 [==============================] - 13s 96us/step\n"
     ]
    },
    {
     "data": {
      "text/plain": [
       "[0.4072943815423583,\n",
       " 0.8529688715934753,\n",
       " 0.8515059351921082,\n",
       " 0.8627219796180725,\n",
       " 0.8408900499343872]"
      ]
     },
     "execution_count": 84,
     "metadata": {},
     "output_type": "execute_result"
    }
   ],
   "source": [
    "results_test2 = model2.evaluate(test, label_test)\n",
    "results_test2"
   ]
  },
  {
   "cell_type": "code",
   "execution_count": 85,
   "metadata": {},
   "outputs": [
    {
     "data": {
      "image/png": "[encoded data removed]",
      "text/plain": [
       "<Figure size 432x288 with 1 Axes>"
      ]
     },
     "metadata": {},
     "output_type": "display_data"
    },
    {
     "data": {
      "image/png": "[encoded data removed]",
      "text/plain": [
       "<Figure size 432x288 with 1 Axes>"
      ]
     },
     "metadata": {},
     "output_type": "display_data"
    }
   ],
   "source": [
    "visualize_training_results(results2)"
   ]
  },
  {
   "cell_type": "code",
   "execution_count": 53,
   "metadata": {},
   "outputs": [
    {
     "data": {
      "text/plain": [
       "['keras_935.pkl']"
      ]
     },
     "execution_count": 53,
     "metadata": {},
     "output_type": "execute_result"
    }
   ],
   "source": [
    "joblib.dump(model2, 'keras_935.pkl')"
   ]
  },
  {
   "cell_type": "code",
   "execution_count": 86,
   "metadata": {},
   "outputs": [
    {
     "name": "stdout",
     "output_type": "stream",
     "text": [
      "Confusion matrix, without normalization\n",
      "[[60751  3813   517    78]\n",
      " [ 4002 47860    63  1410]\n",
      " [ 2757   207  2089   172]\n",
      " [  334  6098   205  3330]]\n"
     ]
    },
    {
     "data": {
      "image/png": "[encoded data removed]",
      "text/plain": [
       "<Figure size 432x288 with 2 Axes>"
      ]
     },
     "metadata": {},
     "output_type": "display_data"
    }
   ],
   "source": [
    "y_pred_classes2 = model2.predict_classes(test)\n",
    "multi_label_test = np.array(y_test)\n",
    "cm2 = confusion_matrix(multi_label_test, y_pred_classes2)\n",
    "cm_labels = ['Good (No Group)', 'Good (Group)', 'Bad (No Group)', 'Bad (Group)']\n",
    "plot_confusion_matrix(cm2, cm_labels)"
   ]
  },
  {
   "cell_type": "code",
   "execution_count": null,
   "metadata": {},
   "outputs": [],
   "source": []
  }
 ],
 "metadata": {
  "kernelspec": {
   "display_name": "Python 3",
   "language": "python",
   "name": "python3"
  },
  "language_info": {
   "codemirror_mode": {
    "name": "ipython",
    "version": 3
   },
   "file_extension": ".py",
   "mimetype": "text/x-python",
   "name": "python",
   "nbconvert_exporter": "python",
   "pygments_lexer": "ipython3",
   "version": "3.7.3"
  }
 },
 "nbformat": 4,
 "nbformat_minor": 2
}
