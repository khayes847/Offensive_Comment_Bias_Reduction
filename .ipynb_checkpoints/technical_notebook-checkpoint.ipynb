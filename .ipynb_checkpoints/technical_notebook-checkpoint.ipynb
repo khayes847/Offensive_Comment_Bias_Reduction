{
 "cells": [
  {
   "cell_type": "markdown",
   "metadata": {},
   "source": [
    "## Using deep learning to predict online comment offensiveness while reducing identity bias \n",
    "#### Kyle Hayes"
   ]
  },
  {
   "cell_type": "markdown",
   "metadata": {},
   "source": [
    "**Summary**: Existing offensive speech detection models often learn to categorize discussion of marginalized identity groups with attacks against these groups themselves. As a result, these models retain significant biases against minority racial, ethnic, gender, and sexual identities. The purpose of this project is to create a model that minimizes false 'offensive' classifications by predicting not only whether a comment is offensive, but whether it relates to a specific identity group as well.\n",
    "\n",
    "I obtained my data from Kaggle's \"Jigsaw Unintended Bias in Toxicity Classification\" training dataset (https://www.kaggle.com/c/jigsaw-unintended-bias-in-toxicity-classification/data). This data contains roughly 405 thousand Quora comments labeled as to whether annotators found them toxic, and whether annotators believed that they referred to specific identity groups. From these I created two NLP word vectorization models: one using logistic regression to predict the toxicity label, and one using a deep learning algorithm to predict both the toxicity and identity labels simultaneously.\n",
    "\n",
    "Using a cost function designed to minimize false 'offensive' classifications, I determined that by using deep learning, and by training the model to recognize the existence of 'identity' content, I was able to improve significantly upon my initial model that predicted toxicity removed from identity context."
   ]
  },
  {
   "cell_type": "code",
   "execution_count": 2,
   "metadata": {},
   "outputs": [
    {
     "name": "stderr",
     "output_type": "stream",
     "text": [
      "Using TensorFlow backend.\n"
     ]
    }
   ],
   "source": [
    "# Import all necessary libraries.\n",
    "import warnings\n",
    "import pandas as pd\n",
    "import data_prep as d\n",
    "import functions as f\n",
    "warnings.filterwarnings('ignore')\n",
    "pd.set_option(\"max_columns\", 100)\n",
    "pd.set_option('display.float_format', lambda x: '%.3f' % x)\n",
    "get_ipython().run_line_magic('load_ext', 'autoreload')\n",
    "get_ipython().run_line_magic('autoreload', '2')\n",
    "get_ipython().run_line_magic('matplotlib', 'inline')"
   ]
  },
  {
   "cell_type": "markdown",
   "metadata": {},
   "source": [
    "## Data Cleaning"
   ]
  },
  {
   "cell_type": "markdown",
   "metadata": {},
   "source": [
    "First, we download the features and the target datasets using d.clean(). This function isolates the target variables, removes unnecessary columns, and pre-processes the 'comment' string data for analysis."
   ]
  },
  {
   "cell_type": "code",
   "execution_count": 4,
   "metadata": {},
   "outputs": [
    {
     "name": "stdout",
     "output_type": "stream",
     "text": [
      "Memory usage of dataframe is 619.65MB\n",
      "Memory usage after optimization is: 189.34MB\n",
      "Decreased by 69.4%\n"
     ]
    },
    {
     "data": {
      "application/vnd.jupyter.widget-view+json": {
       "model_id": "cb9397fe7fd54889b470656a2a785ea7",
       "version_major": 2,
       "version_minor": 0
      },
      "text/plain": [
       "HBox(children=(IntProgress(value=0, description='Pandas Apply', max=405130, style=ProgressStyle(description_wi…"
      ]
     },
     "metadata": {},
     "output_type": "display_data"
    },
    {
     "name": "stdout",
     "output_type": "stream",
     "text": [
      "\n"
     ]
    },
    {
     "data": {
      "application/vnd.jupyter.widget-view+json": {
       "model_id": "7324eb0caaa84d20953694c0377dc5d3",
       "version_major": 2,
       "version_minor": 0
      },
      "text/plain": [
       "HBox(children=(IntProgress(value=0, description='Pandas Apply', max=405130, style=ProgressStyle(description_wi…"
      ]
     },
     "metadata": {},
     "output_type": "display_data"
    },
    {
     "name": "stdout",
     "output_type": "stream",
     "text": [
      "\n"
     ]
    },
    {
     "data": {
      "application/vnd.jupyter.widget-view+json": {
       "model_id": "e2ba2403a2b749bfbb15cd56931b1c85",
       "version_major": 2,
       "version_minor": 0
      },
      "text/plain": [
       "HBox(children=(IntProgress(value=0, description='Pandas Apply', max=405130, style=ProgressStyle(description_wi…"
      ]
     },
     "metadata": {},
     "output_type": "display_data"
    },
    {
     "name": "stdout",
     "output_type": "stream",
     "text": [
      "\n"
     ]
    },
    {
     "data": {
      "application/vnd.jupyter.widget-view+json": {
       "model_id": "5b1bf40b47cf45c8af3fc6fbde1e1789",
       "version_major": 2,
       "version_minor": 0
      },
      "text/plain": [
       "HBox(children=(IntProgress(value=0, description='Pandas Apply', max=405130, style=ProgressStyle(description_wi…"
      ]
     },
     "metadata": {},
     "output_type": "display_data"
    },
    {
     "name": "stdout",
     "output_type": "stream",
     "text": [
      "\n"
     ]
    },
    {
     "data": {
      "application/vnd.jupyter.widget-view+json": {
       "model_id": "d4775fb45cdb4d898f965f449dbe8d6e",
       "version_major": 2,
       "version_minor": 0
      },
      "text/plain": [
       "HBox(children=(IntProgress(value=0, description='Pandas Apply', max=405130, style=ProgressStyle(description_wi…"
      ]
     },
     "metadata": {},
     "output_type": "display_data"
    },
    {
     "name": "stdout",
     "output_type": "stream",
     "text": [
      "\n"
     ]
    },
    {
     "data": {
      "application/vnd.jupyter.widget-view+json": {
       "model_id": "056e291164ae4c679a8a5e1082aa1090",
       "version_major": 2,
       "version_minor": 0
      },
      "text/plain": [
       "HBox(children=(IntProgress(value=0, description='Pandas Apply', max=405130, style=ProgressStyle(description_wi…"
      ]
     },
     "metadata": {},
     "output_type": "display_data"
    },
    {
     "name": "stdout",
     "output_type": "stream",
     "text": [
      "\n"
     ]
    },
    {
     "data": {
      "application/vnd.jupyter.widget-view+json": {
       "model_id": "8d85666e034146959c137921b5bd96cf",
       "version_major": 2,
       "version_minor": 0
      },
      "text/plain": [
       "HBox(children=(IntProgress(value=0, description='Pandas Apply', max=405130, style=ProgressStyle(description_wi…"
      ]
     },
     "metadata": {},
     "output_type": "display_data"
    },
    {
     "name": "stdout",
     "output_type": "stream",
     "text": [
      "\n"
     ]
    },
    {
     "data": {
      "application/vnd.jupyter.widget-view+json": {
       "model_id": "101c397ccde7407f8a40f03a703661db",
       "version_major": 2,
       "version_minor": 0
      },
      "text/plain": [
       "HBox(children=(IntProgress(value=0, description='Pandas Apply', max=405130, style=ProgressStyle(description_wi…"
      ]
     },
     "metadata": {},
     "output_type": "display_data"
    },
    {
     "name": "stdout",
     "output_type": "stream",
     "text": [
      "\n"
     ]
    },
    {
     "data": {
      "application/vnd.jupyter.widget-view+json": {
       "model_id": "77c62891b024434e94375c5ab4367516",
       "version_major": 2,
       "version_minor": 0
      },
      "text/plain": [
       "HBox(children=(IntProgress(value=0, description='Pandas Apply', max=405130, style=ProgressStyle(description_wi…"
      ]
     },
     "metadata": {},
     "output_type": "display_data"
    },
    {
     "name": "stdout",
     "output_type": "stream",
     "text": [
      "\n"
     ]
    },
    {
     "data": {
      "application/vnd.jupyter.widget-view+json": {
       "model_id": "f2280a279b4e41329d88b025d94e5fc7",
       "version_major": 2,
       "version_minor": 0
      },
      "text/plain": [
       "HBox(children=(IntProgress(value=0, description='Pandas Apply', max=405130, style=ProgressStyle(description_wi…"
      ]
     },
     "metadata": {},
     "output_type": "display_data"
    },
    {
     "name": "stdout",
     "output_type": "stream",
     "text": [
      "\n"
     ]
    },
    {
     "data": {
      "application/vnd.jupyter.widget-view+json": {
       "model_id": "ebefaca82f084652829e8849c12fe5cc",
       "version_major": 2,
       "version_minor": 0
      },
      "text/plain": [
       "HBox(children=(IntProgress(value=0, description='Pandas Apply', max=405130, style=ProgressStyle(description_wi…"
      ]
     },
     "metadata": {},
     "output_type": "display_data"
    },
    {
     "name": "stdout",
     "output_type": "stream",
     "text": [
      "\n"
     ]
    },
    {
     "data": {
      "application/vnd.jupyter.widget-view+json": {
       "model_id": "933320d3cde64d71a4dff4647532f44a",
       "version_major": 2,
       "version_minor": 0
      },
      "text/plain": [
       "HBox(children=(IntProgress(value=0, description='Pandas Apply', max=405130, style=ProgressStyle(description_wi…"
      ]
     },
     "metadata": {},
     "output_type": "display_data"
    },
    {
     "name": "stdout",
     "output_type": "stream",
     "text": [
      "\n"
     ]
    },
    {
     "data": {
      "application/vnd.jupyter.widget-view+json": {
       "model_id": "2f3ec17c830940918e68468db26b34b2",
       "version_major": 2,
       "version_minor": 0
      },
      "text/plain": [
       "HBox(children=(IntProgress(value=0, description='Pandas Apply', max=405130, style=ProgressStyle(description_wi…"
      ]
     },
     "metadata": {},
     "output_type": "display_data"
    },
    {
     "name": "stdout",
     "output_type": "stream",
     "text": [
      "\n"
     ]
    },
    {
     "data": {
      "application/vnd.jupyter.widget-view+json": {
       "model_id": "eee7a9c5095f4433a80735b0a4c5909f",
       "version_major": 2,
       "version_minor": 0
      },
      "text/plain": [
       "HBox(children=(IntProgress(value=0, description='Pandas Apply', max=405130, style=ProgressStyle(description_wi…"
      ]
     },
     "metadata": {},
     "output_type": "display_data"
    },
    {
     "name": "stdout",
     "output_type": "stream",
     "text": [
      "\n"
     ]
    },
    {
     "data": {
      "application/vnd.jupyter.widget-view+json": {
       "model_id": "fa9e2f9ce4a945a8b418f7d47f681dbe",
       "version_major": 2,
       "version_minor": 0
      },
      "text/plain": [
       "HBox(children=(IntProgress(value=0, description='Pandas Apply', max=405130, style=ProgressStyle(description_wi…"
      ]
     },
     "metadata": {},
     "output_type": "display_data"
    },
    {
     "name": "stdout",
     "output_type": "stream",
     "text": [
      "\n"
     ]
    },
    {
     "data": {
      "application/vnd.jupyter.widget-view+json": {
       "model_id": "1a05578033cf48efa7946c29b6c1d21e",
       "version_major": 2,
       "version_minor": 0
      },
      "text/plain": [
       "HBox(children=(IntProgress(value=0, description='Pandas Apply', max=405130, style=ProgressStyle(description_wi…"
      ]
     },
     "metadata": {},
     "output_type": "display_data"
    },
    {
     "name": "stdout",
     "output_type": "stream",
     "text": [
      "\n"
     ]
    },
    {
     "data": {
      "application/vnd.jupyter.widget-view+json": {
       "model_id": "725444f06968483d9306adb495c206bb",
       "version_major": 2,
       "version_minor": 0
      },
      "text/plain": [
       "HBox(children=(IntProgress(value=0, description='Pandas Apply', max=405130, style=ProgressStyle(description_wi…"
      ]
     },
     "metadata": {},
     "output_type": "display_data"
    },
    {
     "name": "stdout",
     "output_type": "stream",
     "text": [
      "\n"
     ]
    },
    {
     "data": {
      "application/vnd.jupyter.widget-view+json": {
       "model_id": "434f1f650a564733a26912be7bf66467",
       "version_major": 2,
       "version_minor": 0
      },
      "text/plain": [
       "HBox(children=(IntProgress(value=0, description='Pandas Apply', max=405130, style=ProgressStyle(description_wi…"
      ]
     },
     "metadata": {},
     "output_type": "display_data"
    },
    {
     "name": "stdout",
     "output_type": "stream",
     "text": [
      "\n"
     ]
    },
    {
     "data": {
      "application/vnd.jupyter.widget-view+json": {
       "model_id": "efdc1d499b5047c4b2b3b1e340d4c301",
       "version_major": 2,
       "version_minor": 0
      },
      "text/plain": [
       "HBox(children=(IntProgress(value=0, description='Pandas Apply', max=405130, style=ProgressStyle(description_wi…"
      ]
     },
     "metadata": {},
     "output_type": "display_data"
    },
    {
     "name": "stdout",
     "output_type": "stream",
     "text": [
      "\n"
     ]
    },
    {
     "data": {
      "application/vnd.jupyter.widget-view+json": {
       "model_id": "15ef6b1b3c3d4508bee80282571f30a1",
       "version_major": 2,
       "version_minor": 0
      },
      "text/plain": [
       "HBox(children=(IntProgress(value=0, description='Pandas Apply', max=405130, style=ProgressStyle(description_wi…"
      ]
     },
     "metadata": {},
     "output_type": "display_data"
    },
    {
     "name": "stdout",
     "output_type": "stream",
     "text": [
      "\n"
     ]
    },
    {
     "data": {
      "application/vnd.jupyter.widget-view+json": {
       "model_id": "bf73ae7ed24b449f8e2dc981d2b066e9",
       "version_major": 2,
       "version_minor": 0
      },
      "text/plain": [
       "HBox(children=(IntProgress(value=0, description='Pandas Apply', max=405130, style=ProgressStyle(description_wi…"
      ]
     },
     "metadata": {},
     "output_type": "display_data"
    },
    {
     "name": "stdout",
     "output_type": "stream",
     "text": [
      "\n"
     ]
    },
    {
     "data": {
      "application/vnd.jupyter.widget-view+json": {
       "model_id": "ba2befeddd79457691e9e4e4ebad07b1",
       "version_major": 2,
       "version_minor": 0
      },
      "text/plain": [
       "HBox(children=(IntProgress(value=0, description='Pandas Apply', max=405130, style=ProgressStyle(description_wi…"
      ]
     },
     "metadata": {},
     "output_type": "display_data"
    },
    {
     "name": "stdout",
     "output_type": "stream",
     "text": [
      "\n"
     ]
    },
    {
     "data": {
      "application/vnd.jupyter.widget-view+json": {
       "model_id": "54b783e317e24968a8e375ce9f8a4490",
       "version_major": 2,
       "version_minor": 0
      },
      "text/plain": [
       "HBox(children=(IntProgress(value=0, description='Pandas Apply', max=405130, style=ProgressStyle(description_wi…"
      ]
     },
     "metadata": {},
     "output_type": "display_data"
    },
    {
     "name": "stdout",
     "output_type": "stream",
     "text": [
      "\n"
     ]
    },
    {
     "data": {
      "application/vnd.jupyter.widget-view+json": {
       "model_id": "f36aa63d187445d88b378f905781fab0",
       "version_major": 2,
       "version_minor": 0
      },
      "text/plain": [
       "HBox(children=(IntProgress(value=0, description='Pandas Apply', max=405130, style=ProgressStyle(description_wi…"
      ]
     },
     "metadata": {},
     "output_type": "display_data"
    },
    {
     "name": "stdout",
     "output_type": "stream",
     "text": [
      "\n"
     ]
    },
    {
     "data": {
      "application/vnd.jupyter.widget-view+json": {
       "model_id": "91c084d257784955b9483dab1d3e17e7",
       "version_major": 2,
       "version_minor": 0
      },
      "text/plain": [
       "HBox(children=(IntProgress(value=0, description='Pandas Apply', max=405130, style=ProgressStyle(description_wi…"
      ]
     },
     "metadata": {},
     "output_type": "display_data"
    },
    {
     "name": "stdout",
     "output_type": "stream",
     "text": [
      "\n"
     ]
    },
    {
     "data": {
      "application/vnd.jupyter.widget-view+json": {
       "model_id": "5dae9be8be9e482c83383923823c8cad",
       "version_major": 2,
       "version_minor": 0
      },
      "text/plain": [
       "HBox(children=(IntProgress(value=0, description='Pandas Apply', max=405130, style=ProgressStyle(description_wi…"
      ]
     },
     "metadata": {},
     "output_type": "display_data"
    },
    {
     "name": "stdout",
     "output_type": "stream",
     "text": [
      "\n"
     ]
    },
    {
     "data": {
      "application/vnd.jupyter.widget-view+json": {
       "model_id": "fd1c0ad56ec341d8b95cbf7d808e5b7f",
       "version_major": 2,
       "version_minor": 0
      },
      "text/plain": [
       "HBox(children=(IntProgress(value=0, description='Pandas Apply', max=405130, style=ProgressStyle(description_wi…"
      ]
     },
     "metadata": {},
     "output_type": "display_data"
    },
    {
     "name": "stdout",
     "output_type": "stream",
     "text": [
      "\n"
     ]
    },
    {
     "data": {
      "application/vnd.jupyter.widget-view+json": {
       "model_id": "3c10ca25e2a14f20bd5fe1476b51b839",
       "version_major": 2,
       "version_minor": 0
      },
      "text/plain": [
       "HBox(children=(IntProgress(value=0, description='Pandas Apply', max=405130, style=ProgressStyle(description_wi…"
      ]
     },
     "metadata": {},
     "output_type": "display_data"
    },
    {
     "name": "stdout",
     "output_type": "stream",
     "text": [
      "\n"
     ]
    },
    {
     "data": {
      "application/vnd.jupyter.widget-view+json": {
       "model_id": "5bf2bedcb1164d5199c51e294d03a9e2",
       "version_major": 2,
       "version_minor": 0
      },
      "text/plain": [
       "HBox(children=(IntProgress(value=0, description='Pandas Apply', max=405130, style=ProgressStyle(description_wi…"
      ]
     },
     "metadata": {},
     "output_type": "display_data"
    },
    {
     "name": "stdout",
     "output_type": "stream",
     "text": [
      "\n"
     ]
    },
    {
     "data": {
      "application/vnd.jupyter.widget-view+json": {
       "model_id": "bae40aee55974454a09c8fbe092df8d3",
       "version_major": 2,
       "version_minor": 0
      },
      "text/plain": [
       "HBox(children=(IntProgress(value=0, description='Pandas Apply', max=405130, style=ProgressStyle(description_wi…"
      ]
     },
     "metadata": {},
     "output_type": "display_data"
    },
    {
     "name": "stdout",
     "output_type": "stream",
     "text": [
      "\n"
     ]
    },
    {
     "data": {
      "application/vnd.jupyter.widget-view+json": {
       "model_id": "c2d3a1e78b4e459c989511304530a067",
       "version_major": 2,
       "version_minor": 0
      },
      "text/plain": [
       "HBox(children=(IntProgress(value=0, description='Pandas Apply', max=405130, style=ProgressStyle(description_wi…"
      ]
     },
     "metadata": {},
     "output_type": "display_data"
    },
    {
     "name": "stdout",
     "output_type": "stream",
     "text": [
      "\n"
     ]
    },
    {
     "data": {
      "application/vnd.jupyter.widget-view+json": {
       "model_id": "9449c64c6234449b85aeb7b24cfe239e",
       "version_major": 2,
       "version_minor": 0
      },
      "text/plain": [
       "HBox(children=(IntProgress(value=0, description='Pandas Apply', max=405130, style=ProgressStyle(description_wi…"
      ]
     },
     "metadata": {},
     "output_type": "display_data"
    },
    {
     "name": "stdout",
     "output_type": "stream",
     "text": [
      "\n"
     ]
    },
    {
     "data": {
      "application/vnd.jupyter.widget-view+json": {
       "model_id": "2d20626373164205a295c2a5b3bb3b6f",
       "version_major": 2,
       "version_minor": 0
      },
      "text/plain": [
       "HBox(children=(IntProgress(value=0, description='Pandas Apply', max=405130, style=ProgressStyle(description_wi…"
      ]
     },
     "metadata": {},
     "output_type": "display_data"
    },
    {
     "name": "stdout",
     "output_type": "stream",
     "text": [
      "\n"
     ]
    },
    {
     "data": {
      "application/vnd.jupyter.widget-view+json": {
       "model_id": "36297b16e1804472a11907bc947b05b4",
       "version_major": 2,
       "version_minor": 0
      },
      "text/plain": [
       "HBox(children=(IntProgress(value=0, description='Pandas Apply', max=405130, style=ProgressStyle(description_wi…"
      ]
     },
     "metadata": {},
     "output_type": "display_data"
    },
    {
     "name": "stdout",
     "output_type": "stream",
     "text": [
      "\n"
     ]
    },
    {
     "data": {
      "application/vnd.jupyter.widget-view+json": {
       "model_id": "f28bee2c204f460c8b9f7c40d7cccff1",
       "version_major": 2,
       "version_minor": 0
      },
      "text/plain": [
       "HBox(children=(IntProgress(value=0, description='Pandas Apply', max=405130, style=ProgressStyle(description_wi…"
      ]
     },
     "metadata": {},
     "output_type": "display_data"
    },
    {
     "name": "stdout",
     "output_type": "stream",
     "text": [
      "\n"
     ]
    },
    {
     "data": {
      "application/vnd.jupyter.widget-view+json": {
       "model_id": "7df74b8119e6417189c64964bab41409",
       "version_major": 2,
       "version_minor": 0
      },
      "text/plain": [
       "HBox(children=(IntProgress(value=0, description='Pandas Apply', max=405130, style=ProgressStyle(description_wi…"
      ]
     },
     "metadata": {},
     "output_type": "display_data"
    },
    {
     "name": "stdout",
     "output_type": "stream",
     "text": [
      "\n"
     ]
    },
    {
     "data": {
      "application/vnd.jupyter.widget-view+json": {
       "model_id": "7f80e876414046b79d28a7f245e92e32",
       "version_major": 2,
       "version_minor": 0
      },
      "text/plain": [
       "HBox(children=(IntProgress(value=0, description='Pandas Apply', max=405130, style=ProgressStyle(description_wi…"
      ]
     },
     "metadata": {},
     "output_type": "display_data"
    },
    {
     "name": "stdout",
     "output_type": "stream",
     "text": [
      "\n"
     ]
    },
    {
     "data": {
      "application/vnd.jupyter.widget-view+json": {
       "model_id": "12349ef20d784bcdb999d6a4d3a19db2",
       "version_major": 2,
       "version_minor": 0
      },
      "text/plain": [
       "HBox(children=(IntProgress(value=0, description='Pandas Apply', max=405130, style=ProgressStyle(description_wi…"
      ]
     },
     "metadata": {},
     "output_type": "display_data"
    },
    {
     "name": "stdout",
     "output_type": "stream",
     "text": [
      "\n"
     ]
    },
    {
     "data": {
      "application/vnd.jupyter.widget-view+json": {
       "model_id": "aa4c9b2c44fb44289e3b84bb4a084b58",
       "version_major": 2,
       "version_minor": 0
      },
      "text/plain": [
       "HBox(children=(IntProgress(value=0, description='Pandas Apply', max=405130, style=ProgressStyle(description_wi…"
      ]
     },
     "metadata": {},
     "output_type": "display_data"
    },
    {
     "name": "stdout",
     "output_type": "stream",
     "text": [
      "\n"
     ]
    },
    {
     "data": {
      "application/vnd.jupyter.widget-view+json": {
       "model_id": "cc72f1cc6a0f4c289d2051d18ac6e81c",
       "version_major": 2,
       "version_minor": 0
      },
      "text/plain": [
       "HBox(children=(IntProgress(value=0, description='Pandas Apply', max=405130, style=ProgressStyle(description_wi…"
      ]
     },
     "metadata": {},
     "output_type": "display_data"
    },
    {
     "name": "stdout",
     "output_type": "stream",
     "text": [
      "\n"
     ]
    },
    {
     "data": {
      "application/vnd.jupyter.widget-view+json": {
       "model_id": "0c0d44e76487427083a756efe7176ec5",
       "version_major": 2,
       "version_minor": 0
      },
      "text/plain": [
       "HBox(children=(IntProgress(value=0, description='Pandas Apply', max=405130, style=ProgressStyle(description_wi…"
      ]
     },
     "metadata": {},
     "output_type": "display_data"
    },
    {
     "name": "stdout",
     "output_type": "stream",
     "text": [
      "\n"
     ]
    },
    {
     "data": {
      "application/vnd.jupyter.widget-view+json": {
       "model_id": "7bab2c594c8f4debb70b10faa317bd87",
       "version_major": 2,
       "version_minor": 0
      },
      "text/plain": [
       "HBox(children=(IntProgress(value=0, description='Pandas Apply', max=405130, style=ProgressStyle(description_wi…"
      ]
     },
     "metadata": {},
     "output_type": "display_data"
    },
    {
     "name": "stdout",
     "output_type": "stream",
     "text": [
      "\n"
     ]
    }
   ],
   "source": [
    "features, target = d.clean()"
   ]
  },
  {
   "cell_type": "markdown",
   "metadata": {},
   "source": [
    "## Data exploration"
   ]
  },
  {
   "cell_type": "markdown",
   "metadata": {},
   "source": [
    "In the 'y' dataset, the 'offensive' column measures only whether a comment is offensive. The 'offensive_and_identity' column measures both whether a comment is offensive, and whether if it specifically refers to an identity group. Details regarding these values can be found on the 'data_prep.py' page in the 'target_grouping', 'identities', and 'target' function descriptions."
   ]
  },
  {
   "cell_type": "code",
   "execution_count": 19,
   "metadata": {
    "scrolled": false
   },
   "outputs": [
    {
     "data": {
      "text/html": [
       "<div>\n",
       "<style scoped>\n",
       "    .dataframe tbody tr th:only-of-type {\n",
       "        vertical-align: middle;\n",
       "    }\n",
       "\n",
       "    .dataframe tbody tr th {\n",
       "        vertical-align: top;\n",
       "    }\n",
       "\n",
       "    .dataframe thead th {\n",
       "        text-align: right;\n",
       "    }\n",
       "</style>\n",
       "<table border=\"1\" class=\"dataframe\">\n",
       "  <thead>\n",
       "    <tr style=\"text-align: right;\">\n",
       "      <th></th>\n",
       "      <th>offensive</th>\n",
       "      <th>offensive_and_identity</th>\n",
       "    </tr>\n",
       "  </thead>\n",
       "  <tbody>\n",
       "    <tr>\n",
       "      <th>0</th>\n",
       "      <td>1</td>\n",
       "      <td>3</td>\n",
       "    </tr>\n",
       "    <tr>\n",
       "      <th>1</th>\n",
       "      <td>0</td>\n",
       "      <td>1</td>\n",
       "    </tr>\n",
       "    <tr>\n",
       "      <th>2</th>\n",
       "      <td>1</td>\n",
       "      <td>2</td>\n",
       "    </tr>\n",
       "    <tr>\n",
       "      <th>3</th>\n",
       "      <td>0</td>\n",
       "      <td>0</td>\n",
       "    </tr>\n",
       "    <tr>\n",
       "      <th>4</th>\n",
       "      <td>1</td>\n",
       "      <td>3</td>\n",
       "    </tr>\n",
       "  </tbody>\n",
       "</table>\n",
       "</div>"
      ],
      "text/plain": [
       "   offensive  offensive_and_identity\n",
       "0          1                       3\n",
       "1          0                       1\n",
       "2          1                       2\n",
       "3          0                       0\n",
       "4          1                       3"
      ]
     },
     "execution_count": 19,
     "metadata": {},
     "output_type": "execute_result"
    }
   ],
   "source": [
    "y.head()"
   ]
  },
  {
   "cell_type": "markdown",
   "metadata": {},
   "source": [
    "In the 'X' dataset, the comment_text column contains the cleaned comments written in lower case with punctuation removed."
   ]
  },
  {
   "cell_type": "code",
   "execution_count": 20,
   "metadata": {},
   "outputs": [
    {
     "data": {
      "text/html": [
       "<div>\n",
       "<style scoped>\n",
       "    .dataframe tbody tr th:only-of-type {\n",
       "        vertical-align: middle;\n",
       "    }\n",
       "\n",
       "    .dataframe tbody tr th {\n",
       "        vertical-align: top;\n",
       "    }\n",
       "\n",
       "    .dataframe thead th {\n",
       "        text-align: right;\n",
       "    }\n",
       "</style>\n",
       "<table border=\"1\" class=\"dataframe\">\n",
       "  <thead>\n",
       "    <tr style=\"text-align: right;\">\n",
       "      <th></th>\n",
       "      <th>comment_text</th>\n",
       "    </tr>\n",
       "  </thead>\n",
       "  <tbody>\n",
       "    <tr>\n",
       "      <th>0</th>\n",
       "      <td>haha you guys are a bunch of losers</td>\n",
       "    </tr>\n",
       "    <tr>\n",
       "      <th>1</th>\n",
       "      <td>this is a great story man i wonder if the pers...</td>\n",
       "    </tr>\n",
       "    <tr>\n",
       "      <th>2</th>\n",
       "      <td>angry trolls misogynists and racists oh my it ...</td>\n",
       "    </tr>\n",
       "    <tr>\n",
       "      <th>3</th>\n",
       "      <td>nice to some attempts to try to make comments ...</td>\n",
       "    </tr>\n",
       "    <tr>\n",
       "      <th>4</th>\n",
       "      <td>yet call out all muslims for the acts of a few...</td>\n",
       "    </tr>\n",
       "  </tbody>\n",
       "</table>\n",
       "</div>"
      ],
      "text/plain": [
       "                                        comment_text\n",
       "0                haha you guys are a bunch of losers\n",
       "1  this is a great story man i wonder if the pers...\n",
       "2  angry trolls misogynists and racists oh my it ...\n",
       "3  nice to some attempts to try to make comments ...\n",
       "4  yet call out all muslims for the acts of a few..."
      ]
     },
     "execution_count": 20,
     "metadata": {},
     "output_type": "execute_result"
    }
   ],
   "source": [
    "X.head()"
   ]
  },
  {
   "cell_type": "markdown",
   "metadata": {},
   "source": [
    "Before splitting the data, we'll verify that the datasets are equal and that no values are null."
   ]
  },
  {
   "cell_type": "code",
   "execution_count": 21,
   "metadata": {
    "scrolled": true
   },
   "outputs": [
    {
     "name": "stdout",
     "output_type": "stream",
     "text": [
      "<class 'pandas.core.frame.DataFrame'>\n",
      "RangeIndex: 405109 entries, 0 to 405108\n",
      "Data columns (total 2 columns):\n",
      "offensive                 405109 non-null int8\n",
      "offensive_and_identity    405109 non-null int8\n",
      "dtypes: int8(2)\n",
      "memory usage: 791.3 KB\n",
      "None\n",
      "<class 'pandas.core.frame.DataFrame'>\n",
      "RangeIndex: 405109 entries, 0 to 405108\n",
      "Data columns (total 1 columns):\n",
      "comment_text    405109 non-null object\n",
      "dtypes: object(1)\n",
      "memory usage: 3.1+ MB\n",
      "None\n"
     ]
    }
   ],
   "source": [
    "print(y.info())\n",
    "print(X.info())"
   ]
  },
  {
   "cell_type": "markdown",
   "metadata": {},
   "source": [
    "Since the datasets are equal and free of null values, we will move forward with the first model."
   ]
  },
  {
   "cell_type": "markdown",
   "metadata": {},
   "source": [
    "## Initial Logistic Regression Model"
   ]
  },
  {
   "cell_type": "markdown",
   "metadata": {},
   "source": [
    "First, we split the data into a 67% training set and a 33% test set in preparation for the initial model. This function will also stratify the test data to ensure target value proportionality. For this model, we will only be predicting whether each comment is offensive, not identity subject matter."
   ]
  },
  {
   "cell_type": "code",
   "execution_count": 3,
   "metadata": {},
   "outputs": [],
   "source": [
    "X_train, X_test, y_train, y_test = f.train_test(X, y['offensive'])"
   ]
  },
  {
   "cell_type": "markdown",
   "metadata": {},
   "source": [
    "We then create a CountVectorizer model with 6000 words and 1-3 n-grams, fit it with the training data, and use it to transform both the training and the test data. I am choosing 6000 words because through gridsearching, I have found this parameter to maximize information gained while minimizing dataset noise."
   ]
  },
  {
   "cell_type": "code",
   "execution_count": 4,
   "metadata": {
    "scrolled": true
   },
   "outputs": [],
   "source": [
    "vectorizer, train_features, test_features = f.vectorize_initial(X_train,\n",
    "                                                                X_test)"
   ]
  },
  {
   "cell_type": "markdown",
   "metadata": {},
   "source": [
    "We use GridSearch to find the best C parameter, and then we use it to perform a logistic regression on the vectorized data."
   ]
  },
  {
   "cell_type": "code",
   "execution_count": 5,
   "metadata": {},
   "outputs": [
    {
     "name": "stdout",
     "output_type": "stream",
     "text": [
      "Best C: 1\n"
     ]
    }
   ],
   "source": [
    "f.log_gridsearch(train_features, y_train)"
   ]
  },
  {
   "cell_type": "code",
   "execution_count": 6,
   "metadata": {},
   "outputs": [],
   "source": [
    "logmodel = f.logreg(train_features, y_train, c_val=1)"
   ]
  },
  {
   "cell_type": "markdown",
   "metadata": {},
   "source": [
    "We will now use the model to predict the test values, create a confusion matrix demonstrating the results, and determine the accuracy and the F1 scores.\n",
    "\n",
    "Given the potential biases inherent in misclassifying 'inoffensive' comments as 'offensive', I have also created a cost function to determine model efficacy. This model is defined as such:\n",
    "- Correct 'inoffensive' prediction: 0.0005 points subtracted per instance.\n",
    "- Incorrect 'inoffensive' prediction: one point gained per instance.\n",
    "- Correct 'offensive' prediction: two points subtracted per instance.\n",
    "- Incorrect 'offensive' prediction: four points gained per instance."
   ]
  },
  {
   "cell_type": "code",
   "execution_count": 54,
   "metadata": {
    "scrolled": false
   },
   "outputs": [
    {
     "name": "stdout",
     "output_type": "stream",
     "text": [
      "Confusion matrix, without normalization\n",
      "Test Accuracy score:  0.9018670616220098\n",
      "Test F1 score:  0.5040263128048089\n",
      "Test Cost Function Score:  12996.495\n"
     ]
    },
    {
     "data": {
      "image/png": "[encoded data removed]",
      "text/plain": [
       "<Figure size 432x288 with 2 Axes>"
      ]
     },
     "metadata": {
      "needs_background": "light"
     },
     "output_type": "display_data"
    }
   ],
   "source": [
    "f.logreg_cm(logmodel, test_features, y_test, cm_labels=['Good', 'Bad'])"
   ]
  },
  {
   "cell_type": "markdown",
   "metadata": {},
   "source": [
    "Although the accuracy is high, this is largely due to the imbalance between the offensive and non-offensive comments. The F1 score, while a better signifier, does not recognize the disproportionate cost of incorrectly-banned inoffensive comments. The cost function scores will better reflect our model's performance.\n",
    "\n",
    "In order to see how the model predicts comments involving identity groups, we will run the same test, using only the portion of the test section with identity comments."
   ]
  },
  {
   "cell_type": "code",
   "execution_count": 56,
   "metadata": {
    "scrolled": true
   },
   "outputs": [
    {
     "name": "stdout",
     "output_type": "stream",
     "text": [
      "Confusion matrix, without normalization\n",
      "Test Accuracy score:  0.8727282481859517\n",
      "Test F1 score:  0.4937309929040175\n",
      "Test Cost Function Score:  8557.795\n"
     ]
    },
    {
     "data": {
      "image/png": "[encoded data removed]",
      "text/plain": [
       "<Figure size 432x288 with 2 Axes>"
      ]
     },
     "metadata": {
      "needs_background": "light"
     },
     "output_type": "display_data"
    }
   ],
   "source": [
    "group_features, y_group = f.test_data_group(vectorizer, y_test, X, y)\n",
    "f.logreg_cm(logmodel, group_features, y_group, cm_labels=['Good', 'Bad'])"
   ]
  },
  {
   "cell_type": "markdown",
   "metadata": {},
   "source": [
    "In this instance, while the model still misclassifies a larger quantity of offensive comments than it correctly classifies, our main concern is the nearly 3000 inoffensive group comments that are incorrectly blocked\n",
    "\n",
    "Moving forward, the cost function scores for both the overall test sections and the group test sections will be our baseline scores. However, for purposes of simplicity, we will use the F1 score to estimate the best model "
   ]
  },
  {
   "cell_type": "markdown",
   "metadata": {},
   "source": [
    "## Keras Multinary Deep-Learning Model"
   ]
  },
  {
   "cell_type": "markdown",
   "metadata": {},
   "source": [
    "In order to reduce false 'offensive' flags on non-offensive identity group comments, we would like our next model to recognize which comments are 'identity group' comments and which aren't. In order to build a model that is better able to distinguish between group and non-group comments, we're going to make two changes.\n",
    "\n",
    "First, we will use the multinary label describing both comment offensiveness and identity group content. Second, we are going to incorporate a Keras deep-learning model, instead of using a simple logistic regression."
   ]
  },
  {
   "cell_type": "markdown",
   "metadata": {},
   "source": [
    "Our first step is to create a tokenized list of the 6000 most common words from the entire dataset, convert these to an array of matrices, and convert each the tokenized comment texts to lists using these binary matrices. We will also one-hot encode the target variable."
   ]
  },
  {
   "cell_type": "code",
   "execution_count": 5,
   "metadata": {},
   "outputs": [],
   "source": [
    "one_hot_results, target_onehot = f.tokenizer_onehot(X, y)"
   ]
  },
  {
   "cell_type": "markdown",
   "metadata": {},
   "source": [
    "In order to avoid overfitting our model to the prior test set, we will create new train and test sets. We will then use the test dataset index to separate the comment text and one-hot encoded target variables into training and test sets."
   ]
  },
  {
   "cell_type": "code",
   "execution_count": 6,
   "metadata": {},
   "outputs": [],
   "source": [
    "X_train, X_test, y_train, y_test = f.train_test(X,\n",
    "                                                y['offensive_and_identity'],\n",
    "                                                rs=24)\n",
    "train, label_train, test, label_test = f.keras_prep(one_hot_results,\n",
    "                                                    target_onehot, X_test)"
   ]
  },
  {
   "cell_type": "markdown",
   "metadata": {},
   "source": [
    "Next, we will use the training data to fit a sequential Keras model. This model will contain five layers. For purposes of efficiency, the first four layers will use reLU to refine the 6000-word input to 50 variable estimations. Since the target will consist of four classifications, we will use softmax instead of sigmoid for the final layer.\n",
    "\n",
    "We will use a 0.2 dropout between each layer to prevent overfitting. In addition, we will use 20% of the training model as a validation split."
   ]
  },
  {
   "cell_type": "code",
   "execution_count": 15,
   "metadata": {},
   "outputs": [
    {
     "name": "stdout",
     "output_type": "stream",
     "text": [
      "Train on 217138 samples, validate on 54285 samples\n",
      "Epoch 1/50\n",
      "217138/217138 [==============================] - 33s 152us/step - loss: 1.0315 - f1_score: 0.3481 - val_loss: 0.9572 - val_f1_score: 0.5431\n",
      "Epoch 2/50\n",
      "217138/217138 [==============================] - 32s 148us/step - loss: 0.9051 - f1_score: 0.5874 - val_loss: 0.7954 - val_f1_score: 0.6962\n",
      "Epoch 3/50\n",
      "217138/217138 [==============================] - 32s 148us/step - loss: 0.7945 - f1_score: 0.6858 - val_loss: 0.6956 - val_f1_score: 0.7485\n",
      "Epoch 4/50\n",
      "217138/217138 [==============================] - 32s 148us/step - loss: 0.7397 - f1_score: 0.7194 - val_loss: 0.6642 - val_f1_score: 0.7577\n",
      "Epoch 5/50\n",
      "217138/217138 [==============================] - 32s 148us/step - loss: 0.7098 - f1_score: 0.7344 - val_loss: 0.6353 - val_f1_score: 0.7676\n",
      "Epoch 6/50\n",
      "217138/217138 [==============================] - 32s 148us/step - loss: 0.6897 - f1_score: 0.7429 - val_loss: 0.6139 - val_f1_score: 0.7736\n",
      "Epoch 7/50\n",
      "217138/217138 [==============================] - 32s 149us/step - loss: 0.6740 - f1_score: 0.7488 - val_loss: 0.5969 - val_f1_score: 0.7786\n",
      "Epoch 8/50\n",
      "217138/217138 [==============================] - 32s 148us/step - loss: 0.6622 - f1_score: 0.7530 - val_loss: 0.5844 - val_f1_score: 0.7810\n",
      "Epoch 9/50\n",
      "217138/217138 [==============================] - 32s 148us/step - loss: 0.6506 - f1_score: 0.7569 - val_loss: 0.5780 - val_f1_score: 0.7803\n",
      "Epoch 10/50\n",
      "217138/217138 [==============================] - 32s 149us/step - loss: 0.6430 - f1_score: 0.7586 - val_loss: 0.5685 - val_f1_score: 0.7829\n",
      "Epoch 11/50\n",
      "217138/217138 [==============================] - 32s 148us/step - loss: 0.6321 - f1_score: 0.7612 - val_loss: 0.5531 - val_f1_score: 0.7899\n",
      "Epoch 12/50\n",
      "217138/217138 [==============================] - 32s 149us/step - loss: 0.6251 - f1_score: 0.7639 - val_loss: 0.5456 - val_f1_score: 0.7923\n",
      "Epoch 13/50\n",
      "217138/217138 [==============================] - 32s 148us/step - loss: 0.6172 - f1_score: 0.7657 - val_loss: 0.5402 - val_f1_score: 0.7931\n",
      "Epoch 14/50\n",
      "217138/217138 [==============================] - 32s 148us/step - loss: 0.6110 - f1_score: 0.7678 - val_loss: 0.5305 - val_f1_score: 0.7972\n",
      "Epoch 15/50\n",
      "217138/217138 [==============================] - 32s 147us/step - loss: 0.6025 - f1_score: 0.7703 - val_loss: 0.5251 - val_f1_score: 0.7989\n",
      "Epoch 16/50\n",
      "217138/217138 [==============================] - 32s 149us/step - loss: 0.5952 - f1_score: 0.7731 - val_loss: 0.5193 - val_f1_score: 0.8001\n",
      "Epoch 17/50\n",
      "217138/217138 [==============================] - 32s 149us/step - loss: 0.5895 - f1_score: 0.7746 - val_loss: 0.5134 - val_f1_score: 0.8037\n",
      "Epoch 18/50\n",
      "217138/217138 [==============================] - 33s 150us/step - loss: 0.5866 - f1_score: 0.7756 - val_loss: 0.5104 - val_f1_score: 0.8042\n",
      "Epoch 19/50\n",
      "217138/217138 [==============================] - 32s 148us/step - loss: 0.5793 - f1_score: 0.7783 - val_loss: 0.5083 - val_f1_score: 0.8046\n",
      "Epoch 20/50\n",
      "217138/217138 [==============================] - 32s 148us/step - loss: 0.5740 - f1_score: 0.7802 - val_loss: 0.5026 - val_f1_score: 0.8079\n",
      "Epoch 21/50\n",
      "217138/217138 [==============================] - 32s 148us/step - loss: 0.5696 - f1_score: 0.7813 - val_loss: 0.4987 - val_f1_score: 0.8087\n",
      "Epoch 22/50\n",
      "217138/217138 [==============================] - 32s 148us/step - loss: 0.5643 - f1_score: 0.7837 - val_loss: 0.4998 - val_f1_score: 0.8076\n",
      "Epoch 23/50\n",
      "217138/217138 [==============================] - 32s 148us/step - loss: 0.5609 - f1_score: 0.7854 - val_loss: 0.4943 - val_f1_score: 0.8105\n",
      "Epoch 24/50\n",
      "217138/217138 [==============================] - 32s 149us/step - loss: 0.5542 - f1_score: 0.7883 - val_loss: 0.4938 - val_f1_score: 0.8113\n",
      "Epoch 25/50\n",
      "217138/217138 [==============================] - 32s 148us/step - loss: 0.5486 - f1_score: 0.7901 - val_loss: 0.4902 - val_f1_score: 0.8128\n",
      "Epoch 26/50\n",
      "217138/217138 [==============================] - 32s 148us/step - loss: 0.5466 - f1_score: 0.7908 - val_loss: 0.4902 - val_f1_score: 0.8138\n",
      "Epoch 27/50\n",
      "217138/217138 [==============================] - 32s 148us/step - loss: 0.5428 - f1_score: 0.7927 - val_loss: 0.4909 - val_f1_score: 0.8134\n",
      "Epoch 28/50\n",
      "217138/217138 [==============================] - 32s 148us/step - loss: 0.5392 - f1_score: 0.7954 - val_loss: 0.4881 - val_f1_score: 0.8145\n",
      "Epoch 29/50\n",
      "217138/217138 [==============================] - 32s 149us/step - loss: 0.5360 - f1_score: 0.7957 - val_loss: 0.4918 - val_f1_score: 0.8136\n",
      "Epoch 30/50\n",
      "217138/217138 [==============================] - 32s 148us/step - loss: 0.5314 - f1_score: 0.7967 - val_loss: 0.4871 - val_f1_score: 0.8155\n",
      "Epoch 31/50\n",
      "217138/217138 [==============================] - 32s 148us/step - loss: 0.5277 - f1_score: 0.7988 - val_loss: 0.4876 - val_f1_score: 0.8158\n",
      "Epoch 32/50\n",
      "217138/217138 [==============================] - 32s 149us/step - loss: 0.5237 - f1_score: 0.8003 - val_loss: 0.4856 - val_f1_score: 0.8162\n",
      "Epoch 33/50\n",
      "217138/217138 [==============================] - 32s 148us/step - loss: 0.5189 - f1_score: 0.8024 - val_loss: 0.4870 - val_f1_score: 0.8158\n",
      "Epoch 34/50\n",
      "217138/217138 [==============================] - 32s 149us/step - loss: 0.5167 - f1_score: 0.8039 - val_loss: 0.4872 - val_f1_score: 0.8163\n",
      "Epoch 35/50\n",
      "217138/217138 [==============================] - 32s 150us/step - loss: 0.5127 - f1_score: 0.8047 - val_loss: 0.4913 - val_f1_score: 0.8141\n",
      "Epoch 36/50\n",
      "217138/217138 [==============================] - 32s 148us/step - loss: 0.5084 - f1_score: 0.8076 - val_loss: 0.4856 - val_f1_score: 0.8159\n",
      "Epoch 37/50\n",
      "217138/217138 [==============================] - 32s 149us/step - loss: 0.5062 - f1_score: 0.8073 - val_loss: 0.4861 - val_f1_score: 0.8166\n",
      "Epoch 38/50\n",
      "217138/217138 [==============================] - 32s 148us/step - loss: 0.5022 - f1_score: 0.8097 - val_loss: 0.4880 - val_f1_score: 0.8165\n",
      "Epoch 39/50\n",
      "217138/217138 [==============================] - 32s 149us/step - loss: 0.4974 - f1_score: 0.8100 - val_loss: 0.4872 - val_f1_score: 0.8157\n",
      "Epoch 40/50\n",
      "217138/217138 [==============================] - 32s 149us/step - loss: 0.4943 - f1_score: 0.8118 - val_loss: 0.4904 - val_f1_score: 0.8144\n",
      "Epoch 41/50\n",
      "217138/217138 [==============================] - 32s 149us/step - loss: 0.4898 - f1_score: 0.8134 - val_loss: 0.4906 - val_f1_score: 0.8154\n",
      "Epoch 42/50\n",
      "217138/217138 [==============================] - 32s 148us/step - loss: 0.4875 - f1_score: 0.8153 - val_loss: 0.4889 - val_f1_score: 0.8161\n",
      "Epoch 43/50\n",
      "217138/217138 [==============================] - 32s 148us/step - loss: 0.4839 - f1_score: 0.8165 - val_loss: 0.4914 - val_f1_score: 0.8155\n",
      "Epoch 44/50\n",
      "217138/217138 [==============================] - 32s 148us/step - loss: 0.4767 - f1_score: 0.8197 - val_loss: 0.4918 - val_f1_score: 0.8150\n",
      "Epoch 45/50\n",
      "217138/217138 [==============================] - 32s 149us/step - loss: 0.4733 - f1_score: 0.8209 - val_loss: 0.4956 - val_f1_score: 0.8142\n",
      "Epoch 46/50\n",
      "217138/217138 [==============================] - 32s 149us/step - loss: 0.4683 - f1_score: 0.8229 - val_loss: 0.4965 - val_f1_score: 0.8125\n",
      "Epoch 47/50\n",
      "217138/217138 [==============================] - 32s 148us/step - loss: 0.4635 - f1_score: 0.8252 - val_loss: 0.4975 - val_f1_score: 0.8135\n",
      "Epoch 48/50\n",
      "217138/217138 [==============================] - 32s 149us/step - loss: 0.4608 - f1_score: 0.8260 - val_loss: 0.4967 - val_f1_score: 0.8135\n",
      "Epoch 49/50\n",
      "217138/217138 [==============================] - 32s 148us/step - loss: 0.4553 - f1_score: 0.8280 - val_loss: 0.4992 - val_f1_score: 0.8126\n",
      "Epoch 50/50\n",
      "217138/217138 [==============================] - 32s 147us/step - loss: 0.4497 - f1_score: 0.8306 - val_loss: 0.5002 - val_f1_score: 0.8112\n"
     ]
    }
   ],
   "source": [
    "model, results = f.keras_model(train, label_train, epoch=50)"
   ]
  },
  {
   "cell_type": "markdown",
   "metadata": {},
   "source": [
    "To determine whether the model is overfitting, we will plot the entropy loss and the F1 scores for both the train and validation samples at each epoch."
   ]
  },
  {
   "cell_type": "code",
   "execution_count": 16,
   "metadata": {},
   "outputs": [
    {
     "data": {
      "image/png": "[encoded data removed]",
      "text/plain": [
       "<Figure size 432x288 with 1 Axes>"
      ]
     },
     "metadata": {},
     "output_type": "display_data"
    },
    {
     "data": {
      "image/png": "[encoded data removed]",
      "text/plain": [
       "<Figure size 432x288 with 1 Axes>"
      ]
     },
     "metadata": {},
     "output_type": "display_data"
    }
   ],
   "source": [
    "f.visualize_training_results(results)"
   ]
  },
  {
   "cell_type": "markdown",
   "metadata": {},
   "source": [
    "We can determine from the graph that at epoch 40, the training dataset's entropy loss surpasses that of the validation dataset. Similarly, the F1-scores for the training and validation intersect at roughly the same point. This indicates that after epoch 40, the model has begun to overfit. We will repeat this model using only 40 epochs."
   ]
  },
  {
   "cell_type": "code",
   "execution_count": 18,
   "metadata": {},
   "outputs": [
    {
     "name": "stdout",
     "output_type": "stream",
     "text": [
      "Train on 217138 samples, validate on 54285 samples\n",
      "Epoch 1/40\n",
      "217138/217138 [==============================] - 34s 154us/step - loss: 1.0382 - f1_score: 0.3230 - val_loss: 0.9720 - val_f1_score: 0.5131\n",
      "Epoch 2/40\n",
      "217138/217138 [==============================] - 33s 152us/step - loss: 0.9256 - f1_score: 0.5630 - val_loss: 0.8194 - val_f1_score: 0.6837\n",
      "Epoch 3/40\n",
      "217138/217138 [==============================] - 33s 152us/step - loss: 0.8094 - f1_score: 0.6769 - val_loss: 0.7070 - val_f1_score: 0.7433\n",
      "Epoch 4/40\n",
      "217138/217138 [==============================] - 33s 151us/step - loss: 0.7463 - f1_score: 0.7170 - val_loss: 0.6623 - val_f1_score: 0.7604\n",
      "Epoch 5/40\n",
      "217138/217138 [==============================] - 33s 152us/step - loss: 0.7151 - f1_score: 0.7323 - val_loss: 0.6339 - val_f1_score: 0.7687\n",
      "Epoch 6/40\n",
      "217138/217138 [==============================] - 33s 152us/step - loss: 0.6932 - f1_score: 0.7416 - val_loss: 0.6154 - val_f1_score: 0.7728\n",
      "Epoch 7/40\n",
      "217138/217138 [==============================] - 33s 152us/step - loss: 0.6764 - f1_score: 0.7470 - val_loss: 0.5938 - val_f1_score: 0.7806\n",
      "Epoch 8/40\n",
      "217138/217138 [==============================] - 33s 153us/step - loss: 0.6626 - f1_score: 0.7528 - val_loss: 0.5822 - val_f1_score: 0.7828\n",
      "Epoch 9/40\n",
      "217138/217138 [==============================] - 33s 152us/step - loss: 0.6518 - f1_score: 0.7554 - val_loss: 0.5719 - val_f1_score: 0.7852\n",
      "Epoch 10/40\n",
      "217138/217138 [==============================] - 33s 151us/step - loss: 0.6430 - f1_score: 0.7580 - val_loss: 0.5629 - val_f1_score: 0.7861\n",
      "Epoch 11/40\n",
      "217138/217138 [==============================] - 33s 151us/step - loss: 0.6351 - f1_score: 0.7599 - val_loss: 0.5544 - val_f1_score: 0.7895\n",
      "Epoch 12/40\n",
      "217138/217138 [==============================] - 33s 151us/step - loss: 0.6250 - f1_score: 0.7642 - val_loss: 0.5440 - val_f1_score: 0.7938\n",
      "Epoch 13/40\n",
      "217138/217138 [==============================] - 33s 152us/step - loss: 0.6175 - f1_score: 0.7656 - val_loss: 0.5370 - val_f1_score: 0.7971\n",
      "Epoch 14/40\n",
      "217138/217138 [==============================] - 33s 153us/step - loss: 0.6104 - f1_score: 0.7680 - val_loss: 0.5321 - val_f1_score: 0.7978\n",
      "Epoch 15/40\n",
      "217138/217138 [==============================] - 33s 151us/step - loss: 0.6027 - f1_score: 0.7707 - val_loss: 0.5254 - val_f1_score: 0.8016\n",
      "Epoch 16/40\n",
      "217138/217138 [==============================] - 33s 152us/step - loss: 0.5976 - f1_score: 0.7720 - val_loss: 0.5205 - val_f1_score: 0.8030\n",
      "Epoch 17/40\n",
      "217138/217138 [==============================] - 33s 152us/step - loss: 0.5912 - f1_score: 0.7742 - val_loss: 0.5150 - val_f1_score: 0.8047\n",
      "Epoch 18/40\n",
      "217138/217138 [==============================] - 33s 152us/step - loss: 0.5841 - f1_score: 0.7764 - val_loss: 0.5096 - val_f1_score: 0.8074\n",
      "Epoch 19/40\n",
      "217138/217138 [==============================] - 33s 153us/step - loss: 0.5783 - f1_score: 0.7795 - val_loss: 0.5073 - val_f1_score: 0.8078\n",
      "Epoch 20/40\n",
      "217138/217138 [==============================] - 32s 150us/step - loss: 0.5758 - f1_score: 0.7795 - val_loss: 0.5038 - val_f1_score: 0.8078\n",
      "Epoch 21/40\n",
      "217138/217138 [==============================] - 32s 149us/step - loss: 0.5695 - f1_score: 0.7814 - val_loss: 0.5000 - val_f1_score: 0.8098\n",
      "Epoch 22/40\n",
      "217138/217138 [==============================] - 32s 149us/step - loss: 0.5641 - f1_score: 0.7838 - val_loss: 0.4977 - val_f1_score: 0.8110\n",
      "Epoch 23/40\n",
      "217138/217138 [==============================] - 32s 149us/step - loss: 0.5599 - f1_score: 0.7852 - val_loss: 0.4941 - val_f1_score: 0.8118\n",
      "Epoch 24/40\n",
      "217138/217138 [==============================] - 32s 148us/step - loss: 0.5554 - f1_score: 0.7872 - val_loss: 0.4925 - val_f1_score: 0.8122\n",
      "Epoch 25/40\n",
      "217138/217138 [==============================] - 32s 149us/step - loss: 0.5522 - f1_score: 0.7887 - val_loss: 0.4913 - val_f1_score: 0.8125\n",
      "Epoch 26/40\n",
      "217138/217138 [==============================] - 32s 149us/step - loss: 0.5478 - f1_score: 0.7911 - val_loss: 0.4912 - val_f1_score: 0.8136\n",
      "Epoch 27/40\n",
      "217138/217138 [==============================] - 33s 150us/step - loss: 0.5437 - f1_score: 0.7926 - val_loss: 0.4894 - val_f1_score: 0.8144\n",
      "Epoch 28/40\n",
      "217138/217138 [==============================] - 33s 153us/step - loss: 0.5406 - f1_score: 0.7933 - val_loss: 0.4887 - val_f1_score: 0.8148\n",
      "Epoch 29/40\n",
      "217138/217138 [==============================] - 33s 153us/step - loss: 0.5365 - f1_score: 0.7941 - val_loss: 0.4874 - val_f1_score: 0.8152\n",
      "Epoch 30/40\n",
      "217138/217138 [==============================] - 33s 154us/step - loss: 0.5328 - f1_score: 0.7969 - val_loss: 0.4869 - val_f1_score: 0.8153\n",
      "Epoch 31/40\n",
      "217138/217138 [==============================] - 33s 151us/step - loss: 0.5302 - f1_score: 0.7969 - val_loss: 0.4871 - val_f1_score: 0.8153\n",
      "Epoch 32/40\n",
      "217138/217138 [==============================] - 33s 152us/step - loss: 0.5237 - f1_score: 0.8007 - val_loss: 0.4863 - val_f1_score: 0.8159\n",
      "Epoch 33/40\n",
      "217138/217138 [==============================] - 33s 151us/step - loss: 0.5211 - f1_score: 0.8015 - val_loss: 0.4869 - val_f1_score: 0.8153\n",
      "Epoch 34/40\n",
      "217138/217138 [==============================] - 33s 153us/step - loss: 0.5169 - f1_score: 0.8031 - val_loss: 0.4869 - val_f1_score: 0.8157\n",
      "Epoch 35/40\n",
      "217138/217138 [==============================] - 33s 153us/step - loss: 0.5132 - f1_score: 0.8041 - val_loss: 0.4852 - val_f1_score: 0.8169\n",
      "Epoch 36/40\n",
      "217138/217138 [==============================] - 33s 153us/step - loss: 0.5107 - f1_score: 0.8053 - val_loss: 0.4860 - val_f1_score: 0.8167\n",
      "Epoch 37/40\n",
      "217138/217138 [==============================] - 33s 152us/step - loss: 0.5083 - f1_score: 0.8066 - val_loss: 0.4855 - val_f1_score: 0.8167\n",
      "Epoch 38/40\n",
      "217138/217138 [==============================] - 33s 152us/step - loss: 0.5053 - f1_score: 0.8084 - val_loss: 0.4930 - val_f1_score: 0.8156\n",
      "Epoch 39/40\n",
      "217138/217138 [==============================] - 33s 152us/step - loss: 0.5001 - f1_score: 0.8100 - val_loss: 0.4876 - val_f1_score: 0.8165\n",
      "Epoch 40/40\n",
      "217138/217138 [==============================] - 33s 152us/step - loss: 0.4958 - f1_score: 0.8114 - val_loss: 0.4884 - val_f1_score: 0.8160\n"
     ]
    }
   ],
   "source": [
    "model, results = f.keras_model(train, label_train, epoch=40)"
   ]
  },
  {
   "cell_type": "code",
   "execution_count": 19,
   "metadata": {},
   "outputs": [
    {
     "data": {
      "image/png": "[encoded data removed]",
      "text/plain": [
       "<Figure size 432x288 with 1 Axes>"
      ]
     },
     "metadata": {},
     "output_type": "display_data"
    },
    {
     "data": {
      "image/png": "[encoded data removed]",
      "text/plain": [
       "<Figure size 432x288 with 1 Axes>"
      ]
     },
     "metadata": {},
     "output_type": "display_data"
    }
   ],
   "source": [
    "f.visualize_training_results(results)"
   ]
  },
  {
   "cell_type": "markdown",
   "metadata": {},
   "source": [
    "We can see that in this model, the training and validation datasets don't diverge with respect to either their entropy loss or their F1-scores, indicating that we have minimized overfitting. We will now use this model to evaluate both the training and the test datasets."
   ]
  },
  {
   "cell_type": "code",
   "execution_count": 20,
   "metadata": {},
   "outputs": [
    {
     "name": "stdout",
     "output_type": "stream",
     "text": [
      "271423/271423 [==============================] - 26s 94us/step\n",
      "Training Entrpy Loss: 0.37208294095771705\n",
      "Training F1-Score: 0.8630973696708679\n"
     ]
    }
   ],
   "source": [
    "f.model_evaluate(model, train, label_train, dataset='Training')"
   ]
  },
  {
   "cell_type": "code",
   "execution_count": 21,
   "metadata": {},
   "outputs": [
    {
     "name": "stdout",
     "output_type": "stream",
     "text": [
      "133686/133686 [==============================] - 12s 93us/step\n",
      "Test Entrpy Loss: 0.480229877409315\n",
      "Test F1-Score: 0.8201864957809448\n"
     ]
    }
   ],
   "source": [
    "f.model_evaluate(model, test, label_test, dataset='Test')"
   ]
  },
  {
   "cell_type": "markdown",
   "metadata": {},
   "source": [
    "Our test F1-score has increased significantly. In order to fully understand this improvement, we will transform the target predictions and target labels into arrays. Then, we will create a confusion matrix of the results."
   ]
  },
  {
   "cell_type": "code",
   "execution_count": 69,
   "metadata": {},
   "outputs": [],
   "source": [
    "y_pred_classes, multi_label_test = f.prediction_keras(model, test, y_test)"
   ]
  },
  {
   "cell_type": "code",
   "execution_count": 55,
   "metadata": {
    "scrolled": false
   },
   "outputs": [
    {
     "name": "stdout",
     "output_type": "stream",
     "text": [
      "Confusion matrix, without normalization\n"
     ]
    },
    {
     "data": {
      "image/png": "[encoded data removed]",
      "text/plain": [
       "<Figure size 432x288 with 2 Axes>"
      ]
     },
     "metadata": {},
     "output_type": "display_data"
    }
   ],
   "source": [
    "f.confusion_keras(y_pred_classes, multi_label_test)"
   ]
  },
  {
   "cell_type": "markdown",
   "metadata": {},
   "source": [
    "The model shows excellent ability to distinguish between inoffensive non-group comments and inoffensive group comments, indicating a capacity to (at least somewhat) recognize group content. Likewise, when it correctly categorizes comments as offensive, it can usually determine whether they contain group content or not. However, we can still see a significant number of misclassifications. In order to determine the overall cost, we will convert these scores back to the original binary 'offensive/inoffensive' score, and use the custom cost function created earlier."
   ]
  },
  {
   "cell_type": "code",
   "execution_count": 56,
   "metadata": {},
   "outputs": [
    {
     "data": {
      "text/plain": [
       "6812.997"
      ]
     },
     "execution_count": 56,
     "metadata": {},
     "output_type": "execute_result"
    }
   ],
   "source": [
    "f.cost_function(multi_label_test, y_pred_classes, multinary=True)"
   ]
  },
  {
   "cell_type": "markdown",
   "metadata": {},
   "source": [
    "Given that the cost incurred by the original model was 12996.495, this model reduces the overall cost by nearly half. \n",
    "\n",
    "To isolate the effect on 'group' comments, we will create test datasets using only the 'group identity' comments within the original Keras test dataset, use this model to create target predictions, convert these to the original binary 'offensive/inoffensive' score, and evaluate the results using the custom cost function."
   ]
  },
  {
   "cell_type": "code",
   "execution_count": 74,
   "metadata": {},
   "outputs": [
    {
     "data": {
      "text/plain": [
       "5767.3265"
      ]
     },
     "execution_count": 74,
     "metadata": {},
     "output_type": "execute_result"
    }
   ],
   "source": [
    "f.final_score(X_test, y_test, one_hot_results, target_onehot, model)"
   ]
  },
  {
   "cell_type": "markdown",
   "metadata": {},
   "source": [
    "The cost, as applied only to 'group identity' comments, has decreased from 8557.795 to 5767.3265, indicating that the overall cost for 'group identity' comments has decreased significantly.\n",
    "\n",
    "Based on these results, we can determine that the deep-learning model that uses both 'identity' and 'offensiveness' as a target drastically reduces false 'offensive' classifications, without a drastic decrease in either true 'offensive' or 'inoffensive' classifications. Likewise, it does not cause a drastic increase in false 'inoffensive' classifications."
   ]
  }
 ],
 "metadata": {
  "kernelspec": {
   "display_name": "Python 3",
   "language": "python",
   "name": "python3"
  },
  "language_info": {
   "codemirror_mode": {
    "name": "ipython",
    "version": 3
   },
   "file_extension": ".py",
   "mimetype": "text/x-python",
   "name": "python",
   "nbconvert_exporter": "python",
   "pygments_lexer": "ipython3",
   "version": "3.7.3"
  }
 },
 "nbformat": 4,
 "nbformat_minor": 2
}
